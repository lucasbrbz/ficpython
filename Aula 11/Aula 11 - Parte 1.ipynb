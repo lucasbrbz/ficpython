{
 "cells": [
  {
   "cell_type": "markdown",
   "metadata": {},
   "source": [
    "#  Introdução ao Python\n",
    "## Professor: Luiz Ferreira"
   ]
  },
  {
   "cell_type": "markdown",
   "metadata": {},
   "source": [
    "## Módulo 3\n",
    "\n",
    "### Python para Mobile"
   ]
  },
  {
   "cell_type": "markdown",
   "metadata": {},
   "source": [
    "_____________"
   ]
  },
  {
   "cell_type": "markdown",
   "metadata": {},
   "source": [
    "## Aplicativos para smartphone são uma tendência"
   ]
  },
  {
   "cell_type": "markdown",
   "metadata": {},
   "source": [
    "Podemos utilizar a análise de dados para nos localizar nesse mundo de tecnologia de telefonia móvel, que há tempos deixou de ser apenas isso e se estabeleceu como um recurso facilitador de necessidades para as pessoas do século 21. \n",
    "\n",
    "http://www.apptrace.com/google/charts/BRA/appstopgrossing/36 - Aqui temos algumas análises de como anda o mercado de aplicativos para dispositivos móveis (que, convenhamos, deixou de ser celular há, pelo menos, 8 anos)\n",
    "\n",
    "O que começou aqui, como uma revolução: \n",
    "![](https://fm.cnbc.com/applications/cnbc.com/resources/img/editorial/2017/06/28/104556364-original-iPhone.600x337.jpg?v=1498757777)\n",
    "\n",
    "Porém, já existia desde o Java Micro Edition, ou J2ME para os mais íntimos, pensado para PDA's, controle remotos e os então celulares. Quem não lembra da imagem até pouco tempo atrás utilizada antes do início de um jogo ou aplicativo: \n",
    "\n",
    "![](http://idgnow.com.br/idgimages/imagefolder.2015-05-04.7768410296/java_625.jpg)\n",
    "\n",
    "Esse tipo de aplicativo rodava em celulares clássicos como o V3, \n",
    "![](https://www.ultraeletronicos.com/media/catalog/product/cache/1/image/650x/040ec09b1e35df139433887a97daa66f/2/4/24271226_1.jpg)\n",
    "\n",
    "E que (ainda bem), evoluíram até chegar nos mais conhecidos sistemas operacionais disponíveis atualmente (2018), são eles, o Android da Google e o IOS da Apple, as gigantes da computação mundial.\n",
    "\n",
    "Assim temos os dados da Solvus: http://solvus.com.br/22-estatisticas-do-mercado-de-aplicativos-que-todos-precisam-saber/"
   ]
  },
  {
   "cell_type": "markdown",
   "metadata": {},
   "source": [
    "## Como Python pode me ajudar a entrar nesse mercado?"
   ]
  },
  {
   "cell_type": "markdown",
   "metadata": {},
   "source": [
    "Programar para dispositivos móveis ainda é um obstáculo muito grande para superar, uma vez que nem o Android SDK e nem o XCode são fáceis de dominar ou até mesmo, no caso da Apple, ter a capacidade financeira necessária para tal.\n",
    "\n",
    "Dentre diversas desvantagens de se programar conforme dita as grandes empresas, muitas alternativas são buscadas para  driblar as dificuldades. O exemplo mais recente (2018), é a empresa Epic Games com o mundialmente conhecido Fortnite Mobile, que optou por não distribuir seu aplicativo por meio de ferramentas disponibilizadas pela Google, que lucrava cerca de 10% de todas as transações dentro e fora de seu app, o que não pode ser feito com a Apple, uma vez que, impõe a obrigatoriedade de utilização de sua loja, não permitindo qualquer lucratividade de terceiros sem uma contra-partida, mesmo que essa seja muito alta."
   ]
  },
  {
   "cell_type": "markdown",
   "metadata": {},
   "source": [
    "Fortnite para Android alcança marca de 15 milhões de downloads -> https://www.techtudo.com.br/noticias/2018/09/fortnite-para-android-alcanca-marca-de-15-milhoes-de-downloads.ghtml\n",
    "\n",
    "A versão de Fortnite para Celular está estourada de tanto sucesso! A Épic Games já arrecadou cerca de 100 MILHÕES DE DÓLARES nesses primeiros três meses de lançamento para iOS, ganhando 335% a mais do que seu concorrente mais próximo na plataforma, o Knives Out -> https://www.hypenerd.com.br/fortnite-battle-royale-para-ios-recorde-arrecadacao/"
   ]
  },
  {
   "cell_type": "markdown",
   "metadata": {},
   "source": [
    "#### Vantagens Kivy\n",
    "\n",
    "Podemos listar o Kivy como uma alternativa à esse cenário complexo de programação para dispositivos móveis, uma vez que ele possui características próprias e eficientes:\n",
    "\n",
    "- Kivy funciona no Linux, Windows, OS X, Android, iOS e Raspberry Pi. Você pode executar o mesmo código em todas as plataformas suportadas. Pode ser usado com protocolos e dispositivos próprios de sistemas operacionais específicos, como WM_Touch, WM_Pen, Mac OS X Trackpad, Apple Magic Mouse, Mtdev, Linux Kernel. Possui um simulador multi-touch incluído.\n",
    "\n",
    "- Kivy é 100% livre para uso, sobre a Licença MIT e LGPL 3 para todas as versões. Você pode usar com fins comerciais.\n",
    "\n",
    "- Possibilita o uso de engine gráfica construída sobre OpenGL ES 2, possibilitando um pipeline moderno e ágil.\n",
    "\n",
    "- Mantido por comunidade.\n",
    "\n"
   ]
  },
  {
   "cell_type": "markdown",
   "metadata": {},
   "source": [
    "## Instalando o Kivy\n",
    "\n",
    "Como um bom módulo sobre Python, podemos obter o Kivy de maneira rápida através do comando pip.\n",
    "\n",
    "Para instalar o Kivy no Windows, devemos seguir algumas regras, são elas:"
   ]
  },
  {
   "cell_type": "code",
   "execution_count": null,
   "metadata": {},
   "outputs": [],
   "source": [
    "pip install --upgrade pip wheel setuptools"
   ]
  },
  {
   "cell_type": "markdown",
   "metadata": {},
   "source": [
    "Para garantir a última versão do pip e do wheel."
   ]
  },
  {
   "cell_type": "code",
   "execution_count": null,
   "metadata": {},
   "outputs": [],
   "source": [
    "pip install docutils pygments pypiwin32 kivy.deps.sdl2 kivy.deps.glew\n",
    "pip install kivy.deps.gstreamer"
   ]
  },
  {
   "cell_type": "markdown",
   "metadata": {},
   "source": [
    "Com isso instalaremos as dependências do Kivy.\n",
    "Caso a versão do Python seja 3.5+, deveremos executar mais uma instalação:"
   ]
  },
  {
   "cell_type": "code",
   "execution_count": null,
   "metadata": {},
   "outputs": [],
   "source": [
    "python -m pip install kivy.deps.angle"
   ]
  },
  {
   "cell_type": "markdown",
   "metadata": {},
   "source": [
    "Por fim, instalaremos o Kivy:"
   ]
  },
  {
   "cell_type": "code",
   "execution_count": null,
   "metadata": {},
   "outputs": [],
   "source": [
    "pip install kivy"
   ]
  },
  {
   "cell_type": "markdown",
   "metadata": {},
   "source": [
    "Com isso temos nossa plataforma pronta para receber a implementação dos códigos."
   ]
  },
  {
   "cell_type": "markdown",
   "metadata": {},
   "source": [
    "## Começando com Kivy"
   ]
  },
  {
   "cell_type": "markdown",
   "metadata": {},
   "source": [
    "Para criarmos um aplicativo Kivy devemos seguir alguns passos:\n",
    "\n",
    "- Criar um class App \n",
    "- Implementar o método build() retornando uma instância de Widget\n",
    "- Instanciando a classe App e chamar seu método run()\n",
    "\n",
    "Com isso temos uma versão mínima para começarmos com Kivy."
   ]
  },
  {
   "cell_type": "code",
   "execution_count": null,
   "metadata": {},
   "outputs": [],
   "source": [
    "import kivy\n",
    "\n",
    "from kivy.app import App\n",
    "from kivy.uix.label import Label\n",
    "\n",
    "\n",
    "class MyApp(App):\n",
    "\n",
    "    def build(self):\n",
    "        return Label(text='Hello world')\n",
    "\n",
    "\n",
    "if __name__ == '__main__':\n",
    "    MyApp().run()"
   ]
  },
  {
   "cell_type": "markdown",
   "metadata": {},
   "source": [
    "Isso será o suficiente para termos uma emulação de ambiente de dispositivo móvel e um Hello World funcional, podendo ser passível de um Deploy para qualquer sistema suportado!"
   ]
  }
 ],
 "metadata": {
  "kernelspec": {
   "display_name": "Python 3",
   "language": "python",
   "name": "python3"
  },
  "language_info": {
   "codemirror_mode": {
    "name": "ipython",
    "version": 3
   },
   "file_extension": ".py",
   "mimetype": "text/x-python",
   "name": "python",
   "nbconvert_exporter": "python",
   "pygments_lexer": "ipython3",
   "version": "3.6.6"
  }
 },
 "nbformat": 4,
 "nbformat_minor": 2
}
