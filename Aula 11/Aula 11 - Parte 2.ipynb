{
 "cells": [
  {
   "cell_type": "markdown",
   "metadata": {},
   "source": [
    "#  Introdução ao Python\n",
    "## Professor: Luiz Ferreira"
   ]
  },
  {
   "cell_type": "markdown",
   "metadata": {},
   "source": [
    "## Módulo 3\n",
    "\n",
    "### Python para Mobile"
   ]
  },
  {
   "cell_type": "markdown",
   "metadata": {},
   "source": [
    "_____________"
   ]
  },
  {
   "cell_type": "markdown",
   "metadata": {},
   "source": [
    "## Vamos começar a personalizar nossa experiência"
   ]
  },
  {
   "cell_type": "markdown",
   "metadata": {},
   "source": [
    "Podemos começar a personalizar nossa estrutura mínima para conhecer um pouco mais dos recursos disponibilizados pela plataforma. Temos o arquivo inicial:"
   ]
  },
  {
   "cell_type": "code",
   "execution_count": null,
   "metadata": {},
   "outputs": [],
   "source": [
    "import kivy\n",
    "kivy.require('1.0.6') # replace with your current kivy version !\n",
    "\n",
    "from kivy.app import App\n",
    "from kivy.uix.label import Label\n",
    "\n",
    "\n",
    "class MyApp(App):\n",
    "\n",
    "    def build(self):\n",
    "        return Label(text='Hello world')\n",
    "\n",
    "\n",
    "if __name__ == '__main__':\n",
    "    MyApp().run()"
   ]
  },
  {
   "cell_type": "markdown",
   "metadata": {},
   "source": [
    "A partir desse código podemos trabalhar campos de texto e senha, com as respectivas labels."
   ]
  },
  {
   "cell_type": "code",
   "execution_count": null,
   "metadata": {},
   "outputs": [],
   "source": [
    "from kivy.app import App\n",
    "from kivy.uix.gridlayout import GridLayout\n",
    "from kivy.uix.label import Label\n",
    "from kivy.uix.textinput import TextInput\n",
    "\n",
    "\n",
    "class LoginScreen(GridLayout):\n",
    "\n",
    "    def __init__(self, **kwargs):\n",
    "        super(LoginScreen, self).__init__(**kwargs)\n",
    "        self.cols = 2\n",
    "        self.add_widget(Label(text='User Name'))\n",
    "        self.username = TextInput(multiline=False)\n",
    "        self.add_widget(self.username)\n",
    "        self.add_widget(Label(text='password'))\n",
    "        self.password = TextInput(password=True, multiline=False)\n",
    "        self.add_widget(self.password)\n",
    "\n",
    "\n",
    "class MyApp(App):\n",
    "\n",
    "    def build(self):\n",
    "        return LoginScreen()\n",
    "\n",
    "\n",
    "if __name__ == '__main__':\n",
    "    MyApp().run()"
   ]
  },
  {
   "cell_type": "markdown",
   "metadata": {},
   "source": [
    "Onde: "
   ]
  },
  {
   "cell_type": "code",
   "execution_count": null,
   "metadata": {},
   "outputs": [],
   "source": [
    "from kivy.uix.gridlayout import GridLayout"
   ]
  },
  {
   "cell_type": "markdown",
   "metadata": {},
   "source": [
    "Aqui temos a importação do nosso Grid, que será o responsável pelo posicionamento dos elementos dentro da tela."
   ]
  },
  {
   "cell_type": "code",
   "execution_count": null,
   "metadata": {},
   "outputs": [],
   "source": [
    "class LoginScreen(GridLayout):"
   ]
  },
  {
   "cell_type": "markdown",
   "metadata": {},
   "source": [
    "A classe que será usada como base da nossa aplicação será LoginScreen, que utilizará o GridLayout como recurso."
   ]
  },
  {
   "cell_type": "code",
   "execution_count": null,
   "metadata": {},
   "outputs": [],
   "source": [
    "def __init__(self, **kwargs):\n",
    "    super(LoginScreen, self).__init__(**kwargs)"
   ]
  },
  {
   "cell_type": "markdown",
   "metadata": {},
   "source": [
    "Iremos sobreescrever o método _ _init_ _ que é executado assim que a aplicação é aberta.\n",
    "\n",
    "O método super será o responsável por implementar os recursos padrões já programados, para sobreescrevermos apenas parte da aplicação e não ela toda. Poderíamos retirar o trecho (**kwargs), porém, vamos mantê-lo para garantir que nenhum processo que utilize ele internamente apresente erros, esta é uma boa prática de programação."
   ]
  },
  {
   "cell_type": "code",
   "execution_count": null,
   "metadata": {},
   "outputs": [],
   "source": [
    "self.cols = 2\n",
    "self.add_widget(Label(text='User Name'))\n",
    "self.username = TextInput(multiline=False)\n",
    "self.add_widget(self.username)\n",
    "self.add_widget(Label(text='password'))\n",
    "self.password = TextInput(password=True, multiline=False)\n",
    "self.add_widget(self.password)"
   ]
  },
  {
   "cell_type": "markdown",
   "metadata": {},
   "source": [
    "Assim, como vimos em outros pacotes, o Grid aqui também é utilizado através de cols e rows. O que vai nos facilitar muito trabalho, não é mesmo?\n",
    "\n",
    "Nesse caso, trabalharemos 2 colunas, onde uma receberá os dados de username e a outra os dados de password.\n",
    "\n",
    "Note que possuímos blocos de código para cada elemento, aqui também chamado de widget.\n",
    "- self.add_widget -> Aqui inserimos um widget dentro da nossa aplicação\n",
    "- Label(text=\"\") -> Elemento (widget) de etiqueta de texto, ou o famoso label\n",
    "- TextInput() -> Inserção de texto dentro da aplicação\n",
    "    - multiline = False -> Impossibilita que desloque o campo para baixo quando inserido uma quantidade de texto exagerada, lembre-se, é um campo para usuário\n",
    "    - password = True -> Codifica o texto inserido para manter a privacidade e segurança de uma senha"
   ]
  },
  {
   "cell_type": "markdown",
   "metadata": {},
   "source": [
    "Ao executar a aplicação, tente aumentar o tamanho da janela, observe que os widgets serão redimensionados proporcionalmente para atender o que pede a tela."
   ]
  }
 ],
 "metadata": {
  "kernelspec": {
   "display_name": "Python 3",
   "language": "python",
   "name": "python3"
  },
  "language_info": {
   "codemirror_mode": {
    "name": "ipython",
    "version": 3
   },
   "file_extension": ".py",
   "mimetype": "text/x-python",
   "name": "python",
   "nbconvert_exporter": "python",
   "pygments_lexer": "ipython3",
   "version": "3.6.6"
  }
 },
 "nbformat": 4,
 "nbformat_minor": 2
}
