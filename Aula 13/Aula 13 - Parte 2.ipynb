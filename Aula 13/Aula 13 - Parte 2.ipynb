{
 "cells": [
  {
   "cell_type": "markdown",
   "metadata": {},
   "source": [
    "#  Introdução ao Python\n",
    "## Professor: Luiz Ferreira"
   ]
  },
  {
   "cell_type": "markdown",
   "metadata": {},
   "source": [
    "## Módulo 3\n",
    "\n",
    "### Python para Mobile"
   ]
  },
  {
   "cell_type": "markdown",
   "metadata": {},
   "source": [
    "_____________"
   ]
  },
  {
   "cell_type": "markdown",
   "metadata": {},
   "source": [
    "## Do .py (e .kv) para .apk"
   ]
  },
  {
   "cell_type": "markdown",
   "metadata": {},
   "source": [
    "Para obtermos o aplicativo no formato instalável para os devidos fins, existe uma ferramenta desenvolvida em python para a obtenção dos recursos necessários para a compilação, não só isso, mas essa ferramenta atualiza as necessidades e aplica padrões como nome do App, versão, pacotes, entre outros. \n",
    "\n",
    "Essa ferramenta é conhecida como `Buildozer`. O `Buildozer` gerencia um arquivo chamado buildozer.spec no diretório do aplicativo, descrevendo os requisitos e configurações do aplicativo, como título, ícone, módulos incluídos, etc. Ele usará o arquivo de especificação para criar um pacote para Android, iOS e muito mais.\n",
    "\n",
    "Sua instalação não é uma tarefa complexa, porém seu uso depende de muita paciência.\n",
    "\n",
    "Para instalar o buildozer basta fazer:"
   ]
  },
  {
   "cell_type": "code",
   "execution_count": null,
   "metadata": {},
   "outputs": [],
   "source": [
    "pip install --upgrade buildozer"
   ]
  },
  {
   "cell_type": "markdown",
   "metadata": {},
   "source": [
    "Se desejar desenvolver a aplicação para Android, você deverá ter o pacote Cython (versão 0.25, mesmo que tenha versões mais novas, existem muitos relatos de incompatibilidade), algumas bibliotecas e o Java SDK. Alguns binários do Android SDK possuem arquitetura 32 bits, por isso, algumas bibliotecas deverão estar disponíveis."
   ]
  },
  {
   "cell_type": "code",
   "execution_count": null,
   "metadata": {},
   "outputs": [],
   "source": [
    "sudo pip install --upgrade cython==0.25\n",
    "sudo dpkg --add-architecture i386\n",
    "sudo apt-get update\n",
    "sudo apt-get install build-essential ccache git libncurses5:i386 libstdc++6:i386 libgtk2.0-0:i386 libpangox-1.0-0:i386 \n",
    "                libpangoxft-1.0-0:i386 libidn11:i386 python2.7 python2.7-dev openjdk-8-jdk unzip zlib1g-dev zlib1g:i386"
   ]
  },
  {
   "cell_type": "markdown",
   "metadata": {},
   "source": [
    "A relação acima é recomendada para instalações em sistemas Ubuntu na versão 16.04. Além dessas bibliotecas, devemos baixar o NDK Crystax, se a versão Python utilizada for 3 ou superior. \n",
    "\n",
    "Para obter o Crystax, deve-se realizar o download no link https://www.crystax.net/en/download e depois descompactar em um local de fácil acesso, segere-se `~/.buildozer/crystax-ndk`.\n",
    "\n",
    "Dentro do buildozer.spec, arquivo com as configurações da aplicação a ser desenvolvida, deve-se alterar alguns itens de acordo com o seguinte:"
   ]
  },
  {
   "cell_type": "code",
   "execution_count": null,
   "metadata": {},
   "outputs": [],
   "source": [
    "# Alterar o requirements com python3crystax==3.6:\n",
    "requirements = python3crystax,kivy\n",
    "\n",
    "# Apontar o diretório onde o crystax-ndk foi extraído\n",
    "android.ndk_path = <Caminho do crystax.  Use ~ para acessar a pasta do usuário>"
   ]
  },
  {
   "cell_type": "markdown",
   "metadata": {},
   "source": [
    "Note que devemos especificar a versão mínima do Python para que o crystax funcione adequadamente. Sendo a versão 3.6 a última com suporte garantido.\n",
    "\n",
    "Podemos então gerar o buildozer.specs que trará um guia de configuração para nossa aplicação, com o seguinte comando a ser executado na pasta do projeto:"
   ]
  },
  {
   "cell_type": "code",
   "execution_count": null,
   "metadata": {},
   "outputs": [],
   "source": [
    "buildozer init"
   ]
  },
  {
   "cell_type": "markdown",
   "metadata": {},
   "source": [
    "Após a criação do arquivo .specs e a configuração do crystax, procedemos para a recompilação de nossa aplicação:"
   ]
  },
  {
   "cell_type": "code",
   "execution_count": null,
   "metadata": {},
   "outputs": [],
   "source": [
    "buildozer android debug deploy run"
   ]
  },
  {
   "cell_type": "markdown",
   "metadata": {},
   "source": [
    "Se todo o processo ocorrer dentro do esperado, será criado uma pasta chamada `bin` cujo conteúdo é um arquivo .apk com a aplicação completa pronta para ser instalada no smartphone (nesse caso, com OS android). "
   ]
  },
  {
   "cell_type": "markdown",
   "metadata": {},
   "source": [
    "#### Atenção\n",
    "\n",
    "Assim como ocorre com os trabalhos desenvolvidos através do Android Studio, a última SDK do android é requerida, porém, o buildozer consegue realizar apenas uma atualização por vez, o que pode fazer com que você execute várias vezes para que não aconteça erros na compilação. Outro truque, é quando ocorrer o erro, apagar a pasta tools dentro de android-sdk, dentro de ~/.buildozer/ e extrair a pasta tools que deve ter sido baixada durante a última compilação, poupando assim alguns minutos importantes de espera."
   ]
  }
 ],
 "metadata": {
  "kernelspec": {
   "display_name": "Python 3",
   "language": "python",
   "name": "python3"
  },
  "language_info": {
   "codemirror_mode": {
    "name": "ipython",
    "version": 3
   },
   "file_extension": ".py",
   "mimetype": "text/x-python",
   "name": "python",
   "nbconvert_exporter": "python",
   "pygments_lexer": "ipython3",
   "version": "3.6.6"
  }
 },
 "nbformat": 4,
 "nbformat_minor": 2
}
