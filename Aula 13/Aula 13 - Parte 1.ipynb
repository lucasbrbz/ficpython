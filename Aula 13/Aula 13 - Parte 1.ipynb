{
 "cells": [
  {
   "cell_type": "markdown",
   "metadata": {},
   "source": [
    "#  Introdução ao Python\n",
    "## Professor: Luiz Ferreira"
   ]
  },
  {
   "cell_type": "markdown",
   "metadata": {},
   "source": [
    "## Módulo 3\n",
    "\n",
    "### Python para Mobile"
   ]
  },
  {
   "cell_type": "markdown",
   "metadata": {},
   "source": [
    "_____________"
   ]
  },
  {
   "cell_type": "markdown",
   "metadata": {},
   "source": [
    "## Um jogo: Pong"
   ]
  },
  {
   "cell_type": "markdown",
   "metadata": {},
   "source": [
    "Podemos utilizar o Kivy para desenvolver jogos. O uso do Kivy não é incomum em aplicações já hospedadas nas lojas do Google e Apple. Podemos encontrar versões de jogos famosos desenvolvidos em Kivy, tais como, FlappyBird, 2048, entre muitos outros, podemos encontrar exemplos referenciados pelo próprio projeto Kivy em: https://github.com/kivy/kivy/wiki/List-of-Kivy-Projects.\n",
    "\n",
    "Começamos a desenvolver nosso jogo:\n",
    "\n",
    "Devemos criar (novamente) dois arquivos:\n",
    "\n",
    "- .py\n",
    "- .kv\n",
    "\n",
    "Vamos começar pelo arquivo python:\n",
    "\n",
    "Devemos importar os elementos que vamos utilizar no nosso projeto :"
   ]
  },
  {
   "cell_type": "code",
   "execution_count": null,
   "metadata": {},
   "outputs": [],
   "source": [
    "from kivy.app import App\n",
    "from kivy.uix.widget import Widget\n",
    "from kivy.properties import NumericProperty, ReferenceListProperty,ObjectProperty\n",
    "from kivy.vector import Vector\n",
    "from kivy.clock import Clock"
   ]
  },
  {
   "cell_type": "markdown",
   "metadata": {},
   "source": [
    "Aqui vemos os pacotes App e Widget já conhecidos de outros projetos, temos também os pacotes de properties que são os responsáveis por configurações de nossas aplicações. Além das citadas, temos a Vector, responsável por permitir o uso de vetores para posicionar elementos dentro da tela (observe que nesse projeto, não utilizamos o pacote GridLayout) e, temos também, o pacote Clock que permite executar determinadas funções de forma agendada, como um planejamento de execução."
   ]
  },
  {
   "cell_type": "code",
   "execution_count": null,
   "metadata": {},
   "outputs": [],
   "source": [
    "class PongPaddle(Widget):\n",
    "    score = NumericProperty(0)\n",
    "\n",
    "    def bounce_ball(self, ball):\n",
    "        if self.collide_widget(ball):\n",
    "            vx, vy = ball.velocity\n",
    "            offset = (ball.center_y - self.center_y) / (self.height / 2)\n",
    "            bounced = Vector(-1 * vx, vy)\n",
    "            vel = bounced * 1.1\n",
    "            ball.velocity = vel.x, vel.y + offset"
   ]
  },
  {
   "cell_type": "markdown",
   "metadata": {},
   "source": [
    "Temos a classe PongPaddle, nossas \"raquetes\", também podemos notar a variável score surgindo como um item a ser acrescido durante a partida. Detro dessa classe temos a função bounce_ball que será a responsável pela movimentação da bola sobre a mesa. Podemos notar que nesse momento, trabalha-se tanto a colisão da bola quanto a velocidade adquirida com esse evento."
   ]
  },
  {
   "cell_type": "code",
   "execution_count": null,
   "metadata": {},
   "outputs": [],
   "source": [
    "class PongBall(Widget):\n",
    "    velocity_x = NumericProperty(0)\n",
    "    velocity_y = NumericProperty(0)\n",
    "    velocity = ReferenceListProperty(velocity_x, velocity_y)\n",
    "\n",
    "    def move(self):\n",
    "        self.pos = Vector(*self.velocity) + self.pos"
   ]
  },
  {
   "cell_type": "markdown",
   "metadata": {},
   "source": [
    "A segunda classe, chamada de PongBall, tratará da bola em sí, perceba que aqui temos os referenciais da velocidade de movimentação da bola, note também que temos aqui uma função que irá realizar a movimentação da bola sobre a mesa."
   ]
  },
  {
   "cell_type": "code",
   "execution_count": null,
   "metadata": {},
   "outputs": [],
   "source": [
    "class PongGame(Widget):\n",
    "    ball = ObjectProperty(None)\n",
    "    player1 = ObjectProperty(None)\n",
    "    player2 = ObjectProperty(None)\n",
    "\n",
    "    def serve_ball(self, vel=(4, 0)):\n",
    "        self.ball.center = self.center\n",
    "        self.ball.velocity = vel\n",
    "\n",
    "    def update(self, dt):\n",
    "        self.ball.move()\n",
    "\n",
    "        # bounce of paddles\n",
    "        self.player1.bounce_ball(self.ball)\n",
    "        self.player2.bounce_ball(self.ball)\n",
    "\n",
    "        # bounce ball off bottom or top\n",
    "        if (self.ball.y < self.y) or (self.ball.top > self.top):\n",
    "            self.ball.velocity_y *= -1\n",
    "\n",
    "        # went of to a side to score point?\n",
    "        if self.ball.x < self.x:\n",
    "            self.player2.score += 1\n",
    "            self.serve_ball(vel=(4, 0))\n",
    "        if self.ball.x > self.width:\n",
    "            self.player1.score += 1\n",
    "            self.serve_ball(vel=(-4, 0))\n",
    "\n",
    "    def on_touch_move(self, touch):\n",
    "        if touch.x < self.width / 3:\n",
    "            self.player1.center_y = touch.y\n",
    "        if touch.x > self.width - self.width / 3:\n",
    "            self.player2.center_y = touch.y"
   ]
  },
  {
   "cell_type": "markdown",
   "metadata": {},
   "source": [
    "Na classe PongGame notamos que existe a criação de 3 elementos fundamentais para o jogo, a bola e os players. Depois da instancição dos elementos, temos a função serve_ball que irá fornecer as propriedades para o início do game, posicionando a bola no centro com a velocidade padrão 1.\n",
    "\n",
    "Temos também a função update que irá atualizar o posicionamento da bola e dos paddles que são nossas \"raquetes\". Criamos então uma raquete para cada jogador. Depois colocamos os limitadores verticais de nossa mesa, que fará com que, quando a bola atinja os limites inferiores e superiores, ela não saia do jogo. Lembre-se que só somaremos um ponto quando a bola ultrapassar a \"raquete\" do lado correspondente do jogador adversário.\n",
    "\n",
    "Para registrarmos o placar, temos duas estruturas de decisão (if), onde, percorrendo o valor do eixo X, quando o mesmo for menor que 0 soma-se ponto para um player, ou quando ele ultrapassar a quantidade de pontos totais do eixo X soma-se ponto para o outro jogador.\n",
    "\n",
    "Por fim definimos a movimentação dos players, para que ela aconteça somente dentro do eixo y."
   ]
  },
  {
   "cell_type": "code",
   "execution_count": null,
   "metadata": {},
   "outputs": [],
   "source": [
    "class PongApp(App):\n",
    "    def build(self):\n",
    "        game = PongGame()\n",
    "        game.serve_ball()\n",
    "        Clock.schedule_interval(game.update, 1.0 / 60.0)\n",
    "        return game"
   ]
  },
  {
   "cell_type": "markdown",
   "metadata": {},
   "source": [
    "Com isso, definimos nosso construtor de aplicação."
   ]
  },
  {
   "cell_type": "code",
   "execution_count": null,
   "metadata": {},
   "outputs": [],
   "source": [
    "if __name__ == '__main__':\n",
    "    PongApp().run()"
   ]
  },
  {
   "cell_type": "markdown",
   "metadata": {},
   "source": [
    "Por fim, temos a execução de nosso construtor."
   ]
  },
  {
   "cell_type": "markdown",
   "metadata": {},
   "source": [
    "### Vamos para o arquivo .kv"
   ]
  },
  {
   "cell_type": "markdown",
   "metadata": {},
   "source": [
    "Lembramos que o arquivo .kv determina configurações dos elementos utilizados na aplicação. Portanto teremos:"
   ]
  },
  {
   "cell_type": "code",
   "execution_count": null,
   "metadata": {},
   "outputs": [],
   "source": [
    "<PongBall>:\n",
    "    size: 50, 50 \n",
    "    canvas:\n",
    "        Ellipse:\n",
    "            pos: self.pos\n",
    "            size: self.size    "
   ]
  },
  {
   "cell_type": "markdown",
   "metadata": {},
   "source": []
  },
  {
   "cell_type": "code",
   "execution_count": null,
   "metadata": {},
   "outputs": [],
   "source": [
    "<PongPaddle>:\n",
    "    size: 25, 200\n",
    "    canvas:\n",
    "        Rectangle:\n",
    "            pos:self.pos\n",
    "            size:self.size"
   ]
  },
  {
   "cell_type": "markdown",
   "metadata": {},
   "source": [
    "Esse item definirá o formato, tamanho e posicionamento dos players (\"raquetes\") do jogo."
   ]
  },
  {
   "cell_type": "code",
   "execution_count": null,
   "metadata": {},
   "outputs": [],
   "source": [
    "<PongGame>:\n",
    "    ball: pong_ball\n",
    "    player1: player_left\n",
    "    player2: player_right\n",
    "    \n",
    "    canvas:\n",
    "        Rectangle:\n",
    "            pos: self.center_x-5, 0\n",
    "            size: 10, self.height\n",
    "    \n",
    "    Label:\n",
    "        font_size: 70  \n",
    "        center_x: root.width / 4\n",
    "        top: root.top - 50\n",
    "        text: str(root.player1.score)\n",
    "        \n",
    "    Label:\n",
    "        font_size: 70  \n",
    "        center_x: root.width * 3 / 4\n",
    "        top: root.top - 50\n",
    "        text: str(root.player2.score)\n",
    "    \n",
    "    PongBall:\n",
    "        id: pong_ball\n",
    "        center: self.parent.center\n",
    "        \n",
    "    PongPaddle:\n",
    "        id: player_left\n",
    "        x: root.x\n",
    "        center_y: root.center_y\n",
    "        \n",
    "    PongPaddle:\n",
    "        id: player_right\n",
    "        x: root.width-self.width\n",
    "        center_y: root.center_y"
   ]
  },
  {
   "cell_type": "markdown",
   "metadata": {},
   "source": [
    "Com isso vamos posicionar nossos elementos de forma com que exista um retângulo que será nossa mesa (canvas), uma linha dividindo o \"campo\" de cada jogador, "
   ]
  }
 ],
 "metadata": {
  "kernelspec": {
   "display_name": "Python 3",
   "language": "python",
   "name": "python3"
  },
  "language_info": {
   "codemirror_mode": {
    "name": "ipython",
    "version": 3
   },
   "file_extension": ".py",
   "mimetype": "text/x-python",
   "name": "python",
   "nbconvert_exporter": "python",
   "pygments_lexer": "ipython3",
   "version": "3.6.6"
  }
 },
 "nbformat": 4,
 "nbformat_minor": 2
}
