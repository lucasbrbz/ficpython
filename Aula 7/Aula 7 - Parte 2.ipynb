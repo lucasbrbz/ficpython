{
 "cells": [
  {
   "cell_type": "markdown",
   "metadata": {},
   "source": [
    "#  Introdução ao Python\n",
    "## Professor: Luiz Ferreira"
   ]
  },
  {
   "cell_type": "markdown",
   "metadata": {},
   "source": [
    "## Módulo 1\n",
    "\n",
    "### Introdução ao Python"
   ]
  },
  {
   "cell_type": "markdown",
   "metadata": {},
   "source": [
    "_____________"
   ]
  },
  {
   "cell_type": "markdown",
   "metadata": {},
   "source": [
    "## Backend"
   ]
  },
  {
   "cell_type": "markdown",
   "metadata": {},
   "source": [
    "Após o desenvolvimento da parte frontal de nossa aplicação, precisamos dar vida aos recursos moldados. O trabalhar a parte invisível ao usuário é chamada de backend. Nessa parte de nossa aula, trabalharemos nas ações de cada elemento afim de possibilitar o uso da aplicação juntamente com o banco de dados relacionado.\n",
    "\n",
    "### Vale lembrar:\n",
    "Para o desenvolvimento da aplicação, necessitamos criar uma tabela no banco de dados que contenha os mesmos elementos descritos durante o desenvolvimento do Frontend! A lembrar:\n",
    "\n",
    "- id\n",
    "- nome\n",
    "- sobrenome\n",
    "- email\n",
    "- cpf\n",
    "\n",
    "Com isso podemos salvar todos as informações preenchidas no frontend.\n",
    "\n",
    "### Vale lembrar: \n",
    "Existe uma estrutura mínima para que possamos trabalhar o nosso banco de dados em SQLite! A lembrar:"
   ]
  },
  {
   "cell_type": "code",
   "execution_count": null,
   "metadata": {},
   "outputs": [],
   "source": [
    "import sqlite3\n",
    "#Conectando ao banco de daods...\n",
    "conn = sqlite3.connect(database)\n",
    "cur = conn.cursor()\n",
    " \n",
    "#... Ações usando o banco...\n",
    " \n",
    "#Fazendo commit e desconecta do banco...\n",
    "conn.commit()\n",
    "conn.close()"
   ]
  },
  {
   "cell_type": "markdown",
   "metadata": {},
   "source": [
    "Como esse código poderá repetir diversas vezes em nossa aplicação, podemos utilizar o conceito de classe aprendido em aulas anteriores e fazer de nosso código uma estrutura amigável e reutilizável. Para isso:"
   ]
  },
  {
   "cell_type": "code",
   "execution_count": null,
   "metadata": {},
   "outputs": [],
   "source": [
    "import sqlite3 as sql\n",
    "\n",
    "class TransactionObject():        #Nome de nossa classe, que não necessita de parametros, inicialmente\n",
    "    database    = \"clientes.db\"   #Nome e local do banco de dados\n",
    "    conn        = None            #Variável que receberá nossa conexão\n",
    "    cur         = None            #Variável que receberá o cursor (visto na aula passada)\n",
    "    connected   = False           #Simples checagem de estado, conectado ou não\n",
    " \n",
    "    def connect(self):            #Função que realiza a conexão no banco de dados\n",
    "        TransactionObject.conn      = sql.connect(TransactionObject.database)\n",
    "        TransactionObject.cur       = TransactionObject.conn.cursor()\n",
    "        TransactionObject.connected = True\n",
    " \n",
    "    def disconnect(self):         #Função que fecha nossa conexão\n",
    "        TransactionObject.conn.close()\n",
    "        TransactionObject.connected = False\n",
    " \n",
    "    def execute(self, sql, parms = None):  #Função que executa alguma ação\n",
    "        if TransactionObject.connected:\n",
    "            if parms == None:\n",
    "                TransactionObject.cur.execute(sql)\n",
    "            else:\n",
    "                TransactionObject.cur.execute(sql, parms)\n",
    "            return True\n",
    "        else:\n",
    "            return False\n",
    " \n",
    "    def fetchall(self):           #Função que constrói um objeto no qual podemos recuperar nossas informações\n",
    "        return TransactionObject.cur.fetchall()\n",
    " \n",
    "    def persist(self):            #Função que realiza o commit, ou seja, grava no nosso banco de dados\n",
    "        if TransactionObject.connected:\n",
    "            TransactionObject.conn.commit()\n",
    "            return True\n",
    "        else:\n",
    "            return False"
   ]
  },
  {
   "cell_type": "markdown",
   "metadata": {},
   "source": [
    "### Relembrando\n",
    "\n",
    "- connect(): realiza conexão com o banco de dados\n",
    "- disconnect(): fecha a conexão com o banco de dados\n",
    "- execute(self, sql, parms): executa um comando no banco de dados. recebe três parâmetros:\n",
    "- self: referencia para o próprio objeto. não precisa ser informado;\n",
    "- sql: comando SQL a ser executado;\n",
    "- parms: vetor com os parâmetros do comando SQL. Pode ser omitido.\n",
    "- fetchall(): recupera os valores recebidos de um comando select.\n",
    "- persist(): realiza o commit das operações realizadas."
   ]
  },
  {
   "cell_type": "markdown",
   "metadata": {},
   "source": [
    "## Continuando ...\n",
    "\n",
    "Após construir nossa classe de conexão (isso vai nos ajudar demais).\n",
    "\n",
    "Passamos para nossa classe `backend` propriamente dita!"
   ]
  },
  {
   "cell_type": "markdown",
   "metadata": {},
   "source": [
    "Quando iniciarmos nossa aplicação, necessitamos conectar no banco e garantir que nossa tabela existe."
   ]
  },
  {
   "cell_type": "code",
   "execution_count": null,
   "metadata": {},
   "outputs": [],
   "source": [
    "def initDB():\n",
    "    trans = TransactionObject()\n",
    "    trans.connect()\n",
    "    trans.execute(\"CREATE TABLE IF NOT EXISTS clientes (id INTEGER PRIMARY KEY , nome TEXT, sobrenome TEXT, email TEXT, cpf TEXT)\")\n",
    "    trans.persist()\n",
    "    trans.disconnect()\n",
    " \n",
    "initDB()"
   ]
  },
  {
   "cell_type": "markdown",
   "metadata": {},
   "source": [
    "No trecho de código acima, criamos a função initDB() e, logo após, criamos uma chamada dessa função. Com isso, é possível fazer com que a cada vez que a nossa aplicação seja iniciada, o banco então é checado e, caso não exista a tabela, ele a criará."
   ]
  },
  {
   "cell_type": "code",
   "execution_count": null,
   "metadata": {},
   "outputs": [],
   "source": [
    "def view():\n",
    "    trans = TransactionObject()\n",
    "    trans.connect()\n",
    " \n",
    "    trans.execute(\"SELECT * FROM clientes\")\n",
    " \n",
    "    rows = trans.fetchall()\n",
    "    trans.disconnect()\n",
    "    return rows"
   ]
  },
  {
   "cell_type": "markdown",
   "metadata": {},
   "source": [
    "A função view() será responsável por recuperar todos os clientes que já se encontram no banco de dados, para que possamos exibir posteriormente."
   ]
  },
  {
   "cell_type": "code",
   "execution_count": null,
   "metadata": {},
   "outputs": [],
   "source": [
    "def insert(nome, sobrenome, email, cpf):\n",
    "    trans = TransactionObject()\n",
    "    trans.connect()\n",
    "    trans.execute(\"INSERT INTO clientes VALUES(NULL, ?,?,?,?)\", (nome, sobrenome, email, cpf))\n",
    "    trans.persist()\n",
    "    trans.disconnect()"
   ]
  },
  {
   "cell_type": "markdown",
   "metadata": {},
   "source": [
    "A função insert é a responsável por gravar um novo valor dentro de nosso banco de dados, observe que essa função necessita de 4 parâmetros, que são as informações que foram solicitadas para o usuário."
   ]
  },
  {
   "cell_type": "code",
   "execution_count": null,
   "metadata": {},
   "outputs": [],
   "source": [
    "def search(nome=\"\", sobrenome=\"\", email=\"\", cpf=\"\"):\n",
    "    trans = TransactionObject()\n",
    "    trans.connect()\n",
    "    trans.execute(\"SELECT * FROM clientes WHERE nome=? or sobrenome=? or email=? or cpf=?\", (nome,sobrenome,email, cpf))\n",
    "    rows = trans.fetchall()\n",
    "    trans.disconnect()\n",
    "    return rows"
   ]
  },
  {
   "cell_type": "markdown",
   "metadata": {},
   "source": [
    "A função search é a responsável por buscar os clientes já cadastrados."
   ]
  },
  {
   "cell_type": "code",
   "execution_count": null,
   "metadata": {},
   "outputs": [],
   "source": [
    "def update(id, nome, sobrenome, email, cpf):\n",
    "    trans = TransactionObject()\n",
    "    trans.connect()\n",
    "    trans.execute(\"UPDATE clientes SET nome =?, sobrenome=?, email=?, cpf=? WHERE id = ?\",(nome, sobrenome,email, cpf, id))\n",
    "    trans.persist()\n",
    "    trans.disconnect()"
   ]
  },
  {
   "cell_type": "markdown",
   "metadata": {},
   "source": [
    "A função update atualizará registros dentro do banco de dados."
   ]
  },
  {
   "cell_type": "code",
   "execution_count": null,
   "metadata": {},
   "outputs": [],
   "source": [
    "def delete(id):\n",
    "    trans = TransactionObject()\n",
    "    trans.connect()\n",
    "    trans.execute(\"DELETE FROM clientes WHERE id = ?\", (id,))\n",
    "    trans.persist()\n",
    "    trans.disconnect()"
   ]
  },
  {
   "cell_type": "markdown",
   "metadata": {},
   "source": [
    "E, por último, temos a função delete que receberá o `id` como parâmetro e realizará a exclusão desse registro."
   ]
  },
  {
   "cell_type": "markdown",
   "metadata": {},
   "source": [
    "## E agora?"
   ]
  },
  {
   "cell_type": "markdown",
   "metadata": {},
   "source": [
    "Temos o `Frontend` que faz a comunicação com o usuário, temos o `Backend` que é o código que realizará as ações de cada botão. Temos também nossa classe de conexão, que permite criar, atualizar, deletar e consultar nossa base de dados.\n",
    "\n",
    "Com isso podemos fazer a conexão entre `Frontend` e `Backend`!"
   ]
  }
 ],
 "metadata": {
  "kernelspec": {
   "display_name": "Python 3",
   "language": "python",
   "name": "python3"
  },
  "language_info": {
   "codemirror_mode": {
    "name": "ipython",
    "version": 3
   },
   "file_extension": ".py",
   "mimetype": "text/x-python",
   "name": "python",
   "nbconvert_exporter": "python",
   "pygments_lexer": "ipython3",
   "version": "3.6.5"
  }
 },
 "nbformat": 4,
 "nbformat_minor": 2
}
