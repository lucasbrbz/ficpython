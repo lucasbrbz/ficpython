{
 "cells": [
  {
   "cell_type": "markdown",
   "metadata": {},
   "source": [
    "#  Introdução ao Python\n",
    "## Professor: Luiz Ferreira"
   ]
  },
  {
   "cell_type": "markdown",
   "metadata": {},
   "source": [
    "## Módulo 1\n",
    "\n",
    "### Introdução ao Python"
   ]
  },
  {
   "cell_type": "markdown",
   "metadata": {},
   "source": [
    "_____________"
   ]
  },
  {
   "cell_type": "markdown",
   "metadata": {},
   "source": [
    "## Fazendo a conexão entre Frontend e Backend"
   ]
  },
  {
   "cell_type": "markdown",
   "metadata": {},
   "source": [
    "O primeiro passo é criar um novo arquivo, que será a parte principal de nossa aplicação, ou seja, o executável. Vamos chamá-lo de `principal.py`. Nele vamos ter de realizar a importação de nossas duas outras classes, `backend.py` e `GUI.py`. Porém, devemos criar uma nova variável chamada `app` cujo valor inicial é nulo ou vazio!\n",
    "\n"
   ]
  },
  {
   "cell_type": "code",
   "execution_count": null,
   "metadata": {},
   "outputs": [],
   "source": [
    "from GUI import *\n",
    "import Backend as core\n",
    " \n",
    "app = None"
   ]
  },
  {
   "cell_type": "markdown",
   "metadata": {},
   "source": [
    "Vamos definir uma nova interface (GUI) para a variável app!"
   ]
  },
  {
   "cell_type": "code",
   "execution_count": null,
   "metadata": {},
   "outputs": [],
   "source": [
    "app = GUI()"
   ]
  },
  {
   "cell_type": "markdown",
   "metadata": {},
   "source": [
    "Com esse comando, criamos uma instância da classe GUI, isto é, essa variável agora possui todos os elementos criados anteriormente na classe GUI!\n",
    "\n",
    "O nosso próximo passo é associar cada elemento a seu respectivo comando. Ou seja, o que cada botão deverá fazer!"
   ]
  },
  {
   "cell_type": "code",
   "execution_count": null,
   "metadata": {},
   "outputs": [],
   "source": [
    "app.btnViewAll.configure(command=view_command)\n",
    "app.btnBuscar.configure(command=search_command)\n",
    "app.btnInserir.configure(command=insert_command)\n",
    "app.btnUpdate.configure(command=update_command)\n",
    "app.btnDel.configure(command=del_command)\n",
    "app.btnClose.configure(command=app.window.destroy)"
   ]
  },
  {
   "cell_type": "markdown",
   "metadata": {},
   "source": [
    "As funções passadas no command (view_command, search_command, etc…) ainda não existem, mas elas são necessárias, pois existe uma pegadinha aqui: O parâmetro command recebe as funções, mas estas não podem ter argumentos e nós precisaremos dele. Na medida em que criamos estas funções de comando, este ponto ficará mais claro."
   ]
  },
  {
   "cell_type": "markdown",
   "metadata": {},
   "source": [
    "Vamos para a view_command()"
   ]
  },
  {
   "cell_type": "code",
   "execution_count": null,
   "metadata": {},
   "outputs": [],
   "source": [
    "def view_command():\n",
    "    rows = core.view()\n",
    "    app.listClientes.delete(0, END)\n",
    "    for r in rows:\n",
    "        app.listClientes.insert(END, r)"
   ]
  },
  {
   "cell_type": "markdown",
   "metadata": {},
   "source": [
    "Neste comando, realizamos as seguintes ações:\n",
    "\n",
    "- utilizamos a função view() do Backend para recuperar os dados;\n",
    "- limpamos a listbox de clientes;\n",
    "- fazemos uma iteração pelo resultado, adicionando as linhas a listbox de clientes.\n",
    "\n",
    "Tanto nos comandos de insert quanto no de delete da listbox foi utilizado a keyword END, ela é uma constante do Python que sempre aponta para última posição do listbox."
   ]
  },
  {
   "cell_type": "markdown",
   "metadata": {},
   "source": [
    "A próxima função será a de busca (search_command):\n",
    "\n"
   ]
  },
  {
   "cell_type": "code",
   "execution_count": null,
   "metadata": {},
   "outputs": [],
   "source": [
    "def search_command():\n",
    "    app.listClientes.delete(0, END)\n",
    "    rows = core.search(app.txtNome.get(), app.txtSobrenome.get(), app.txtEmail.get(), app.txtCPF.get())\n",
    "    for r in rows:\n",
    "        app.listClientes.insert(END, r)"
   ]
  },
  {
   "cell_type": "markdown",
   "metadata": {},
   "source": [
    "Nesta função, também limpamos a listbox de clientes e depois chamamos a função search do backend, passando os valores das variáveis que estão com o bind nos campos de input (entry). Se estiver com dúvidas sobre esta configuração, acesse novamente a primeira parte deste tutorial. O método .get() é necessário, pois as variáveis estão recebendo um objeto do campo de input (entry), ele é algo parecido com o .ToString()  do C#.\n",
    "\n"
   ]
  },
  {
   "cell_type": "markdown",
   "metadata": {},
   "source": [
    "O próximo comando é o de inserção de dados (insert_command):\n",
    "\n"
   ]
  },
  {
   "cell_type": "code",
   "execution_count": null,
   "metadata": {},
   "outputs": [],
   "source": [
    "def insert_command():\n",
    "    core.insert(app.txtNome.get(), app.txtSobrenome.get(), app.txtEmail.get(), app.txtCPF.get())\n",
    "    view_command()"
   ]
  },
  {
   "cell_type": "markdown",
   "metadata": {},
   "source": [
    "A única coisa diferente que fizemos nesta função foi chamado o comando de visualização de todos os registros, para que o usuário consiga ver o Cliente que acabou de adicionar.\n",
    "\n",
    "No momento, se o usuário clicar em algum dos itens da listbox, nada irá acontecer. Isso implica em dizer que não é possível editar ou excluir um registro. Agora precisamos fazer uma função que pegue o valor selecionado na listbox e popule os campos de input.\n",
    "\n"
   ]
  },
  {
   "cell_type": "code",
   "execution_count": null,
   "metadata": {},
   "outputs": [],
   "source": [
    "def getSelectedRow(event):\n",
    "    global selected\n",
    "    index = app.listClientes.curselection()[0]\n",
    "    selected = app.listClientes.get(index)\n",
    "    app.entNome.delete(0, END)\n",
    "    app.entNome.insert(END, selected[1])\n",
    "    app.entSobrenome.delete(0, END)\n",
    "    app.entSobrenome.insert(END, selected[2])\n",
    "    app.entEmail.delete(0, END)\n",
    "    app.entEmail.insert(END, selected[3])\n",
    "    app.entCPF.delete(0, END)\n",
    "    app.entCPF.insert(END, selected[4])"
   ]
  },
  {
   "cell_type": "markdown",
   "metadata": {},
   "source": [
    "Nesta função, a primeira coisa feita foi declarar uma variável que pode ser acessada de qualquer lugar do script. Boas práticas ditam que não se deve declarar uma variável global de dentro de uma função, mas para demonstrar que isso é possível fiz desta forma.\n",
    "\n",
    "Na sequência, realizamos as seguintes ações:\n",
    "\n",
    "Recuperamos o index do item selecionado. (Este index é a primeira posição do vetor retornado pela função curselection()).;\n",
    "Armazenamos o item selecionado na variável global selected;\n",
    "Na sequência, vamos sistematicamente apagando e preenchendo novamente os campos de input (entry);\n",
    "O próximo passo é associar esta função ao listbox e isso é um pouco diferente do que foi feito com os outros elementos (widgets).\n",
    "\n"
   ]
  },
  {
   "cell_type": "code",
   "execution_count": null,
   "metadata": {},
   "outputs": [],
   "source": [
    "app.listClientes.bind('<<ListboxSelect>>', getSelectedRow)"
   ]
  },
  {
   "cell_type": "markdown",
   "metadata": {},
   "source": [
    "No fonte acima definimos (bind) que, sempre que um item for selecionado (<<ListboxSelect>>), a função getSelectedRow será disparada.\n",
    "\n",
    "Agora já é possível criar as funções de atualização e exclusão. Vamos começar pela de atualização (update_command):"
   ]
  },
  {
   "cell_type": "code",
   "execution_count": null,
   "metadata": {},
   "outputs": [],
   "source": [
    "def update_command():\n",
    "    core.update(selected[0],app.txtNome.get(),app.txtSobrenome.get(),app.txtEmail.get(), app.txtCPF.get())\n",
    "    view_command()"
   ]
  },
  {
   "cell_type": "markdown",
   "metadata": {},
   "source": [
    "A lógica desta função é bem similar a de inserção de dados, mas ela precisa de um argumento a mais, do id e este valor é a primeira posição do vetor que armazena o item selecionado (variável selected). Para os outros campos, não vamos utilizar o que está armazenado na variável select, pois queremos atualizar os valores daquele registro e a variável está com os valores originais. Por isso utilizamos  os valores dos campos de input (entry).\n",
    "\n",
    "O último comando é o de exclusão e é o mais simples dos 5"
   ]
  },
  {
   "cell_type": "code",
   "execution_count": null,
   "metadata": {},
   "outputs": [],
   "source": [
    "def del_command():\n",
    "    id = selected[0]\n",
    "    core.delete(id)\n",
    "    view_command()"
   ]
  },
  {
   "cell_type": "markdown",
   "metadata": {},
   "source": [
    "Estamos quase no final da aplicação. Precisamos de mais um comando, o que inicia o loop principal da janela.\n",
    "\n"
   ]
  },
  {
   "cell_type": "code",
   "execution_count": null,
   "metadata": {},
   "outputs": [],
   "source": [
    "app.run()"
   ]
  },
  {
   "cell_type": "markdown",
   "metadata": {},
   "source": [
    "### A aplicação agora está pronta. Basta executar o script Aplicacao.py que a janela será exibida.\n",
    "\n"
   ]
  }
 ],
 "metadata": {
  "kernelspec": {
   "display_name": "Python 3",
   "language": "python",
   "name": "python3"
  },
  "language_info": {
   "codemirror_mode": {
    "name": "ipython",
    "version": 3
   },
   "file_extension": ".py",
   "mimetype": "text/x-python",
   "name": "python",
   "nbconvert_exporter": "python",
   "pygments_lexer": "ipython3",
   "version": "3.6.5"
  }
 },
 "nbformat": 4,
 "nbformat_minor": 2
}
