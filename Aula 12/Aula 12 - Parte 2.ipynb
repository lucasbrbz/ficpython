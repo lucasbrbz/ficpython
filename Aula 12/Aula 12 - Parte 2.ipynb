{
 "cells": [
  {
   "cell_type": "markdown",
   "metadata": {},
   "source": [
    "#  Introdução ao Python\n",
    "## Professor: Luiz Ferreira"
   ]
  },
  {
   "cell_type": "markdown",
   "metadata": {},
   "source": [
    "## Módulo 3\n",
    "\n",
    "### Python para Mobile"
   ]
  },
  {
   "cell_type": "markdown",
   "metadata": {},
   "source": [
    "_____________"
   ]
  },
  {
   "cell_type": "markdown",
   "metadata": {},
   "source": [
    "## Segunda aplicação: uma banco de dados"
   ]
  },
  {
   "cell_type": "markdown",
   "metadata": {},
   "source": [
    "Continuando os trabalhos com aplicações mobile em Python, propomos a criação de um manipulador de banco de dados. Com isso poderemos trabalhar conceitos de Kivy e SQLite de forma conjunta.\n",
    "\n",
    "Para isso, devemos ter o ambiente Kivy devidamente instalado, pois utilizaremos a mesma estrutura construída para desenvolvimento de aplicativos ou jogos.\n",
    "\n",
    "Novamente, comecemos com a importação das bilbiotecas:"
   ]
  },
  {
   "cell_type": "code",
   "execution_count": null,
   "metadata": {},
   "outputs": [],
   "source": [
    "import kivy\n",
    "import os\n",
    "import sqlite3\n",
    "\n",
    "from kivy.config import Config\n",
    "Config.set(\"graphics\",\"width\",\"340\")\n",
    "Config.set(\"graphics\",\"hight\",\"640\")\n",
    "\n",
    "from kivy.app import App\n",
    "from kivy.uix.boxlayout import BoxLayout\n",
    "from kivy.uix.button import Button\n",
    "from kivy.uix.popup import Popup\n",
    "from kivy.uix.label import Label \n",
    "from kivy.uix.screenmanager import ScreenManager, Screen \n",
    "from kivy.uix.screenmanager import FadeTransition\n",
    "from kivy.properties import StringProperty"
   ]
  },
  {
   "cell_type": "markdown",
   "metadata": {},
   "source": [
    "Note que aqui temos diversas propriedades novas que são auto-explicáveis, os elementos `App`, `BoxLayout` e `Button`, já conhecemos e utilizamos na nossa aplicação de calculadora.\n",
    "\n",
    "Popup = É usado para criar elementos modal (elementos que bloqueiam acesso as demais janelas) sobrepondo a tela principal ou outras telas invocadas antes dela.\n",
    "\n",
    "Label = Assim como vimos em aulas anteriores, é uma etiqueta que será a forma de comunicação com nosso usuário.\n",
    "\n",
    "ScreenManager, Screen = Aqui temos o controle de diversas telas com ScreenManager e uma nova tela com Scree, que permitirá que trabalhemos com diversas telas em nossa aplicação.\n",
    "\n",
    "FadeTransition = Como será a transição entre duas telas, um simples efeito. \n",
    "\n",
    "StringProperty = Permitirá que trabalhemos configurações de texto dentro do Kivy.\n",
    "\n",
    "Temos também o Config que permitirá que configuremos aspectos de nossa aplicação, na nossa aplicação, será a configuração das dimensões da aplicação, 640 x 340 px."
   ]
  },
  {
   "cell_type": "code",
   "execution_count": null,
   "metadata": {},
   "outputs": [],
   "source": [
    "def connect_to_database(path):\n",
    "    try:\n",
    "        con = sqlite3.connect(path)\n",
    "        cursor = con.cursor()\n",
    "        create_table_produtos(cursor)\n",
    "        con.commit()\n",
    "        con.close()\n",
    "    except Exception as e:\n",
    "        print(e)"
   ]
  },
  {
   "cell_type": "markdown",
   "metadata": {},
   "source": [
    "A função acima será responsável por garantir nossa conexão com o banco de dados SQLite, que vimos como funciona em aulas anteriores. "
   ]
  },
  {
   "cell_type": "code",
   "execution_count": null,
   "metadata": {},
   "outputs": [],
   "source": [
    "def create_table_produtos(cursor):\n",
    "    cursor.execute(\n",
    "        '''\n",
    "        CREATE TABLE Produtos(\n",
    "        ID        INT   PRIMARY KEY  NOT NULL,\n",
    "        Nome    TEXT               NOT NULL,\n",
    "        Marca     TEXT               NOT NULL,\n",
    "        Preco     FLOAT              NOT NULL,\n",
    "        Quantidade   INT                NOT NULL\n",
    "        )'''\n",
    "    )"
   ]
  },
  {
   "cell_type": "markdown",
   "metadata": {},
   "source": [
    "Com essa função criamos a tabela produtos."
   ]
  },
  {
   "cell_type": "code",
   "execution_count": null,
   "metadata": {},
   "outputs": [],
   "source": [
    "class MessagePopup(Popup):\n",
    "    pass"
   ]
  },
  {
   "cell_type": "markdown",
   "metadata": {},
   "source": [
    "Acima temos uma classe para apresentar uma tela via Popup."
   ]
  },
  {
   "cell_type": "code",
   "execution_count": null,
   "metadata": {},
   "outputs": [],
   "source": [
    "class MainWid(ScreenManager):\n",
    "    def __init__(self,**kwargs):\n",
    "        super(MainWid,self).__init__()\n",
    "        self.APP_PATH = os.getcwd()\n",
    "        self.DB_PATH = self.APP_PATH+'/my_database.db'\n",
    "        self.StartWid = StartWid(self)\n",
    "        self.DataBaseWid = DataBaseWid(self)\n",
    "        self.InsertDataWid = BoxLayout()\n",
    "        self.UpdateDataWid = BoxLayout()\n",
    "        self.Popup = MessagePopup()\n",
    "        \n",
    "        wid = Screen(name='start')\n",
    "        wid.add_widget(self.StartWid)\n",
    "        self.add_widget(wid)\n",
    "        wid = Screen(name='database')\n",
    "        wid.add_widget(self.DataBaseWid)\n",
    "        self.add_widget(wid)\n",
    "        wid = Screen(name='insertdata')\n",
    "        wid.add_widget(self.InsertDataWid)\n",
    "        self.add_widget(wid)\n",
    "        wid = Screen(name='updatedata')\n",
    "        wid.add_widget(self.UpdateDataWid)\n",
    "        self.add_widget(wid)\n",
    "        \n",
    "        self.goto_start()\n",
    "        \n",
    "    def goto_start(self):\n",
    "        self.current = 'start'\n",
    "        \n",
    "    def goto_database(self):\n",
    "        self.DataBaseWid.check_memory()\n",
    "        self.current = 'database'\n",
    "        \n",
    "    def goto_insertdata(self):\n",
    "        self.InsertDataWid.clear_widgets()\n",
    "        wid = InsertDataWid(self)\n",
    "        self.InsertDataWid.add_widget(wid)\n",
    "        self.current = 'insertdata'\n",
    "\n",
    "    def goto_updatedata(self,data_id):\n",
    "        self.UpdateDataWid.clear_widgets()\n",
    "        wid = UpdateDataWid(self,data_id)\n",
    "        self.UpdateDataWid.add_widget(wid)\n",
    "        self.current = 'updatedata'"
   ]
  },
  {
   "cell_type": "markdown",
   "metadata": {},
   "source": [
    "Acima temos a classe principal da nossa aplicação, a nossa `tela inicial e principal`! \n",
    "\n",
    "Observemos por partes: "
   ]
  },
  {
   "cell_type": "code",
   "execution_count": null,
   "metadata": {},
   "outputs": [],
   "source": [
    "    super(MainWid,self).__init__()\n",
    "        self.APP_PATH = os.getcwd()\n",
    "        self.DB_PATH = self.APP_PATH+'/my_database.db'\n",
    "        self.StartWid = StartWid(self)\n",
    "        self.DataBaseWid = DataBaseWid(self)\n",
    "        self.InsertDataWid = BoxLayout()\n",
    "        self.UpdateDataWid = BoxLayout()\n",
    "        self.Popup = MessagePopup()"
   ]
  },
  {
   "cell_type": "markdown",
   "metadata": {},
   "source": [
    "Aqui temos construtores de nossas telas e acesso a elas: \n",
    "\n",
    "- APP_PATH = recolherá o caminho onde estará nossa aplicação, afim de fornecer uma forma de coletar arquivos parentes da nossa aplicação.\n",
    "- DB_PATH = usará o APP_PATH para localizar onde está instalado, porém, adicionará o nome do nosso banco de dados, afim de formar o caminho completo para acessar tal recurso.\n",
    "- StartWid = será o responsável por iniciar a tela principal\n",
    "- DataBaseWid = será o responsável por inicial a janela do nosso banco de dados\n",
    "- InsertDataWid = será o responsável por iniciar uma janela de inserção de dados\n",
    "- UpdateDataWId = será o responsável por iniciar uma janela de alteração de dados\n",
    "- Popup = será o responsável por invocar janelas Popup dentro da aplicação"
   ]
  },
  {
   "cell_type": "code",
   "execution_count": null,
   "metadata": {},
   "outputs": [],
   "source": [
    "        wid = Screen(name='start')\n",
    "        wid.add_widget(self.StartWid)\n",
    "        self.add_widget(wid)\n",
    "        wid = Screen(name='database')\n",
    "        wid.add_widget(self.DataBaseWid)\n",
    "        self.add_widget(wid)\n",
    "        wid = Screen(name='insertdata')\n",
    "        wid.add_widget(self.InsertDataWid)\n",
    "        self.add_widget(wid)\n",
    "        wid = Screen(name='updatedata')\n",
    "        wid.add_widget(self.UpdateDataWid)\n",
    "        self.add_widget(wid)\n",
    "        \n",
    "        self.goto_start()"
   ]
  },
  {
   "cell_type": "markdown",
   "metadata": {},
   "source": [
    "Acima inserimos os elementros dentro de nossa janela principal."
   ]
  },
  {
   "cell_type": "code",
   "execution_count": null,
   "metadata": {},
   "outputs": [],
   "source": [
    "    def goto_start(self):\n",
    "        self.current = 'start'"
   ]
  },
  {
   "cell_type": "markdown",
   "metadata": {},
   "source": [
    "Essa função será a responsável por iniciar nossa aplicação."
   ]
  },
  {
   "cell_type": "code",
   "execution_count": null,
   "metadata": {},
   "outputs": [],
   "source": [
    "    def goto_database(self):\n",
    "        self.DataBaseWid.check_memory()\n",
    "        self.current = 'database'"
   ]
  },
  {
   "cell_type": "markdown",
   "metadata": {},
   "source": [
    "Essa função será responsável por iniciar a janela database."
   ]
  },
  {
   "cell_type": "code",
   "execution_count": null,
   "metadata": {},
   "outputs": [],
   "source": [
    "    def goto_insertdata(self):\n",
    "        self.InsertDataWid.clear_widgets()\n",
    "        wid = InsertDataWid(self)\n",
    "        self.InsertDataWid.add_widget(wid)\n",
    "        self.current = 'insertdata'"
   ]
  },
  {
   "cell_type": "markdown",
   "metadata": {},
   "source": [
    "Essa função chamará a janela de insertdata."
   ]
  },
  {
   "cell_type": "code",
   "execution_count": null,
   "metadata": {},
   "outputs": [],
   "source": [
    "    def goto_updatedata(self,data_id):\n",
    "        self.UpdateDataWid.clear_widgets()\n",
    "        wid = UpdateDataWid(self,data_id)\n",
    "        self.UpdateDataWid.add_widget(wid)\n",
    "        self.current = 'updatedata'"
   ]
  },
  {
   "cell_type": "markdown",
   "metadata": {},
   "source": [
    "Por último, temos a construção da janela para atualizar um dado dentro do banco."
   ]
  },
  {
   "cell_type": "markdown",
   "metadata": {},
   "source": [
    "#### Passamos então para a próxima classe"
   ]
  },
  {
   "cell_type": "code",
   "execution_count": null,
   "metadata": {},
   "outputs": [],
   "source": [
    "class StartWid(BoxLayout):\n",
    "    def __init__(self,mainwid,**kwargs):\n",
    "        super(StartWid,self).__init__()\n",
    "        self.mainwid = mainwid\n",
    "        \n",
    "    def create_database(self):\n",
    "        connect_to_database(self.mainwid.DB_PATH)\n",
    "        self.mainwid.goto_database()"
   ]
  },
  {
   "cell_type": "markdown",
   "metadata": {},
   "source": [
    "Aqui começamos a trabalhar com nossas janelas.\n",
    "\n",
    "Começando pela StartWid que tem seu tipo BoxLayout.\n",
    "\n",
    "Essa classe será a responsável por iniciar a aplicação. Sendo assim, temos a função `__ init __` e a `create_database` que inicializará nosso banco de dados."
   ]
  },
  {
   "cell_type": "code",
   "execution_count": null,
   "metadata": {},
   "outputs": [],
   "source": [
    "class DataBaseWid(BoxLayout):\n",
    "    def __init__(self,mainwid,**kwargs):\n",
    "        super(DataBaseWid,self).__init__()\n",
    "        self.mainwid = mainwid\n",
    "        \n",
    "    def check_memory(self):\n",
    "        self.ids.container.clear_widgets()\n",
    "        con = sqlite3.connect(self.mainwid.DB_PATH)\n",
    "        cursor = con.cursor()\n",
    "        cursor.execute('select ID, Nome, Marca, Preco, Quantidade from Produtos')\n",
    "        for i in cursor:\n",
    "            wid = DataWid(self.mainwid)\n",
    "            r1 = 'ID: '+str(100000000+i[0])[1:9]+'\\n'\n",
    "            r2 = i[1]+', '+i[2]+'\\n'\n",
    "            r3 = 'Preço por unidade: '+'$'+str(i[3])+'\\n'\n",
    "            r4 = 'Quantidade: '+str(i[4])\n",
    "            wid.data_id = str(i[0])\n",
    "            wid.data = r1+r2+r3+r4\n",
    "            self.ids.container.add_widget(wid)\n",
    "        wid = NewDataButton(self.mainwid)\n",
    "        self.ids.container.add_widget(wid)\n",
    "        con.close()"
   ]
  },
  {
   "cell_type": "markdown",
   "metadata": {},
   "source": [
    "Aqui temos a janela do banco de dados. A construção pela janela `__ init __`. E a função `check_memory` é a responsável por fazer a conexão com o banco de dados e executar uma busca dentro do banco de dados para retornar os produtos cadastrados."
   ]
  },
  {
   "cell_type": "code",
   "execution_count": null,
   "metadata": {},
   "outputs": [],
   "source": [
    "class UpdateDataWid(BoxLayout):\n",
    "    def __init__(self,mainwid,data_id,**kwargs):\n",
    "        super(UpdateDataWid,self).__init__()\n",
    "        self.mainwid = mainwid\n",
    "        self.data_id = data_id\n",
    "        self.check_memory()\n",
    "\n",
    "    def check_memory(self):\n",
    "        con = sqlite3.connect(self.mainwid.DB_PATH)\n",
    "        cursor = con.cursor()\n",
    "        s = 'select Nome, Marca, Preco, Quantidade from Produtos where ID='\n",
    "        cursor.execute(s+self.data_id)\n",
    "        for i in cursor:\n",
    "            self.ids.ti_nome.text = i[0]\n",
    "            self.ids.ti_marca.text = i[1]\n",
    "            self.ids.ti_preco.text = str(i[2])\n",
    "            self.ids.ti_quantidade.text = str(i[3])\n",
    "        con.close()\n",
    "\n",
    "    def update_data(self):\n",
    "        con = sqlite3.connect(self.mainwid.DB_PATH)\n",
    "        cursor = con.cursor()\n",
    "        d1 = self.ids.ti_nome.text\n",
    "        d2 = self.ids.ti_marca.text\n",
    "        d3 = self.ids.ti_preco.text\n",
    "        d4 = self.ids.ti_quantidade.text\n",
    "        a1 = (d1,d2,d3,d4)\n",
    "        s1 = 'UPDATE Produtos SET'\n",
    "        s2 = 'Nome=\"%s\",Marca=\"%s\",Preco=%s,Quantidade=%s' % a1\n",
    "        s3 = 'WHERE ID=%s' % self.data_id\n",
    "        try:\n",
    "            cursor.execute(s1+' '+s2+' '+s3)\n",
    "            con.commit()\n",
    "            con.close()\n",
    "            self.mainwid.goto_database()\n",
    "        except Exception as e:\n",
    "            message = self.mainwid.Popup.ids.message\n",
    "            self.mainwid.Popup.open()\n",
    "            self.mainwid.Popup.title = \"Data base error\"\n",
    "            if '' in a1:\n",
    "                message.text = 'Um ou mais campos estão vazios'\n",
    "            else: \n",
    "                message.text = str(e)\n",
    "            con.close()\n",
    "\n",
    "    def delete_data(self):\n",
    "        con = sqlite3.connect(self.mainwid.DB_PATH)\n",
    "        cursor = con.cursor()\n",
    "        s = 'delete from produtos where ID='+self.data_id\n",
    "        cursor.execute(s)\n",
    "        con.commit()\n",
    "        con.close()\n",
    "        self.mainwid.goto_database()\n",
    "\n",
    "    def back_to_dbw(self):\n",
    "        self.mainwid.goto_database()"
   ]
  },
  {
   "cell_type": "markdown",
   "metadata": {},
   "source": [
    "Aqui temos a janela de atualização do banco de dados. Perceba que dentro dessa tela teremos os campos para a manipulação do dado armazenado, um botão para salvar o dado, um botão para apagar o dado e, por último, um botão para retornar para a janela anterior."
   ]
  },
  {
   "cell_type": "code",
   "execution_count": null,
   "metadata": {},
   "outputs": [],
   "source": [
    "class InsertDataWid(BoxLayout):\n",
    "    def __init__(self,mainwid,**kwargs):\n",
    "        super(InsertDataWid,self).__init__()\n",
    "        self.mainwid = mainwid\n",
    "\n",
    "    def insert_data(self):\n",
    "        con = sqlite3.connect(self.mainwid.DB_PATH)\n",
    "        cursor = con.cursor()\n",
    "        d1 = self.ids.ti_id.text\n",
    "        d2 = self.ids.ti_nome.text\n",
    "        d3 = self.ids.ti_marca.text\n",
    "        d4 = self.ids.ti_preco.text\n",
    "        d5 = self.ids.ti_quantidade.text\n",
    "        a1 = (d1,d2,d3,d4,d5)\n",
    "        s1 = 'INSERT INTO Produtos(ID, Nome, Marca, Preco, Quantidade)'\n",
    "        s2 = 'VALUES(%s,\"%s\",\"%s\",%s,%s)' % a1\n",
    "        try:\n",
    "            cursor.execute(s1+' '+s2)\n",
    "            con.commit()\n",
    "            con.close()\n",
    "            self.mainwid.goto_database()\n",
    "        except Exception as e:\n",
    "            message = self.mainwid.Popup.ids.message\n",
    "            self.mainwid.Popup.open()\n",
    "            self.mainwid.Popup.title = \"Data base error\"\n",
    "            if '' in a1:\n",
    "                message.text = 'Um ou mais campos estão vazios'\n",
    "            else: \n",
    "                message.text = str(e)\n",
    "            con.close()\n",
    "\n",
    "    def back_to_dbw(self):\n",
    "        self.mainwid.goto_database()"
   ]
  },
  {
   "cell_type": "markdown",
   "metadata": {},
   "source": [
    "Aqui temos a classe responsável pela janela de inserção de dados. Com a função `__ init __` iniciaremos a construção da janela e a função `insert_data` que obtém todas as variáveis adquiridas e insere no banco de dados. Por último, temos a função `back_to_dbw` que funcionará junto do botão voltar."
   ]
  },
  {
   "cell_type": "code",
   "execution_count": null,
   "metadata": {},
   "outputs": [],
   "source": [
    "class DataWid(BoxLayout):\n",
    "    def __init__(self,mainwid,**kwargs):\n",
    "        super(DataWid,self).__init__()\n",
    "        self.mainwid = mainwid\n",
    "        \n",
    "    def update_data(self,data_id):\n",
    "        self.mainwid.goto_updatedata(data_id)\n",
    "        \n",
    "class NewDataButton(Button):\n",
    "    def __init__(self,mainwid,**kwargs):\n",
    "        super(NewDataButton,self).__init__()\n",
    "        self.mainwid = mainwid\n",
    "        \n",
    "    def create_new_product(self):\n",
    "        self.mainwid.goto_insertdata()\n",
    "\n",
    "class MainApp(App):\n",
    "    def build(self):\n",
    "        return MainWid()"
   ]
  },
  {
   "cell_type": "markdown",
   "metadata": {},
   "source": [
    "As classes acima, posicionam as demais dentro da aplicação, note que todas as classes chamar outras classes, porém, com dados que são relevantes para sua execução, bem parecido com o que fizemos para cadastrar, apagar e atualizar um dado dentro de Django."
   ]
  },
  {
   "cell_type": "code",
   "execution_count": null,
   "metadata": {},
   "outputs": [],
   "source": [
    "if __name__ == '__main__':\n",
    "    MainApp().run()"
   ]
  },
  {
   "cell_type": "markdown",
   "metadata": {},
   "source": [
    "Para finalizar o arquivo .py, temos o construtor principal, que chamará a classe MainApp que executará a primeira (e principal) janela."
   ]
  },
  {
   "cell_type": "markdown",
   "metadata": {},
   "source": [
    "## Temos nosso arquivo .py concluída, porém, temos de criar os elementos que cada janela deverá possuir (lembra do arquivo .kv?)"
   ]
  },
  {
   "cell_type": "markdown",
   "metadata": {},
   "source": [
    "Aqui criaremos 9 elementos, representadno as 9 funções criadas dentro do arquivo .py ."
   ]
  },
  {
   "cell_type": "code",
   "execution_count": null,
   "metadata": {},
   "outputs": [],
   "source": [
    "<MainWid>:\n",
    "    canvas:\n",
    "        Color:\n",
    "            rgb: 1,1,1\n",
    "        Rectangle:\n",
    "            pos: self.pos\n",
    "            size: self.size"
   ]
  },
  {
   "cell_type": "code",
   "execution_count": null,
   "metadata": {},
   "outputs": [],
   "source": [
    "<StartWid>:\n",
    "    orientation: 'vertical'\n",
    "    canvas:\n",
    "        Color:\n",
    "            rgb: .3,.3,.9\n",
    "        Rectangle:\n",
    "            pos: self.pos\n",
    "            size: self.size\n",
    "    BoxLayout:\n",
    "        size_hint_y: .7\n",
    "    Button:\n",
    "        size_hint_y: .1\n",
    "        text: 'Conectar a base de dados'\n",
    "        on_press: root.create_database()\n",
    "    BoxLayout:\n",
    "        size_hint_y: .2"
   ]
  },
  {
   "cell_type": "code",
   "execution_count": null,
   "metadata": {},
   "outputs": [],
   "source": [
    "<DataWid>:\n",
    "    data: ''\n",
    "    data_id: ''\n",
    "    canvas:\n",
    "        Color:\n",
    "            rgb: 0.2,0.2,0.2\n",
    "        Rectangle:\n",
    "            size: self.size\n",
    "            pos: self.pos\n",
    "    Label:\n",
    "        size_hint_x: 0.9\n",
    "        size_font: self.width*0.4\n",
    "        text: root.data\n",
    "    Button:\n",
    "        size_hint_x: 0.1\n",
    "        text: 'Editar'\n",
    "        on_press: root.update_data(root.data_id)"
   ]
  },
  {
   "cell_type": "code",
   "execution_count": null,
   "metadata": {},
   "outputs": [],
   "source": [
    "<NewDataButton>:\n",
    "    font_size: self.height*0.5\n",
    "    text: '+'\n",
    "    on_press: self.create_new_product()"
   ]
  },
  {
   "cell_type": "code",
   "execution_count": null,
   "metadata": {},
   "outputs": [],
   "source": [
    "<DataBaseWid>:\n",
    "    canvas:\n",
    "        Color:\n",
    "            rgb: .3,.3,.9\n",
    "        Rectangle:\n",
    "            pos: self.pos\n",
    "            size: self.size\n",
    "    ScrollView:\n",
    "        size: self.size\n",
    "        GridLayout:\n",
    "            id: container\n",
    "            padding: [10,10,10,10]\n",
    "            spacing: 5\n",
    "            size_hint_y: None\n",
    "            cols: 1\n",
    "            row_default_height: root.height*0.2\n",
    "            height: self.minimum_height"
   ]
  },
  {
   "cell_type": "code",
   "execution_count": null,
   "metadata": {},
   "outputs": [],
   "source": [
    "<LeftLabel@Label>:\n",
    "    text_size: self.size\n",
    "    halign: 'left'"
   ]
  },
  {
   "cell_type": "code",
   "execution_count": null,
   "metadata": {},
   "outputs": [],
   "source": [
    "<MessagePopup>:\n",
    "    BoxLayout:\n",
    "        orientation: 'vertical'\n",
    "        Label:\n",
    "            id: message\n",
    "            size_hint: 1,0.8\n",
    "            text: ''\n",
    "        Button:\n",
    "            size_hint: 1,0.2\n",
    "            text: 'Voltar'\n",
    "            on_press: root.dismiss()"
   ]
  },
  {
   "cell_type": "code",
   "execution_count": null,
   "metadata": {},
   "outputs": [],
   "source": [
    "<InsertDataWid>:\n",
    "    orientation: 'vertical'\n",
    "    canvas:\n",
    "        Color:\n",
    "            rgb: 0.2,0.2,0.2\n",
    "        Rectangle:\n",
    "            pos: self.pos\n",
    "            size: self.size\n",
    "    LeftLabel: \n",
    "        text: ' ID:'\n",
    "    TextInput:\n",
    "        id: ti_id\n",
    "        multiline: False\n",
    "        hint_text: 'ID'\n",
    "    LeftLabel: \n",
    "        text: ' Nome:'\n",
    "    TextInput:\n",
    "        id: ti_nome\n",
    "        multiline: False\n",
    "        hint_text: 'Nome'\n",
    "    LeftLabel: \n",
    "        text: ' Marca:'\n",
    "    TextInput:\n",
    "        id: ti_marca\n",
    "        multiline: False\n",
    "        hint_text: 'Marca'\n",
    "    LeftLabel: \n",
    "        text: ' Preço:'\n",
    "    TextInput:\n",
    "        id: ti_preco\n",
    "        multiline: False\n",
    "        hint_text: 'Preço'\n",
    "    LeftLabel: \n",
    "        text: ' Quantidade:'\n",
    "    TextInput:\n",
    "        id: ti_quantidade\n",
    "        multiline: False\n",
    "    BoxLayout:\n",
    "        size_hint_y: 5\n",
    "    BoxLayout: \n",
    "        Button:\n",
    "            text: 'Criar'\n",
    "            on_press: root.insert_data()\n",
    "        Button:\n",
    "            text: 'Sair'\n",
    "            on_press: root.back_to_dbw()"
   ]
  },
  {
   "cell_type": "code",
   "execution_count": null,
   "metadata": {},
   "outputs": [],
   "source": [
    "<UpdateDataWid>:\n",
    "    orientation: 'vertical'\n",
    "    data_id: ''\n",
    "    canvas:\n",
    "        Color:\n",
    "            rgb: 0.2,0.2,0.2\n",
    "        Rectangle:\n",
    "            pos: self.pos\n",
    "            size: self.size\n",
    "    LeftLabel: \n",
    "        text: ' ID: '+root.data_id\n",
    "    LeftLabel: \n",
    "        text: ' Nome:'\n",
    "    TextInput:\n",
    "        id: ti_nome\n",
    "        multiline: False\n",
    "        hint_text: 'Nome'\n",
    "    LeftLabel: \n",
    "        text: ' Marca:'\n",
    "    TextInput:\n",
    "        id: ti_marca\n",
    "        multiline: False\n",
    "        hint_text: 'Marca'\n",
    "    LeftLabel: \n",
    "        text: ' Preço:'\n",
    "    TextInput:\n",
    "        id: ti_preco\n",
    "        multiline: False\n",
    "        hint_text: 'Preço'\n",
    "    LeftLabel:  \n",
    "        text: ' Quantidade:'\n",
    "    TextInput:\n",
    "        id: ti_quantidade\n",
    "        multiline: False\n",
    "    BoxLayout:\n",
    "        size_hint_y: 4\n",
    "    BoxLayout:\n",
    "        Button:\n",
    "            text: 'Atualizar'\n",
    "            on_press: root.update_data()\n",
    "        Button:\n",
    "            text: 'Apagar'\n",
    "            on_press: root.delete_data()\n",
    "    Button: \n",
    "        text: 'Sair'\n",
    "        on_press: root.mainwid.goto_database()"
   ]
  },
  {
   "cell_type": "markdown",
   "metadata": {},
   "source": [
    "Note que, assim como a calculadora, temos sempre a mesma estrutura, onde as características são modificadadas.\n",
    "\n",
    "Com isso podemos rodar nossa aplicação."
   ]
  }
 ],
 "metadata": {
  "kernelspec": {
   "display_name": "Python 3",
   "language": "python",
   "name": "python3"
  },
  "language_info": {
   "codemirror_mode": {
    "name": "ipython",
    "version": 3
   },
   "file_extension": ".py",
   "mimetype": "text/x-python",
   "name": "python",
   "nbconvert_exporter": "python",
   "pygments_lexer": "ipython3",
   "version": "3.6.6"
  }
 },
 "nbformat": 4,
 "nbformat_minor": 2
}
