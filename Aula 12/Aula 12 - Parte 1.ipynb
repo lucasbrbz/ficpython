{
 "cells": [
  {
   "cell_type": "markdown",
   "metadata": {},
   "source": [
    "#  Introdução ao Python\n",
    "## Professor: Luiz Ferreira"
   ]
  },
  {
   "cell_type": "markdown",
   "metadata": {},
   "source": [
    "## Módulo 3\n",
    "\n",
    "### Python para Mobile"
   ]
  },
  {
   "cell_type": "markdown",
   "metadata": {},
   "source": [
    "_____________"
   ]
  },
  {
   "cell_type": "markdown",
   "metadata": {},
   "source": [
    "## Primeira aplicação: uma calculadora"
   ]
  },
  {
   "cell_type": "markdown",
   "metadata": {},
   "source": [
    "Para começar os trabalhos com aplicações mobile em Python, propomos a criação de uma calculadora. Por se tratar de um recurso simples que é de fácil compreensão, tomamos como o primeiro passo de nossa atividade.\n",
    "\n",
    "Para isso, devemos ter o ambiente Kivy devidamente instalado, pois utilizaremos a mesma estrutura construída para desenvolvimento de aplicativos ou jogos.\n",
    "\n",
    "Comecemos com a importação das bilbiotecas:"
   ]
  },
  {
   "cell_type": "code",
   "execution_count": null,
   "metadata": {},
   "outputs": [],
   "source": [
    "import kivy\n",
    "\n",
    "from kivy.app import App\n",
    "from kivy.uix.gridlayout import GridLayout"
   ]
  },
  {
   "cell_type": "markdown",
   "metadata": {},
   "source": [
    "Onde, importaremos todos os elementos de kivy, focando na classe App, que é a classe base para criação de qualquer aplicação em Kivy. É aqui que entrará nosso construção principal que será executado em loop. \n",
    "\n",
    "Já o import GridLayout, é o responsável por dividir nossa aplicação em grid, que permitirá o posicionamento de elementos por colunas e linas (cols e rows). Assim como vimos em TKinter ou Django!\n",
    "\n"
   ]
  },
  {
   "cell_type": "code",
   "execution_count": null,
   "metadata": {},
   "outputs": [],
   "source": [
    "class CalcGridLayout(GridLayout):"
   ]
  },
  {
   "cell_type": "markdown",
   "metadata": {},
   "source": [
    "Aqui criamos o layout de nossa calculadora, utilizando o GridLayout como direção para a execução da aplicação."
   ]
  },
  {
   "cell_type": "code",
   "execution_count": null,
   "metadata": {},
   "outputs": [],
   "source": [
    "    def calculate(self, calculation):\n",
    "        if calculation:\n",
    "            try:\n",
    "                self.display.text = str(eval(calculation))\n",
    "            except Exception:\n",
    "                self.display.text = \"Error\""
   ]
  },
  {
   "cell_type": "markdown",
   "metadata": {},
   "source": [
    "A função acima, chamada de calculate, será a responsável por resolver nossas equações, resumindo, será a execução do botão `\"=\"`. \n",
    "\n",
    "Podemos notar que quando a função é chamada, ele verificará se a variável calculation está vazia, caso não esteja, ele tentará executar o cálculo do texto acumulado no visor da calculadora, isso, utilizando casts.\n",
    "\n",
    "Caso aconteça qualquer erro no cálculo, uma mensagem de erro será exibida no visor."
   ]
  },
  {
   "cell_type": "code",
   "execution_count": null,
   "metadata": {},
   "outputs": [],
   "source": [
    "class CalculatorApp(App):\n",
    " \n",
    "    def build(self):\n",
    "        return CalcGridLayout()"
   ]
  },
  {
   "cell_type": "markdown",
   "metadata": {},
   "source": [
    "A classe CalculatorApp(App), construirá nosso aplicativo baseada no Grid que construimos acima."
   ]
  },
  {
   "cell_type": "code",
   "execution_count": null,
   "metadata": {},
   "outputs": [],
   "source": [
    "calcApp = CalculatorApp()\n",
    "calcApp.run()"
   ]
  },
  {
   "cell_type": "markdown",
   "metadata": {},
   "source": [
    "Agora faremos uma variável receber nossa aplicação para podermos trabalhar com ela. E por fim, com calcApp.run(), executaremos o aplicativo."
   ]
  },
  {
   "cell_type": "markdown",
   "metadata": {},
   "source": [
    "### Apenas com isso não temos a nossa aplicação! "
   ]
  },
  {
   "cell_type": "markdown",
   "metadata": {},
   "source": [
    "#### Devemos construir nossos detalhes de construção no arquivo .kv"
   ]
  },
  {
   "cell_type": "markdown",
   "metadata": {},
   "source": [
    "Dentro do arquivo .kv iremos configurar detalhes de nossa aplicação, como quantidade de linhas e colunas, tamanhos, textos... \n",
    "\n",
    "O nome do arquivo .kv tem um padrão, devemos utilizar o mesmo nome que colocamos na classe principal do nosso arquivo .py, porém, sem o App, no nosso caso o arquivo se chamará `calculator.kv`.\n",
    "\n",
    "A partir desse momento, passaremos a trabalhar com o arquivo .kv..."
   ]
  },
  {
   "cell_type": "code",
   "execution_count": null,
   "metadata": {},
   "outputs": [],
   "source": [
    "<CustButton@Button>:\n",
    "    font_size: 32"
   ]
  },
  {
   "cell_type": "markdown",
   "metadata": {},
   "source": [
    "O primeiro comando será o responsável por customizar botão, nesse nosso exemplo, setamos o tamanho da fonte em 32px. Com isso temos todos nossos botões com o mesmo tamanho de fonte customizada."
   ]
  },
  {
   "cell_type": "code",
   "execution_count": null,
   "metadata": {},
   "outputs": [],
   "source": [
    "<CalcGridLayout>:"
   ]
  },
  {
   "cell_type": "markdown",
   "metadata": {},
   "source": [
    "Precisamos colocar qual a classe que contém os elementos gráficos, no nosso caso, a classe que possui o GridLayout. Devemos observar o detalhe para a edição da classe que criamos, o nome, deve ser o mesmo que o especificado no arquivo .py."
   ]
  },
  {
   "cell_type": "code",
   "execution_count": null,
   "metadata": {},
   "outputs": [],
   "source": [
    "    id: calculator\n",
    "    display: entry\n",
    "    rows: 5\n",
    "    padding: 10\n",
    "    spacing: 10"
   ]
  },
  {
   "cell_type": "markdown",
   "metadata": {},
   "source": [
    "Construiremos assim nosso grid, que terá o nome calculator, que é o mesmo nome do arquivo .kv \n",
    "Criaremos um espaço para mostrar nossos resultados, que chamaremos de entry, será o nosso \"display\".\n",
    "\n",
    "Passamos a quantidade de linhas que nosso aplicativo terá, no caso 5 linhas. E as configurações de padding e spacing, servirão para distanciar os elementos, uns dos outros, evitando a aparência de acúmulo de itens.\n",
    "\n",
    "#### Com o grid configurado, passemos para a colocação dos elementos"
   ]
  },
  {
   "cell_type": "code",
   "execution_count": null,
   "metadata": {},
   "outputs": [],
   "source": [
    "    BoxLayout:\n",
    "        TextInput:\n",
    "            id: entry\n",
    "            font_size: 32\n",
    "            multiline: False"
   ]
  },
  {
   "cell_type": "markdown",
   "metadata": {},
   "source": [
    "O box acima será o display da calculadora, que possui uma entrada de dados no formato texto. Chamado entry (olha a referenciação do nosso display), a fonte dos números dentro do display será 32 px e não permitirá quebra de linha dentro desse campo.\n",
    "\n",
    "Os próximos elementos serão os botões, que serão inseridos abaixo e que possibilitarão inserir textos no nosso display."
   ]
  },
  {
   "cell_type": "code",
   "execution_count": null,
   "metadata": {},
   "outputs": [],
   "source": [
    "    BoxLayout:\n",
    "        spacing: 10\n",
    "        CustButton:\n",
    "            text: \"7\"\n",
    "            on_press: entry.text += self.text\n",
    "        CustButton:\n",
    "            text: \"8\"\n",
    "            on_press: entry.text += self.text\n",
    "        CustButton:\n",
    "            text: \"9\"\n",
    "            on_press: entry.text += self.text\n",
    "        CustButton:\n",
    "            text: \"+\"\n",
    "            on_press: entry.text += self.text"
   ]
  },
  {
   "cell_type": "markdown",
   "metadata": {},
   "source": [
    "Note que trabalharemos cada linha como um BoxLayout, o que nos facilitará inserir elementos dentro do nosso Grid.\n",
    "\n",
    "Dentro desse BoxLayout, temos os botões customizados, que criamos na primeira linha, cada botão representará um elemento gráfico comum em calculadoras, observemos que, nessa linha, teremos os valores `7, 8, 9 e +`.\n",
    "\n",
    "Temos então dois elementos dentro de cada botão: `text` e `on_press`. O primeiro conterá o texto que será inserido no display e o segundo, on_press, será a ação a ser executada ao clicar no botão, que será inserir junto ao texto que já está no display o novo texto passado pelo botão em questão. \n",
    "\n",
    "Esse processo se repetirá nas demais linhas e Boxes."
   ]
  },
  {
   "cell_type": "code",
   "execution_count": null,
   "metadata": {},
   "outputs": [],
   "source": [
    "    BoxLayout:\n",
    "        spacing: 10\n",
    "        CustButton:\n",
    "            text: \"4\"\n",
    "            on_press: entry.text += self.text\n",
    "        CustButton:\n",
    "            text: \"5\"\n",
    "            on_press: entry.text += self.text\n",
    "        CustButton:\n",
    "            text: \"6\"\n",
    "            on_press: entry.text += self.text\n",
    "        CustButton:\n",
    "            text: \"-\"\n",
    "            on_press: entry.text += self.text"
   ]
  },
  {
   "cell_type": "markdown",
   "metadata": {},
   "source": [
    "Aqui temos os botões `4, 5, 6 e -`. \n",
    "\n",
    "Note que temos outra vez a variável spacing que difere da que já explicamos de uma forma simples, o primeiro spacing trabalha os espaçamentos entre as Boxes e a segunda spacing tratará de espaçamentos dentro do Box."
   ]
  },
  {
   "cell_type": "code",
   "execution_count": null,
   "metadata": {},
   "outputs": [],
   "source": [
    "    BoxLayout:\n",
    "        spacing: 10\n",
    "        CustButton:\n",
    "            text: \"1\"\n",
    "            on_press: entry.text += self.text\n",
    "        CustButton:\n",
    "            text: \"2\"\n",
    "            on_press: entry.text += self.text\n",
    "        CustButton:\n",
    "            text: \"3\"\n",
    "            on_press: entry.text += self.text\n",
    "        CustButton:\n",
    "            text: \"*\"\n",
    "            on_press: entry.text += self.text"
   ]
  },
  {
   "cell_type": "markdown",
   "metadata": {},
   "source": [
    "Aqui temos os botões `1, 2, 3 e *`.\n",
    "\n",
    "E temos o último Box, que merece um pouco mais de nossa atenção:"
   ]
  },
  {
   "cell_type": "code",
   "execution_count": null,
   "metadata": {},
   "outputs": [],
   "source": [
    "    BoxLayout:\n",
    "        spacing: 10\n",
    "        CustButton:\n",
    "            text: \"AC\"\n",
    "            on_press: entry.text = \"\"\n",
    "        CustButton:\n",
    "            text: \"0\"\n",
    "            on_press: entry.text += self.text\n",
    "        CustButton:\n",
    "            text: \"=\"\n",
    "            on_press: calculator.calculate(entry.text)\n",
    "        CustButton:\n",
    "            text: \"/\"\n",
    "            on_press: entry.text += self.text"
   ]
  },
  {
   "cell_type": "markdown",
   "metadata": {},
   "source": [
    "Aqui temos os botões `AC, 0, = e /`.\n",
    "\n",
    "Nossa atenção deve ser no botão `=`, onde a ação do clique será diferente das demais, aqui ao invés de passarmos apenas o texto do botão, invocaremos a função calculate que criamos no arquivo .py, que será a responsável por calcular e exibir o resultado do coletado pelo nosso display."
   ]
  },
  {
   "cell_type": "markdown",
   "metadata": {},
   "source": [
    "### A partir daí, temos nossa aplicação pronta para ser executada. Inclusive para gerar seu .apk ."
   ]
  }
 ],
 "metadata": {
  "kernelspec": {
   "display_name": "Python 3",
   "language": "python",
   "name": "python3"
  },
  "language_info": {
   "codemirror_mode": {
    "name": "ipython",
    "version": 3
   },
   "file_extension": ".py",
   "mimetype": "text/x-python",
   "name": "python",
   "nbconvert_exporter": "python",
   "pygments_lexer": "ipython3",
   "version": "3.6.6"
  }
 },
 "nbformat": 4,
 "nbformat_minor": 2
}
