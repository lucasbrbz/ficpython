{
 "cells": [
  {
   "cell_type": "markdown",
   "metadata": {},
   "source": [
    "#  Introdução ao Python\n",
    "## Professor: Luiz Ferreira"
   ]
  },
  {
   "cell_type": "markdown",
   "metadata": {},
   "source": [
    "## Módulo 1\n",
    "\n",
    "### Introdução ao Python"
   ]
  },
  {
   "cell_type": "markdown",
   "metadata": {},
   "source": [
    "_____________"
   ]
  },
  {
   "cell_type": "markdown",
   "metadata": {},
   "source": [
    "# Tipos "
   ]
  },
  {
   "cell_type": "markdown",
   "metadata": {},
   "source": [
    "#### Regrinhas: \n",
    "\n",
    "Os nomes das variáveis devem começar com ``letra`` (sem acentuação) ou ``sublinhado`` (_), pode ser seguido por letras (sem acentuação), dígitos ou outros sublinhados (_), sendo que ``maiúsculas e minúsculas`` são consideradas diferentes, o famose CaseSensitive."
   ]
  },
  {
   "cell_type": "markdown",
   "metadata": {},
   "source": [
    "## Texto"
   ]
  },
  {
   "cell_type": "markdown",
   "metadata": {},
   "source": [
    "As strings no Python são builtins para armazenar texto. Como são imutáveis, não é possível adicionar, remover ou mesmo modificar algum caractere de uma string. Para realizar essas operações, o Python precisa criar um nova string.\n",
    "\n",
    "#### Tipos de string\n",
    "\n",
    "- String padrão: s = 'Led Zeppelin'\n",
    "- String unicode: u = u'Björk'\n",
    "\n",
    "A inicialização de strings pode ser:\n",
    "\n",
    "- Com aspas simples ou duplas.\n",
    "- Em várias linhas consecutivas, desde que seja entre três aspas simples ou duplas.\n",
    "- Sem expansão de caracteres (exemplo: s = r'\\n', em que s conterá os caracteres \\ e n)."
   ]
  },
  {
   "cell_type": "code",
   "execution_count": 1,
   "metadata": {},
   "outputs": [
    {
     "name": "stdout",
     "output_type": "stream",
     "text": [
      "Podemos concatenar?\n",
      "The run away!\n",
      "\n",
      "Podemos interpolar?\n",
      "tamanho de Camel => Camel\n",
      "\n",
      "Afinal, string não é uma lista de char, e se eu usar o for?\n",
      "\n",
      "Quando falamos no tal do objeto...\n",
      "CAMEL\n",
      "\n",
      "Deu a louca no string!\n",
      "\n"
     ]
    }
   ],
   "source": [
    "s = 'Camel'\n",
    "\n",
    "# Concatenação\n",
    "print(\"Podemos concatenar?\")\n",
    "print ('The run away!')\n",
    "\n",
    "# Interpolação, uso de um objeto para obtenção de informações implícitas, por exemplo, o seu tamanho.\n",
    "print(\"\\nPodemos interpolar?\")\n",
    "print ('tamanho de %s => %s' % (s,s))\n",
    "\n",
    "# String tratada como sequência\n",
    "print(\"\\nAfinal, string não é uma lista de char, e se eu usar o for?\")\n",
    "\n",
    "\n",
    "print(\"\\nQuando falamos no tal do objeto...\")\n",
    "# Strings são objetos\n",
    "if s.startswith('C'): print (s.upper())\n",
    "\n",
    "# o que acontecerá se eu multiplicar o string no print?\n",
    "print(\"\\nDeu a louca no string!\")\n",
    "print()"
   ]
  },
  {
   "cell_type": "markdown",
   "metadata": {},
   "source": [
    "O operador ``%`` é usado para fazer interpolação de strings. Sabia que a interpolação é mais eficiente no uso de memória do que a concatenação convencional? Os símbolos podem ser usados para apresentar números em diversos formatos."
   ]
  },
  {
   "cell_type": "markdown",
   "metadata": {},
   "source": [
    "- %s: string.\n",
    "- %d: inteiro.\n",
    "- %o: octal.\n",
    "- %x: hexacimal.\n",
    "- %f: real.\n",
    "- %e: real exponencial.\n",
    "- %%: sinal de percentagem."
   ]
  },
  {
   "cell_type": "code",
   "execution_count": 2,
   "metadata": {},
   "outputs": [
    {
     "name": "stdout",
     "output_type": "stream",
     "text": [
      "Agora são 16:30.\n",
      "Percentagem: 5.3%, Exponencial:3.14e-03\n",
      "Decimal: 10, Octal: 12, Hexadecimal: a\n"
     ]
    }
   ],
   "source": [
    "# Zeros a esquerda\n",
    "print ('Agora são %02d:%02d.' % (16.000000, 30.0000000000000000000000000))\n",
    "\n",
    "# Real (número após o ponto controla as casas decimais)\n",
    "print ('Percentagem: %.1f%%, Exponencial:%.2e' % (5.333, 0.00314))\n",
    "\n",
    "# Octal e hexadecimal\n",
    "print ('Decimal: %d, Octal: %o, Hexadecimal: %x' % (10, 10, 10))\n"
   ]
  },
  {
   "cell_type": "markdown",
   "metadata": {},
   "source": [
    "#### Lembra do uso de versões diferentes de Python? Tem o Python 2 e o Python 3\n",
    "\n",
    "A partir da versão 2.6, está disponível outra forma de interpolação além do operador ``%``, o método de string e a função chamados ``format()``."
   ]
  },
  {
   "cell_type": "code",
   "execution_count": 3,
   "metadata": {},
   "outputs": [
    {
     "name": "stdout",
     "output_type": "stream",
     "text": [
      "{0} é {1} do {2}\n",
      "\n",
      " Page é guitarrista do Led Zeppelin\n",
      "\n",
      " Fripp é guitarrista do King Crimson\n",
      "\n",
      "---- Outro exemplo ----\n",
      "\n",
      "{saudacao}, são {hora:02d}:{minuto:02d}\n",
      "\n",
      "Bom dia, são 07:30\n",
      "\n",
      "Pi = 3.14\n",
      "\n",
      "Pi = 3.142e+00\n"
     ]
    }
   ],
   "source": [
    "# Temos uma lista de informações, com 2 pessoas cadastradas, veja que existem dois conjuntos entre parenteses\n",
    "musicos = [('Page', 'guitarrista', 'Led Zeppelin'),\n",
    "('Fripp', 'guitarrista', 'King Crimson')]\n",
    "\n",
    "# Aqui criamos uma string genérica, mas observe, estamos dizendo a ela que pode ser que exista elementos a serem anexados.\n",
    "msg = '{0} é {1} do {2}'\n",
    "\n",
    "# Se imprimirmos a mensagem genérica, temos apenas texto\n",
    "print(msg)\n",
    "\n",
    "# Porém, podemos fazer mágica com isso\n",
    "for nome, funcao, banda in musicos:\n",
    "    print(\"\\n\",msg.format(nome, funcao, banda))\n",
    "\n",
    "print(\"\\n---- Outro exemplo ----\")\n",
    "# E não é que da pra melhorar a mágica?\n",
    "msg = '\\n{saudacao}, são {hora:02d}:{minuto:02d}'\n",
    "\n",
    "print (msg)\n",
    "print (msg.format(saudacao='Bom dia', hora=7, minuto=30))\n",
    "\n",
    "# Função builtin format(), permite que formatemos a string\n",
    "print ('\\nPi =', format(3.14159, '.3'))\n",
    "print ('\\nPi =', format(3.14159, '.3e'))"
   ]
  },
  {
   "cell_type": "markdown",
   "metadata": {},
   "source": [
    "Fatias (slices) de strings podem ser obtidas colocando índices entre colchetes após a string."
   ]
  },
  {
   "cell_type": "markdown",
   "metadata": {},
   "source": [
    "![](http://nbviewer.jupyter.org/github/ricardoduarte/python-para-desenvolvedores/blob/master/Capitulo5/bpypd_diags4.png)"
   ]
  },
  {
   "cell_type": "code",
   "execution_count": 4,
   "metadata": {},
   "outputs": [
    {
     "name": "stdout",
     "output_type": "stream",
     "text": [
      "if\n"
     ]
    }
   ],
   "source": [
    "# Atividade\n",
    "# Vamos brincar com essas fatias?\n",
    "\n",
    "s = \"ifsuldeminas\"\n",
    "\n",
    "# Utilize o print para mostrar a fatia correspondente a \"if\", outro para \"sulde\", outro para \"minas\"\n",
    "print(s[:2])\n",
    "# Agora é com você"
   ]
  },
  {
   "cell_type": "code",
   "execution_count": 5,
   "metadata": {},
   "outputs": [],
   "source": [
    "# Desafio\n",
    "# Imprimir a string ao contrário\n",
    "\n",
    "s = \"ifsuldeminas\""
   ]
  },
  {
   "cell_type": "markdown",
   "metadata": {},
   "source": [
    "### Módulo String\n",
    "\n",
    "Várias funções para tratar com texto estão implementadas no módulo string."
   ]
  },
  {
   "cell_type": "code",
   "execution_count": 22,
   "metadata": {},
   "outputs": [
    {
     "name": "stdout",
     "output_type": "stream",
     "text": [
      "abcdefghijklmnopqrstuvwxyzABCDEFGHIJKLMNOPQRSTUVWXYZ\n"
     ]
    }
   ],
   "source": [
    "# importando o módulo string\n",
    "import string\n",
    "\n",
    "# O alfabeto\n",
    "a = string.ascii_letters\n",
    "\n",
    "print(a)"
   ]
  },
  {
   "cell_type": "code",
   "execution_count": 21,
   "metadata": {},
   "outputs": [
    {
     "name": "stdout",
     "output_type": "stream",
     "text": [
      "Temos o alfabeto: abcdefghijklmnopqrstuvwxyzABCDEFGHIJKLMNOPQRSTUVWXYZ\n",
      "Temos nossa chave: bcdefghijklmnopqrstuvwxyzABCDEFGHIJKLMNOPQRSTUVWXYZa\n",
      "\n",
      "\n",
      "\n",
      "Mensagem: A aula ta legal\n",
      "Cifrada fica: B bvmb ub mfhbm\n"
     ]
    }
   ],
   "source": [
    "# Curiosidade: \n",
    "# Criptografia de César\n",
    "import string\n",
    "\n",
    "alfabeto = string.ascii_letters\n",
    "print(\"Temos o alfabeto:\", alfabeto)\n",
    "\n",
    "codigo = alfabeto[1:] + alfabeto[0]\n",
    "\n",
    "print(\"Temos nossa chave:\",codigo)\n",
    "\n",
    "# A função maketrans() cria uma tabela de tradução entre os caracteres das duas strings que ela recebeu como parâmetro.\n",
    "# Caso o caracter desejado não esteja na parte com a tradução, ele será apenas copiado.\n",
    "\n",
    "tab = str.maketrans(alfabeto, codigo)\n",
    "\n",
    "print(\"\\n\\n\")\n",
    "# Temos nossa mensagem\n",
    "\n",
    "msg = \"A aula ta legal\"\n",
    "\n",
    "print(\"Mensagem:\", msg)\n",
    "print(\"Cifrada fica:\",str.translate(msg, tab))"
   ]
  }
 ],
 "metadata": {
  "kernelspec": {
   "display_name": "Python 3",
   "language": "python",
   "name": "python3"
  },
  "language_info": {
   "codemirror_mode": {
    "name": "ipython",
    "version": 3
   },
   "file_extension": ".py",
   "mimetype": "text/x-python",
   "name": "python",
   "nbconvert_exporter": "python",
   "pygments_lexer": "ipython3",
   "version": "3.6.5"
  }
 },
 "nbformat": 4,
 "nbformat_minor": 2
}
