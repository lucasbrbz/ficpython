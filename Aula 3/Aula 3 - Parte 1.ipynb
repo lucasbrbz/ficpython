{
 "cells": [
  {
   "cell_type": "markdown",
   "metadata": {},
   "source": [
    "#  Introdução ao Python\n",
    "## Professor: Luiz Ferreira"
   ]
  },
  {
   "cell_type": "markdown",
   "metadata": {},
   "source": [
    "## Módulo 1\n",
    "\n",
    "### Introdução ao Python"
   ]
  },
  {
   "cell_type": "markdown",
   "metadata": {},
   "source": [
    "_____________"
   ]
  },
  {
   "cell_type": "markdown",
   "metadata": {},
   "source": [
    "# Funções "
   ]
  },
  {
   "cell_type": "markdown",
   "metadata": {},
   "source": [
    "#### O que é: \n",
    "\n",
    "Funções são blocos de código identificados por um nome, que podem receber parâmetros pré-determinados.\n",
    "\n",
    "### Características:\n",
    "\n",
    "- Podem retornar ou não objetos.\n",
    "- Aceitam Doc Strings.\n",
    "- Aceitam parâmetros opcionais (com defaults). Se não for passado o parâmetro será igual ao default definido na função.\n",
    "- Aceitam que os parâmetros sejam passados com nome. Neste caso, a ordem em que os parâmetros foram passados não importa.\n",
    "- Tem namespace próprio (escopo local), e por isso podem ofuscar definições de escopo global.\n",
    "- Podem ter suas propriedades alteradas (geralmente por decoradores).\n",
    "\n",
    "#### Observação:\n",
    "\n",
    "##### Doc Strings\n",
    "\n",
    "Em Python, temos as docstrings como uma maneira conveniente de associar módulos, funções, clases e métodos com suas respecitvas documentações.\n",
    "Apesar de parecer um comentário para um segmento de código, não é convencional utilizar como um. O Docstring deverá descrever o que a função faz e não como."
   ]
  },
  {
   "cell_type": "code",
   "execution_count": null,
   "metadata": {},
   "outputs": [],
   "source": [
    "help(sorted)"
   ]
  },
  {
   "cell_type": "code",
   "execution_count": null,
   "metadata": {},
   "outputs": [],
   "source": [
    "def my_function():\n",
    "    \"\"\"\n",
    "    Demonstrate docstrings and does nothing really.\n",
    "    \"\"\"\n",
    "  \n",
    "    return None"
   ]
  },
  {
   "cell_type": "code",
   "execution_count": null,
   "metadata": {},
   "outputs": [],
   "source": [
    "print (\"Using __doc__:\")\n",
    "print (my_function.__doc__)\n",
    " \n",
    "print (\"\\n\\nUsing help:\")\n",
    "help(my_function)"
   ]
  },
  {
   "cell_type": "markdown",
   "metadata": {},
   "source": [
    "#### Funções com valores default\n",
    "\n",
    "Esse tipo de função apresenta um valor a ser utilizado caso de não ser parametrizado"
   ]
  },
  {
   "cell_type": "code",
   "execution_count": null,
   "metadata": {},
   "outputs": [],
   "source": [
    "def contar (valor=11, caractere=\"+\"):\n",
    "    for i in range(1,valor):\n",
    "        print(caractere)"
   ]
  },
  {
   "cell_type": "code",
   "execution_count": null,
   "metadata": {},
   "outputs": [],
   "source": [
    "contar()"
   ]
  },
  {
   "cell_type": "code",
   "execution_count": null,
   "metadata": {},
   "outputs": [],
   "source": [
    "print(\"Passando um caractere diferente:\")\n",
    "contar(caractere=\"&\")"
   ]
  },
  {
   "cell_type": "code",
   "execution_count": null,
   "metadata": {},
   "outputs": [],
   "source": [
    "print(\"Passando um valor diferente\")\n",
    "contar(valor=5)"
   ]
  },
  {
   "cell_type": "code",
   "execution_count": null,
   "metadata": {},
   "outputs": [],
   "source": [
    "print(\"Passando valor e caractere diferentes:\")\n",
    "contar(6,\"$\")"
   ]
  },
  {
   "cell_type": "code",
   "execution_count": null,
   "metadata": {},
   "outputs": [],
   "source": [
    "print(\"Tentando passar os parâmetros fora de ordem:\")\n",
    "contar(\"#\",7)\n"
   ]
  },
  {
   "cell_type": "code",
   "execution_count": null,
   "metadata": {
    "scrolled": true
   },
   "outputs": [],
   "source": [
    "print(\"Passando os parâmetros fora de ordem, nomeados:\")\n",
    "contar(caractere=\"#\",valor=7)"
   ]
  },
  {
   "cell_type": "markdown",
   "metadata": {},
   "source": [
    "#### Atenção ao parâmetro obrigatório\n",
    "\n",
    "Esse tipo de parametro é o mais comum em funções que são desenvolvidas, uma vez que ela necessita, obrigatóriamente, do parametro. "
   ]
  },
  {
   "cell_type": "code",
   "execution_count": null,
   "metadata": {},
   "outputs": [],
   "source": [
    "def contar (caractere,valor=11):\n",
    "    for i in range(1,valor):\n",
    "        print(caractere)\n",
    "print(\"Passando apenas o argumento obrigatório:\")\n",
    "contar(\"#\")"
   ]
  },
  {
   "cell_type": "code",
   "execution_count": null,
   "metadata": {},
   "outputs": [],
   "source": [
    "print(\"Tentando executar a função sem passar o parâmetro obrigatório:\")\n",
    "contar()"
   ]
  },
  {
   "cell_type": "code",
   "execution_count": null,
   "metadata": {},
   "outputs": [],
   "source": [
    "print(\"Passando o caractere e um valor diferente\")\n",
    "contar(\"!\",valor=5)"
   ]
  },
  {
   "cell_type": "code",
   "execution_count": null,
   "metadata": {},
   "outputs": [],
   "source": [
    "print(\"Passando um caractere diferente, nomeado:\")\n",
    "contar(caractere=\"&\")"
   ]
  },
  {
   "cell_type": "markdown",
   "metadata": {},
   "source": [
    "## Atividades\n"
   ]
  },
  {
   "cell_type": "code",
   "execution_count": null,
   "metadata": {},
   "outputs": [],
   "source": [
    "# Construtor de cores\n",
    "def rgb_html(r=0, g=0, b=0):\n",
    "    \"\"\"Converte R, G, B em #RRGGBB\"\"\"\n",
    "\n",
    "    return '#%02x%02x%02x' % (r, g, b)\n",
    "\n",
    "def html_rgb(color='#000000'):\n",
    "    \"\"\"Converte #RRGGBB em R, G, B\"\"\"\n",
    "\n",
    "    if color.startswith('#'): color = color[1:]\n",
    "\n",
    "    r = int(color[:2], 16)\n",
    "    g = int(color[2:4], 16)\n",
    "    b = int(color[4:], 16)\n",
    "\n",
    "    return r, g, b # Uma sequência"
   ]
  },
  {
   "cell_type": "code",
   "execution_count": null,
   "metadata": {},
   "outputs": [],
   "source": [
    "# Chamando as funções"
   ]
  },
  {
   "cell_type": "code",
   "execution_count": null,
   "metadata": {},
   "outputs": [],
   "source": [
    "# Fatorial implementado de forma recursiva\n",
    "\n",
    "def fatorial(num):\n",
    "\n",
    "    if num <= 1:\n",
    "        return 1\n",
    "    else:\n",
    "        return(num * fatorial(num - 1))"
   ]
  },
  {
   "cell_type": "code",
   "execution_count": null,
   "metadata": {},
   "outputs": [],
   "source": [
    "# Testando fatorial()\n",
    "print (fatorial(5))"
   ]
  },
  {
   "cell_type": "code",
   "execution_count": null,
   "metadata": {},
   "outputs": [],
   "source": [
    "# Fatorial implementado sem forma recursiva\n"
   ]
  },
  {
   "cell_type": "code",
   "execution_count": null,
   "metadata": {},
   "outputs": [],
   "source": [
    "# Fibonacci implementado de forma recursiva\n",
    "\n",
    "def fib(n):\n",
    "    \"\"\"Fibonacci:\n",
    "    fib(n) = fib(n - 1) + fib(n - 2) se n > 1\n",
    "    fib(n) = 1 se n <= 1\n",
    "    \"\"\"\n",
    "    if n > 1:\n",
    "        return fib(n - 1) + fib(n - 2)\n",
    "    else:\n",
    "        return 1"
   ]
  },
  {
   "cell_type": "code",
   "execution_count": null,
   "metadata": {},
   "outputs": [],
   "source": [
    "# Mostrar Fibonacci de 1 a 5\n",
    "for i in [1, 2, 3, 4, 5]:\n",
    "    print (i, '=>', fib(i))"
   ]
  },
  {
   "cell_type": "code",
   "execution_count": null,
   "metadata": {},
   "outputs": [],
   "source": [
    "# Fibonacci implementado sem forma recursiva\n"
   ]
  },
  {
   "cell_type": "markdown",
   "metadata": {},
   "source": [
    "#### Observações:\n",
    "\n",
    "- Os argumentos com padrão devem vir por último, depois dos argumentos sem padrão.\n",
    "- O valor do padrão para um parâmetro é calculado quando a função é definida.\n",
    "- Os argumentos passados sem identificador são recebidos pela função na forma de uma lista.\n",
    "- Os argumentos passados com identificador são recebidos pela função na forma de um dicionário.\n",
    "- Os parâmetros passados com identificador na chamada da função devem vir no fim da lista de parâmetros."
   ]
  },
  {
   "cell_type": "code",
   "execution_count": null,
   "metadata": {},
   "outputs": [],
   "source": [
    "# *args - argumentos sem nome (lista)\n",
    "# **kargs - argumentos com nome (dicionário)\n",
    "\n",
    "def func(*args, **kargs):\n",
    "    print (args)\n",
    "    print (kargs)\n",
    "\n",
    "func('peso', 10, unidade='k')"
   ]
  },
  {
   "cell_type": "markdown",
   "metadata": {},
   "source": [
    "No exemplo, ``kargs`` receberá os argumentos nomeados e ``args`` receberá os outros.\n",
    "\n",
    "O interpretador tem definidas algumas funções builtin, incluindo sorted(), que ordena sequências."
   ]
  },
  {
   "cell_type": "code",
   "execution_count": null,
   "metadata": {},
   "outputs": [],
   "source": [
    "dados = [4, 3, 5, 1, 7, 2, 9, 0]\n",
    "\n",
    "print ('Lista:', dados)\n",
    "\n",
    "# Ordena usando _cmp()\n",
    "print ('Ordenada:', sorted(dados,))"
   ]
  }
 ],
 "metadata": {
  "kernelspec": {
   "display_name": "Python 3",
   "language": "python",
   "name": "python3"
  }
 },
 "nbformat": 4,
 "nbformat_minor": 2
}
