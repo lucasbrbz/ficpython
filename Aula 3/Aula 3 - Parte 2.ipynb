{
 "cells": [
  {
   "cell_type": "markdown",
   "metadata": {},
   "source": [
    "#  Introdução ao Python\n",
    "## Professor: Luiz Ferreira"
   ]
  },
  {
   "cell_type": "markdown",
   "metadata": {},
   "source": [
    "## Módulo 1\n",
    "\n",
    "### Introdução ao Python"
   ]
  },
  {
   "cell_type": "markdown",
   "metadata": {},
   "source": [
    "_____________"
   ]
  },
  {
   "cell_type": "markdown",
   "metadata": {},
   "source": [
    "# Módulos "
   ]
  },
  {
   "cell_type": "markdown",
   "metadata": {},
   "source": [
    "#### O que é: \n",
    "\n",
    "Para o Python, módulos são arquivos fonte que podem importados para um programa. Podem conter qualquer estrutura do Python e são executados quando importados. Eles são compilados quando importados pela primeira vez e armazenados em arquivo (com extensão “.pyc” ou “.pyo”), possuem namespace próprio e aceitam Doc Strings. São objetos Singleton (é carregada somente uma instância em memória, que fica disponível de forma global para o programa).\n",
    "\n",
    "![](http://nbviewer.jupyter.org/github/ricardoduarte/python-para-desenvolvedores/blob/master/Capitulo8/bpypd_diags6.png)\n",
    "\n",
    "\n",
    "Os módulos são localizados pelo interpretador através da lista de pastas PYTHONPATH (sys.path), que normalmente inclui a pasta corrente em primeiro lugar.\n",
    "\n",
    "Os módulos são carregados através da instrução import. Desta forma, ao usar alguma estrutura do módulo, é necessário identificar o módulo. Isto é chamado de importação absoluta."
   ]
  },
  {
   "cell_type": "code",
   "execution_count": null,
   "metadata": {},
   "outputs": [],
   "source": [
    "import os\n",
    "print (os.name)"
   ]
  },
  {
   "cell_type": "code",
   "execution_count": null,
   "metadata": {},
   "outputs": [],
   "source": [
    "# Também podemos importar de forma relativa\n",
    "from os import name\n",
    "print (name)"
   ]
  },
  {
   "cell_type": "markdown",
   "metadata": {},
   "source": [
    "#### Trabalhando com módulos\n",
    "\n",
    "Acesso ao arquivo calc.py\n"
   ]
  },
  {
   "cell_type": "raw",
   "metadata": {},
   "source": [
    "# Arquivo calc.py\n",
    "\n",
    "# Função definida no módulo\n",
    "def media(lista):\n",
    "\n",
    "    return float(sum(lista)) / len(lista)"
   ]
  },
  {
   "cell_type": "code",
   "execution_count": null,
   "metadata": {},
   "outputs": [],
   "source": [
    "# Importa o módulo calc\n",
    "import calc\n",
    "\n",
    "l = [23, 54, 31, 77, 12, 34]\n",
    "\n",
    "# Chamada a função definida em calc\n",
    "print (calc.media(l))"
   ]
  },
  {
   "cell_type": "markdown",
   "metadata": {},
   "source": [
    "O módulo principal de um programa tem a variável __name__ igual à __main__, então é possível testar se o módulo é o principal usando:"
   ]
  },
  {
   "cell_type": "code",
   "execution_count": null,
   "metadata": {},
   "outputs": [],
   "source": [
    "if __name__ == \"__main__\":\n",
    "    # Aqui o código só será executado\n",
    "    # se este for o módulo principal\n",
    "    # e não quando ele for importado por outro programa\n",
    "    print(\"Aula 3\")\n",
    "    pass"
   ]
  },
  {
   "cell_type": "code",
   "execution_count": null,
   "metadata": {
    "scrolled": true
   },
   "outputs": [],
   "source": [
    "# Outro módulo\n",
    "print(calc.__name__)"
   ]
  },
  {
   "cell_type": "markdown",
   "metadata": {},
   "source": [
    "### Dividir programas em módulos facilita o reaproveitamento e localização de falhas no código.\n",
    "\n"
   ]
  },
  {
   "cell_type": "markdown",
   "metadata": {},
   "source": [
    "## Atividade\n",
    "\n",
    "Construir um módulo chamado calculadora, que realiza as operações de {+, -, *, / e ^}. As entradas deverão ser: \"simbolo\", \"numero1\" e \"numero2\"."
   ]
  },
  {
   "cell_type": "code",
   "execution_count": null,
   "metadata": {},
   "outputs": [],
   "source": []
  }
 ],
 "metadata": {
  "kernelspec": {
   "display_name": "Python 3",
   "language": "python",
   "name": "python3"
  },
  "language_info": {
   "codemirror_mode": {
    "name": "ipython",
    "version": 3
   },
   "file_extension": ".py",
   "mimetype": "text/x-python",
   "name": "python",
   "nbconvert_exporter": "python",
   "pygments_lexer": "ipython3",
   "version": "3.6.5"
  }
 },
 "nbformat": 4,
 "nbformat_minor": 2
}
