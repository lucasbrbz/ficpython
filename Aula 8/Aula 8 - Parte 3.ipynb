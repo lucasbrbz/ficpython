{
 "cells": [
  {
   "cell_type": "markdown",
   "metadata": {},
   "source": [
    "#  Introdução ao Python\n",
    "## Professor: Luiz Ferreira"
   ]
  },
  {
   "cell_type": "markdown",
   "metadata": {},
   "source": [
    "## Módulo 2\n",
    "\n",
    "### Python para Web"
   ]
  },
  {
   "cell_type": "markdown",
   "metadata": {},
   "source": [
    "_____________"
   ]
  },
  {
   "cell_type": "markdown",
   "metadata": {},
   "source": [
    "## Configurando nossa base de dados"
   ]
  },
  {
   "cell_type": "markdown",
   "metadata": {},
   "source": [
    "Agora, abra o mysite/settings.py. Ele é um módulo normal do Python com variáveis de módulo representando as configurações do Django.\n",
    "\n",
    "Por padrão, a configuração usa o SQLite. Se você é novo com banco de dados, ou se estiver somente interessado em experimentar o Django, esta á maneira mais simples. SQLite está incluso no Python, de modo que você não precisa instalar nada a mais para ter o banco de dados. Contudo, quando iniciar seu primeiro projeto real, talvez queira usar um banco de dados mais escalável como o PostgreSQL, para evitar problemas com a troca do banco de dados no caminho.\n",
    "\n",
    "Se você quiser usar outro banco de dados, instale o de acordo database bindings e altere os seguinte parâmetros no item DATABASES 'default' de acordo com o seu banco de dados.\n",
    "\n",
    "- ENGINE – ou mesmo 'django.db.backends.sqlite3', 'django.db.backends.postgresql', 'django.db.backends.mysql', ou 'django.db.backends.oracle'. Outros backends estão disponíveis, confira sua documentação.\n",
    "- NAME – O nome do seu banco de dados, se você estiver usando SQLite, o banco de dados será uma arquivo no seu computador; neste caso, NAME deve ser o caminho completo, incluindo o nome, para este arquivo. O valor padrão os.path.join(BASE_DIR, 'db.sqlite3'), ira criar este arquivo no diretorio do seu projeto.\n",
    "\n",
    "#### Para fins diferentes da base de dados SQLite\n",
    "\n",
    "##### Caso use um banco de dados além do SQLite, tenha certeza que o banco de dados foi criado até este ponto. Faça isso com “CREATE DATABASE database_name;” dentro do prompt interativo do seu banco de dados.\n",
    "\n",
    "##### Também se certifique que o “database user” indicado em mysite/settings.py tenha a permissão “create database”. Isso permite a criação automática de test database o qual será necessário e um tutorial mais adiante.\n",
    "\n",
    "##### Se você está utilizando SQLite você não precisa criar nada de antemão - o arquivo do banco de dados será criado automaticamente quando ele for necessário."
   ]
  },
  {
   "cell_type": "markdown",
   "metadata": {},
   "source": [
    "Enquanto estiver editando mysite/settings.py, mude TIME_ZONE para o seu fuso horário.\n",
    "\n",
    "Também observe a configuração do INSTALLED_APPS na parte superior do arquivo. Ela possui os nomes de todas as aplicações Django ativas para essa instância do Django. Aplicações podem ser usadas em múltiplos projetos, e você pode empacotá-las e distribuí-las para uso por outros em seus projetos.\n",
    "\n"
   ]
  },
  {
   "cell_type": "markdown",
   "metadata": {},
   "source": [
    "Por padrão, o INSTALLED_APPS contém as seguintes aplicações, que vêm com o Django:\n",
    "\n",
    "- django.contrib.admin – O admin site. Irá usar isso em breve.\n",
    "- django.contrib.auth – Um sistema de autenticação.\n",
    "- django.contrib.contenttypes – Um framework para tipos de conteúdo.\n",
    "- django.contrib.sessions – Um framework de sessão.\n",
    "- django.contrib.messages – Um framework de envio de mensagem.\n",
    "- django.contrib.staticfiles – Um framework para gerenciamento de arquivos estáticos."
   ]
  },
  {
   "cell_type": "markdown",
   "metadata": {},
   "source": [
    "Estas aplicações são incluídas por padrão como uma conveniência para o caso comum.\n",
    "\n",
    "Algumas dessas aplicações fazem uso de pelo menos uma tabela no banco de dados, assim sendo, nós precisamos criar as tabelas no banco de dados antes que possamos utilizá-las. Para isso rode o seguinte comando:"
   ]
  },
  {
   "cell_type": "code",
   "execution_count": null,
   "metadata": {},
   "outputs": [],
   "source": [
    "python manage.py migrate"
   ]
  },
  {
   "cell_type": "markdown",
   "metadata": {},
   "source": [
    "O comando migrate verifica a configuração em INSTALLED_APPS e cria qualquer tabela do banco de dados necessária de acordo com as configurações do banco de dados no seu arquivo mysite/settings.py e as migrações que venham com a app (cobriremos isso mais tarde). É mostrado uma mensagem para cada migração que foi aplicada. Se lhe interessar, execute cliente de linha de comando para seu banco de dados e dgite \\dt (PostgreSQL), SHOW TABLES; (MySQL), .schema (SQLite), ou SELECT TABLE_NAME FROM USER_TABLES; (Oracle) para mostrar as tabelas mostradas pelo Django.\n"
   ]
  },
  {
   "cell_type": "markdown",
   "metadata": {},
   "source": [
    "## Criando modelos"
   ]
  },
  {
   "cell_type": "markdown",
   "metadata": {},
   "source": [
    "Agora vamos definir seus modelos – essencialmente, o layout do banco de dados, com metadados adicionais.\n"
   ]
  },
  {
   "cell_type": "markdown",
   "metadata": {},
   "source": [
    "Em nossa simples aplicação de enquete, nós iremos criar dois modelos: Question e Choice. Uma Question tem uma pergunta e uma data de publicação. Uma Choice tem dois campos: o texto da escolha e um totalizador de votos. Cada Choice é associada a uma Question."
   ]
  },
  {
   "cell_type": "markdown",
   "metadata": {},
   "source": [
    "Esses conceitos são representados por simples classes Python. Edite o arquivo polls/models.py de modo que fique assim:\n",
    "\n"
   ]
  },
  {
   "cell_type": "code",
   "execution_count": null,
   "metadata": {},
   "outputs": [],
   "source": [
    "from django.db import models\n",
    "\n",
    "\n",
    "class Question(models.Model):\n",
    "    question_text = models.CharField(max_length=200)\n",
    "    pub_date = models.DateTimeField('date published')\n",
    "\n",
    "\n",
    "class Choice(models.Model):\n",
    "    question = models.ForeignKey(Question, on_delete=models.CASCADE)\n",
    "    choice_text = models.CharField(max_length=200)\n",
    "    votes = models.IntegerField(default=0)"
   ]
  },
  {
   "cell_type": "markdown",
   "metadata": {},
   "source": [
    "O código é auto-explicativo. Cada model é representado por uma classe derivada da classe django.db.models.Model. Cada model possui um número de atributos de classe, as quais por sua vez representam campos de banco de dados no model.\n",
    "\n",
    "Cada campo é representado por uma instância de uma classe Field – e.g., CharField para campos do tipo caractere e DateTimeField para data/hora. Isto diz ao Django qual tipo de dado cada campo contém.\n",
    "\n",
    "O nome de cada instância Field (e.g. question_text ou pub_date) é o nome do campo, em formato amigável para a máquina. Você irá usar este valor no seu código Python, e seu banco de dados irá usá-lo como nome de coluna.\n",
    "\n",
    "Você pode usar um argumento opcional na primeira posição de um Field para designar um nome legível por seres humanos o qual será usado em uma série de partes introspectivas do Django, e também servirá como documentação. Se esse argumento não for fornecido, o Django utilizará o nome legível pela máquina. Neste exemplo nós definimos um nome legível por humanos apenas para Question.pub_date. Para todos os outros campos neste model, o nome legível pela máquina será utilizado como nome legível por humanos.\n",
    "\n",
    "Algumas classes de Field possuem elementos obrigatórios. O CharField, por exemplo, requer que você informe a ele um max_length que é usado não apenas no esquema do banco de dados, mas na validação, como nós veremos em breve.\n",
    "\n",
    "Um Field pode ter varios argumentos opcionais; neste caso, nos definimos default o valor de votes para 0.\n",
    "\n",
    "Finalmente, note que uma relação foi criada, usando ForeignKey. Isso dia ao Django que cada Choice está relacionada a uma única Question. O Django suporta todos os relacionamentos comuns de um banco de dados: muitos-para-um, muitos-para-muitos e um-para-um"
   ]
  },
  {
   "cell_type": "markdown",
   "metadata": {},
   "source": [
    "## Ativando o model"
   ]
  },
  {
   "cell_type": "markdown",
   "metadata": {},
   "source": [
    "Aquela pequena parte do model fornece ao Django muita informação. Com ela o Django é capaz de:\n",
    "\n",
    "- Criar um esquema de banco de dados (instruções CREATE TABLE) para a aplicação.\n",
    "- Criar uma API de acesso a banco de dados para acessar objetos Question e Choice.\n",
    "\n",
    "Mas primeiro nós precisamos dizer ao nosso projeto que a aplicação polls está instalada."
   ]
  },
  {
   "cell_type": "markdown",
   "metadata": {},
   "source": [
    "Para incluir a aplicação no nosso projeto, precisamos adicionar a referência à classe de configuração da aplicação na definição do INSTALLED_APPS . \n",
    "\n",
    "A classe PollsConfig``está no arquivo  :file:`polls/apps.py`, então seu caminha pontuado é ``'polls.apps.PollsConfig'. \n",
    "\n",
    "Edite o arquivo mysite/settings.py e adicione aquele caminho com notação de ponto a definição do INSTALLED_APPS. \n",
    "\n",
    "Ficará parecido com:"
   ]
  },
  {
   "cell_type": "code",
   "execution_count": null,
   "metadata": {},
   "outputs": [],
   "source": [
    "INSTALLED_APPS = [\n",
    "    'polls.apps.PollsConfig',\n",
    "    'django.contrib.admin',\n",
    "    'django.contrib.auth',\n",
    "    'django.contrib.contenttypes',\n",
    "    'django.contrib.sessions',\n",
    "    'django.contrib.messages',\n",
    "    'django.contrib.staticfiles',\n",
    "]"
   ]
  },
  {
   "cell_type": "markdown",
   "metadata": {},
   "source": [
    "Agora o Django sabe que deve incluir a aplicação polls. Vamos rodar outro comando:"
   ]
  },
  {
   "cell_type": "code",
   "execution_count": null,
   "metadata": {},
   "outputs": [],
   "source": [
    "python manage.py makemigrations polls"
   ]
  },
  {
   "cell_type": "markdown",
   "metadata": {},
   "source": [
    "Você deverá ver algo similar ao seguinte:"
   ]
  },
  {
   "cell_type": "code",
   "execution_count": null,
   "metadata": {},
   "outputs": [],
   "source": [
    "Migrations for 'polls':\n",
    "  polls/migrations/0001_initial.py:\n",
    "    - Create model Choice\n",
    "    - Create model Question\n",
    "    - Add field question to choice"
   ]
  },
  {
   "cell_type": "markdown",
   "metadata": {},
   "source": [
    "Ao executar makemigrations, você está dizendo Django que você fez algumas mudanças em seus modelos (neste caso, você fez novas modificações) e que você gostaria que as alterações sejam armazenadas como uma migração."
   ]
  },
  {
   "cell_type": "markdown",
   "metadata": {},
   "source": [
    "As migrações são como o Django armazena as alterações nos seus modelos (e, portanto, seu esquema de banco de dados) - eles são apenas arquivos no disco. Você pode ler a migração para o novo modelo, se quiser; é o arquivo polls/migrations/0001_initial.py. Não se preocupe, você não precisa lê-los cada vez Django cria um, mas eles são projetados para ser editável no caso de você queira ajustar manualmente como Django muda as coisas."
   ]
  },
  {
   "cell_type": "markdown",
   "metadata": {},
   "source": [
    "Existe um comando que vai rodar as migrações para você e gerenciar o esquema do banco de dados automaticamente - que é chamado migrate, e nós vamos chegar a ele em um momento - mas primeiro vamos ver qual SQL está migração vai rodar. O comando sqlmigrate recebe o nome da migração e o seu SQL."
   ]
  },
  {
   "cell_type": "code",
   "execution_count": null,
   "metadata": {},
   "outputs": [],
   "source": [
    "python manage.py sqlmigrate polls 0001"
   ]
  },
  {
   "cell_type": "markdown",
   "metadata": {},
   "source": [
    "Você deve ver algo semelhante ao seguinte (reformatamos para facilitar a leitura):"
   ]
  },
  {
   "cell_type": "code",
   "execution_count": null,
   "metadata": {},
   "outputs": [],
   "source": [
    "BEGIN;\n",
    "--\n",
    "-- Create model Choice\n",
    "--\n",
    "CREATE TABLE \"polls_choice\" (\n",
    "    \"id\" serial NOT NULL PRIMARY KEY,\n",
    "    \"choice_text\" varchar(200) NOT NULL,\n",
    "    \"votes\" integer NOT NULL\n",
    ");\n",
    "--\n",
    "-- Create model Question\n",
    "--\n",
    "CREATE TABLE \"polls_question\" (\n",
    "    \"id\" serial NOT NULL PRIMARY KEY,\n",
    "    \"question_text\" varchar(200) NOT NULL,\n",
    "    \"pub_date\" timestamp with time zone NOT NULL\n",
    ");\n",
    "--\n",
    "-- Add field question to choice\n",
    "--\n",
    "ALTER TABLE \"polls_choice\" ADD COLUMN \"question_id\" integer NOT NULL;\n",
    "ALTER TABLE \"polls_choice\" ALTER COLUMN \"question_id\" DROP DEFAULT;\n",
    "CREATE INDEX \"polls_choice_7aa0f6ee\" ON \"polls_choice\" (\"question_id\");\n",
    "ALTER TABLE \"polls_choice\"\n",
    "  ADD CONSTRAINT \"polls_choice_question_id_246c99a640fbbd72_fk_polls_question_id\"\n",
    "    FOREIGN KEY (\"question_id\")\n",
    "    REFERENCES \"polls_question\" (\"id\")\n",
    "    DEFERRABLE INITIALLY DEFERRED;\n",
    "\n",
    "COMMIT;"
   ]
  },
  {
   "cell_type": "markdown",
   "metadata": {},
   "source": [
    "Note o seguinte:\n",
    "\n",
    "- A saída exata irá variar dependendo do banco de dados que você está utilizando.\n",
    "- Os nomes das tabelas são gerados automaticamente combinando o nome da aplicação (polls) e o nome em minúsculas do model – question e choice. (Você pode alterar esse comportamento.)\n",
    "- Chaves primárias (IDs) são adicionadas automaticamente. (Você também pode modificar isso.)\n",
    "- Por convenção, o Django adiciona \"_id\" ao nome do campo de uma chave estrangeira. (Sim, você pode alterar isso, como quiser.)\n",
    "- O relacionamento da chave estrangeira é feito explicitamente por uma instrução FOREIGN KEY. Não se preocupe sobre partes DEFERRABLE; Está apenas instruindo o PostgreSQL para não forçar a criação da chave estrangeira até o fim da transação.\n",
    "- Isto é atrelado ao banco que você está usando, então a utilização de campos específicos do banco de dados como auto_increment (MySQL), serial (PostgreSQL), ou integer primary key (SQLite) é feita para você automaticamente. O mesmo ocorre com as aspas dos nomes de campos – e.g., usando aspas duplas ou aspas simples.\n",
    "- O comando sqlmigrate na realidade não roda o SQL no seu banco de dados - ele apenas o exibe na tela para que você saiba qual SQL o Django acha que é necessário. É útil para verificar o que Django vai fazer ou se você tem administradores de bancos de dados que necessitam dos scripts SQL para mudanças."
   ]
  },
  {
   "cell_type": "markdown",
   "metadata": {},
   "source": [
    "Se você tiver interesse, você pode rodar python manage.py check; Ele checa por problemas no seu projeto sem criar migrations ou tocar seu banco de dados.\n",
    "\n",
    "Agora rode o migrate novamente para criar essas tabelas dos modelos no seu banco de dados:"
   ]
  },
  {
   "cell_type": "code",
   "execution_count": null,
   "metadata": {},
   "outputs": [],
   "source": [
    "python manage.py migrate\n",
    "Operations to perform:\n",
    "  Apply all migrations: admin, auth, contenttypes, polls, sessions\n",
    "Running migrations:\n",
    "  Rendering model states... DONE\n",
    "  Applying polls.0001_initial... OK"
   ]
  },
  {
   "cell_type": "markdown",
   "metadata": {},
   "source": [
    "O comando migrate pega todas as migrações que ainda não foram aplicadas (Django rastreia quais foram aplicadas usando uma tabela especial em seu banco de dados chamada django_migrations) e aplica elas contra seu banco de dados - essencialmente, sincronizando as alterações feitas aos seus modelos com o esquema no banco de dados.\n",
    "\n",
    "Migrações são muito poderosas e permitem que você altere seus modelos ao longo do tempo, à medida que desenvolve o seu projeto, sem a necessidade de remover o seu banco de dados ou tabelas e criar de novo - ele é especializado em atualizar seu banco de dados ao vivo, sem perda de dados. Nós vamos cobri-los com mais profundidade em uma parte posterior do tutorial, mas para agora, lembre-se deste guia de três passos para fazer mudanças nos seus modelos:\n",
    "\n",
    "Mude seus modelos (em models.py).\n",
    "Rode python manage.py makemigrations para criar migrações para suas modificações\n",
    "Rode python manage.py migrate para aplicar suas modificações no banco de dados.\n",
    "A razão de haver comandos separados para criar e aplicar as migrações é porque você vai submeter migrações para o seu sistema de controle de versão e enviá-los com sua aplicação; eles não só fazem o seu desenvolvimento mais fácil, eles também são utilizáveis ​​por outros desenvolvedores e em produção.\n",
    "\n",
    "Leia a documentação do django-admin para informações completas sobre o que o utilitário manage.py pode fazer."
   ]
  },
  {
   "cell_type": "markdown",
   "metadata": {},
   "source": [
    "## Brincando com a API"
   ]
  },
  {
   "cell_type": "markdown",
   "metadata": {},
   "source": [
    "Agora vamos dar uma passada no shell interativo do Python e brincar um pouco com a API livre que o Django dá a você. Para invocar o shell do Python, use esse comando:\n",
    "\n"
   ]
  },
  {
   "cell_type": "code",
   "execution_count": null,
   "metadata": {},
   "outputs": [],
   "source": [
    "python manage.py shell"
   ]
  },
  {
   "cell_type": "markdown",
   "metadata": {},
   "source": [
    "Nós usaremos isso em vez de simplesmente digitar “python”, porque o manage.py configura a variável de ambiente DJANGO_SETTINGS_MODULE, O que da ao Django o caminho de importação Python do arquivo mysite/settings.py.\n",
    "\n",
    "Assim que você estiver no shell, explore a API de banco de dados:\n",
    "\n"
   ]
  },
  {
   "cell_type": "code",
   "execution_count": null,
   "metadata": {},
   "outputs": [],
   "source": [
    "from polls.models import Choice, Question # Importa os models"
   ]
  },
  {
   "cell_type": "code",
   "execution_count": null,
   "metadata": {},
   "outputs": [],
   "source": [
    "Question.objects.all() #Ainda não temos nenhuma Question cadastrado"
   ]
  },
  {
   "cell_type": "code",
   "execution_count": null,
   "metadata": {},
   "outputs": [],
   "source": [
    "from django.utils import timezone #Importa a classe timezone"
   ]
  },
  {
   "cell_type": "code",
   "execution_count": null,
   "metadata": {},
   "outputs": [],
   "source": [
    "q = Question(question_text=\"What's new?\", pub_date=timezone.now()) #Cria uma nova Question, com uma pergunta e a data de criação"
   ]
  },
  {
   "cell_type": "code",
   "execution_count": null,
   "metadata": {},
   "outputs": [],
   "source": [
    "q.save() #Salvar no banco de dados"
   ]
  },
  {
   "cell_type": "code",
   "execution_count": null,
   "metadata": {},
   "outputs": [],
   "source": [
    "q.id #Vamos ver os registros"
   ]
  },
  {
   "cell_type": "code",
   "execution_count": null,
   "metadata": {},
   "outputs": [],
   "source": [
    "q.question_text #Deverá retornar o texto \"What's new?\""
   ]
  },
  {
   "cell_type": "code",
   "execution_count": null,
   "metadata": {},
   "outputs": [],
   "source": [
    "q.pub_date #Deverá retornar a data e hora da publicação"
   ]
  },
  {
   "cell_type": "code",
   "execution_count": null,
   "metadata": {},
   "outputs": [],
   "source": [
    "q.question_text = \"What's up?\" #Deverá alterar o valor da variável"
   ]
  },
  {
   "cell_type": "code",
   "execution_count": null,
   "metadata": {},
   "outputs": [],
   "source": [
    "q.save() #Salva novamente"
   ]
  },
  {
   "cell_type": "code",
   "execution_count": null,
   "metadata": {},
   "outputs": [],
   "source": [
    "Question.objects.all() #Deverá retornar Question object(1)"
   ]
  },
  {
   "cell_type": "markdown",
   "metadata": {},
   "source": [
    "Espere um pouco ... Esse tipo de resposta do comando Question está pouco apresentável e tem uma solução simples. Para corrigir, devemos modificar todos os models (em polls/models.py file) e adicionar um método __str__() em ambos:"
   ]
  },
  {
   "cell_type": "code",
   "execution_count": null,
   "metadata": {},
   "outputs": [],
   "source": [
    "from django.db import models\n",
    "\n",
    "class Question(models.Model):\n",
    "    # ...\n",
    "    def __str__(self):\n",
    "        return self.question_text\n",
    "\n",
    "class Choice(models.Model):\n",
    "    # ...\n",
    "    def __str__(self):\n",
    "        return self.choice_text"
   ]
  },
  {
   "cell_type": "markdown",
   "metadata": {},
   "source": [
    "É importante adicionar métodos __str__() aos seus models, não apenas para sua própria conveniência quando estiver lidando com o prompt interativo, mas também porque representações de objetos são usadas por todo projeto gerado automaticamente pelo Django"
   ]
  },
  {
   "cell_type": "markdown",
   "metadata": {},
   "source": [
    "Note que esses são métodos Python normais. Vamos adicionar um método personalizado, apenas para demonstração:\n",
    "\n"
   ]
  },
  {
   "cell_type": "code",
   "execution_count": null,
   "metadata": {},
   "outputs": [],
   "source": [
    "import datetime\n",
    "\n",
    "from django.db import models\n",
    "from django.utils import timezone\n",
    "\n",
    "\n",
    "class Question(models.Model):\n",
    "    # ...\n",
    "    def was_published_recently(self):\n",
    "        return self.pub_date >= timezone.now() - datetime.timedelta(days=1)"
   ]
  },
  {
   "cell_type": "markdown",
   "metadata": {},
   "source": [
    "Salve essas mudanças e vamos iniciar uma nova sessão do shell interativo do Python rodando python manage.py shell novamente:"
   ]
  },
  {
   "cell_type": "code",
   "execution_count": null,
   "metadata": {},
   "outputs": [],
   "source": [
    "from polls.models import Choice, Question"
   ]
  },
  {
   "cell_type": "code",
   "execution_count": null,
   "metadata": {},
   "outputs": [],
   "source": [
    "Question.objects.all() #vamos checar a nova resposta"
   ]
  },
  {
   "cell_type": "code",
   "execution_count": null,
   "metadata": {},
   "outputs": [],
   "source": [
    "Question.objects.filter(id=1) #Utilizando filtro django"
   ]
  },
  {
   "cell_type": "code",
   "execution_count": null,
   "metadata": {},
   "outputs": [],
   "source": [
    "Question.objects.filter(question_text__startswith='What') #Outro exemplo de filtro"
   ]
  },
  {
   "cell_type": "code",
   "execution_count": null,
   "metadata": {},
   "outputs": [],
   "source": [
    "from django.utils import timezone"
   ]
  },
  {
   "cell_type": "code",
   "execution_count": null,
   "metadata": {},
   "outputs": [],
   "source": [
    "current_year = timezone.now().year #Cria a variável com o ano corrente "
   ]
  },
  {
   "cell_type": "code",
   "execution_count": null,
   "metadata": {},
   "outputs": [],
   "source": [
    "Question.objects.get(pub_date__year=current_year) #Busca pelo ano de publicacao"
   ]
  },
  {
   "cell_type": "code",
   "execution_count": null,
   "metadata": {},
   "outputs": [],
   "source": [
    "Question.objects.get(id=2) #Filtra por um id que não existe"
   ]
  },
  {
   "cell_type": "code",
   "execution_count": null,
   "metadata": {},
   "outputs": [],
   "source": [
    "Question.objects.get(pk=1) #Filtra pela Prmary Key"
   ]
  },
  {
   "cell_type": "code",
   "execution_count": null,
   "metadata": {},
   "outputs": [],
   "source": [
    "q = Question.objects.get(pk=1) #Verificiar se o método que criamos realmente funciona"
   ]
  },
  {
   "cell_type": "code",
   "execution_count": null,
   "metadata": {},
   "outputs": [],
   "source": [
    "q.was_published_recently() #"
   ]
  },
  {
   "cell_type": "code",
   "execution_count": null,
   "metadata": {},
   "outputs": [],
   "source": [
    "##################################################\n",
    "# Vamos criar novas Choices para nossa Question\n",
    "q = Question.objects.get(pk=1) "
   ]
  },
  {
   "cell_type": "code",
   "execution_count": null,
   "metadata": {},
   "outputs": [],
   "source": [
    "q.choice_set.all() # Verifica se já existe Choices cadastradas para essa Question"
   ]
  },
  {
   "cell_type": "code",
   "execution_count": null,
   "metadata": {},
   "outputs": [],
   "source": [
    "q.choice_set.create(choice_text='Not much', votes=0) # Criando Choice"
   ]
  },
  {
   "cell_type": "code",
   "execution_count": null,
   "metadata": {},
   "outputs": [],
   "source": [
    "q.choice_set.create(choice_text='The sky', votes=0) # Criando Choice"
   ]
  },
  {
   "cell_type": "code",
   "execution_count": null,
   "metadata": {},
   "outputs": [],
   "source": [
    "c = q.choice_set.create(choice_text='Just hacking again', votes=0) # Criando Choice"
   ]
  },
  {
   "cell_type": "code",
   "execution_count": null,
   "metadata": {},
   "outputs": [],
   "source": [
    "c.question # exibe em qual Question o Choice foi criado"
   ]
  },
  {
   "cell_type": "code",
   "execution_count": null,
   "metadata": {},
   "outputs": [],
   "source": [
    "q.choice_set.all() # Lista todas as Choices para a Question"
   ]
  },
  {
   "cell_type": "code",
   "execution_count": null,
   "metadata": {},
   "outputs": [],
   "source": [
    "q.choice_set.count() # Mostra a quantidade de Choices para a Question"
   ]
  },
  {
   "cell_type": "code",
   "execution_count": null,
   "metadata": {},
   "outputs": [],
   "source": [
    "c = q.choice_set.filter(choice_text__startswith='Just hacking') #Vamos apagar essa Choice, primeiro vamos colocá-la em uma variavel"
   ]
  },
  {
   "cell_type": "code",
   "execution_count": null,
   "metadata": {},
   "outputs": [],
   "source": [
    "c.delete() #Executamos o Delete"
   ]
  },
  {
   "cell_type": "markdown",
   "metadata": {},
   "source": [
    "Para mais informações sobre relacionamento de modelos, veja Acessando objetos relacionados. Para mais informação em como usar sublinhados duplos para pesquisa usando campos da API, veja Pesquisa com campos. Para um detalhamento completo da API de banco de dados, veja nossa referência à API de Banco de Dados.\n",
    "\n"
   ]
  },
  {
   "cell_type": "markdown",
   "metadata": {},
   "source": [
    "## Criando um usuário administrador"
   ]
  },
  {
   "cell_type": "markdown",
   "metadata": {},
   "source": [
    "Primeiro temos que criar um usuário que possa acessar o site de administração. Rode o seguinte comando:\n",
    "\n"
   ]
  },
  {
   "cell_type": "code",
   "execution_count": null,
   "metadata": {},
   "outputs": [],
   "source": [
    "python manage.py createsuperuser"
   ]
  },
  {
   "cell_type": "markdown",
   "metadata": {},
   "source": [
    "Digite seu nome de usuário desejado e pressione enter.\n"
   ]
  },
  {
   "cell_type": "code",
   "execution_count": null,
   "metadata": {},
   "outputs": [],
   "source": [
    "Username: admin"
   ]
  },
  {
   "cell_type": "markdown",
   "metadata": {},
   "source": [
    "Em seguida, será requisitado seu endereço de e-mail desejado:\n",
    "\n"
   ]
  },
  {
   "cell_type": "code",
   "execution_count": null,
   "metadata": {},
   "outputs": [],
   "source": [
    "Email address: admin@example.com"
   ]
  },
  {
   "cell_type": "markdown",
   "metadata": {},
   "source": [
    "O último passo é digitar sua senha. Você será solicitado que digite sua senha duas vezes, a segunda vez como uma confirmação da primeira."
   ]
  },
  {
   "cell_type": "code",
   "execution_count": null,
   "metadata": {},
   "outputs": [],
   "source": [
    "Password: **********\n",
    "Password (again): *********\n",
    "Superuser created successfully."
   ]
  },
  {
   "cell_type": "markdown",
   "metadata": {},
   "source": [
    "### Inicie o servidor de desenvolvimento"
   ]
  },
  {
   "cell_type": "markdown",
   "metadata": {},
   "source": [
    "O site de administração vem ativado por padrão. Vamos iniciar o servidor de desenvolvimento e explora-lo.\n",
    "\n",
    "Se o servidor não estiver sendo executado, inicie-o da seguinte forma:"
   ]
  },
  {
   "cell_type": "code",
   "execution_count": null,
   "metadata": {},
   "outputs": [],
   "source": [
    "python manage.py runserver"
   ]
  },
  {
   "cell_type": "markdown",
   "metadata": {},
   "source": [
    "Agora, abra o navegador de internet e vá para “/admin/” no seu domínio local – ex:, http://127.0.0.1:8000/admin/. Você deverá ver a tela de acesso:\n",
    "\n",
    "Desde que translation está habilitado por padrão, a tela de login talvez seja mostrada em sua própria língua, dependendo das configurações do seu browser a se o Django tem tradução para esta língua.\n"
   ]
  },
  {
   "cell_type": "markdown",
   "metadata": {},
   "source": [
    "![](https://docs.djangoproject.com/pt-br/2.0/_images/admin01.png)"
   ]
  },
  {
   "cell_type": "markdown",
   "metadata": {},
   "source": [
    "Agora, tente acessar o sistema com a conta de super usuário que criou no passo anterior. Você deverá ver a página inicial do site de administração do Django:\n",
    "\n"
   ]
  },
  {
   "cell_type": "markdown",
   "metadata": {},
   "source": [
    "![](https://docs.djangoproject.com/pt-br/2.0/_images/admin02.png)"
   ]
  },
  {
   "cell_type": "markdown",
   "metadata": {},
   "source": [
    "Você deverá ver alguns outros tipos de conteúdos editáveis, incluindo grupos e usuários. Estas funcionalidades são fornecidas por mod:django.contrib.auth, o framework de autenticação fornecido pelo Django.\n",
    "\n"
   ]
  },
  {
   "cell_type": "markdown",
   "metadata": {},
   "source": [
    "### Torne a aplicação de enquetes editável no site de administração"
   ]
  },
  {
   "cell_type": "markdown",
   "metadata": {},
   "source": [
    "Mas onde está nossa aplicação de enquete? Ela não está visível na página principal do site de administração.\n",
    "\n",
    "Apenas uma coisa a ser feita: Nós temos que dizer para o site de administração que os objetos Question possuem uma interface de administração. Para fazer isto, crie um arquivo chamado polls/admin.py, e edite para que se pareça com isto:"
   ]
  },
  {
   "cell_type": "code",
   "execution_count": null,
   "metadata": {},
   "outputs": [],
   "source": [
    "from django.contrib import admin\n",
    "\n",
    "from .models import Question\n",
    "\n",
    "admin.site.register(Question)"
   ]
  },
  {
   "cell_type": "markdown",
   "metadata": {},
   "source": [
    "### Explore a funcionalidade de administração"
   ]
  },
  {
   "cell_type": "markdown",
   "metadata": {},
   "source": [
    "Agora que nós registramos Question, o Django sabe que ela deve ser exibida na página principal do site de administração:\n",
    "\n"
   ]
  },
  {
   "cell_type": "markdown",
   "metadata": {},
   "source": [
    "![](https://docs.djangoproject.com/pt-br/2.0/_images/admin03t.png)"
   ]
  },
  {
   "cell_type": "markdown",
   "metadata": {},
   "source": [
    "Clique em “Questions”. Agora cocê está na página “change list” para “questions”. Essa página mostra todas as “questions” em seu banco de dados e lhe deixa escolher uma para alterar. Lá está a pergunta “What’s up?” que criamos anteriormente.\n",
    "\n"
   ]
  },
  {
   "cell_type": "markdown",
   "metadata": {},
   "source": [
    "![](https://docs.djangoproject.com/pt-br/2.0/_images/admin04t.png)"
   ]
  },
  {
   "cell_type": "markdown",
   "metadata": {},
   "source": [
    "Clique na enquete “What’s up?” para editá-la:"
   ]
  },
  {
   "cell_type": "markdown",
   "metadata": {},
   "source": [
    "![](https://docs.djangoproject.com/pt-br/2.0/_images/admin05t.png)"
   ]
  },
  {
   "cell_type": "markdown",
   "metadata": {},
   "source": [
    "Coisas para observar aqui:\n",
    "\n",
    "- O formulário é gerado automaticamente para o modelo Question.\n",
    "- Os diferentes tipos de campos (DateTimeField, CharField) correspondem aos respectivos widgets HTML de inserção. Cada tipo de campo sabe como se exibir no site de administração do Django.\n",
    "- Cada DateTimeField ganha um atalho JavaScript de graça. Datas possuem um atalho “Hoje” e um calendário popup, e horas têm um atalho “Agora” e um conveniente popup com listas de horas utilizadas comumente.\n",
    "\n",
    "A parte inferior da página fornece uma série de opções:\n",
    "\n",
    "- Salvar – Salva as alterações e retorna para a pagina lista de modificação para este tipo de objeto.\n",
    "- Salvar e continuar editando – Salva as alterações e recarrega a página do site de administração para este objeto.\n",
    "- Salvar e adicionar outro – Salva as informações e abre um novo formulário em branco para este tipo de objeto.\n",
    "- Deletar – Exibe uma página de confirmação de exclusão.\n",
    "\n",
    "Se o valor do “Date published” não bate com hora que a questão foi criada em Tutorial 1, provavelmente quer dizer que foi esquecido de configurar o correto valor da configuração do TIME_ZONE. Altere isso, e recarregue a página e verifique se o calor correto aparece."
   ]
  }
 ],
 "metadata": {
  "kernelspec": {
   "display_name": "Python 3",
   "language": "python",
   "name": "python3"
  },
  "language_info": {
   "codemirror_mode": {
    "name": "ipython",
    "version": 3
   },
   "file_extension": ".py",
   "mimetype": "text/x-python",
   "name": "python",
   "nbconvert_exporter": "python",
   "pygments_lexer": "ipython3",
   "version": "3.6.6"
  }
 },
 "nbformat": 4,
 "nbformat_minor": 2
}
