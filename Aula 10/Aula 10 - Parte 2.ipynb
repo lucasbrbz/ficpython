{
 "cells": [
  {
   "cell_type": "markdown",
   "metadata": {},
   "source": [
    "#  Introdução ao Python\n",
    "## Professor: Luiz Ferreira"
   ]
  },
  {
   "cell_type": "markdown",
   "metadata": {},
   "source": [
    "## Módulo 2\n",
    "\n",
    "### Python para Web"
   ]
  },
  {
   "cell_type": "markdown",
   "metadata": {},
   "source": [
    "_____________"
   ]
  },
  {
   "cell_type": "markdown",
   "metadata": {},
   "source": [
    "## Como salvar os dados do meu projeto em um Banco de Dados?"
   ]
  },
  {
   "cell_type": "markdown",
   "metadata": {},
   "source": [
    "Com o projeto utilizado na aula passada, passaremos a trabalhar o conceito.\n",
    "\n",
    "- Para isso, devemos criar três novos arquivos html dentro da pasta principal/templates.\n",
    "    - editar_cliente\n",
    "    - listar_cliente\n",
    "    - criar_cliente\n",
    "    \n",
    "Essas páginas receberão as ações do CRUD (Create, Read, Update e Delete), ações básicas dentro de um formulário de cadastro de informações.\n",
    "\n",
    "Obs.: A página delete não é necessária, pois ela deverá ser escrita dentro da tabela de dados no arquivo listar_clientes."
   ]
  },
  {
   "cell_type": "markdown",
   "metadata": {},
   "source": [
    "#### Block e Endblock"
   ]
  },
  {
   "cell_type": "markdown",
   "metadata": {},
   "source": [
    "Devemos alterar nosso arquivo base.html para \"limpar\" o conteúdo da página principal. Devemos manter nesse arquivo, somente o necessário para todas as páginas, sendo assim, devemos criar as tags {% block NAME %} e {% endblock %}.\n",
    "\n",
    "No nosso caso, devemos remover o conteúdo entre o cabeçalho (< nav >) e rodapé (< footer >), esse conteúdo extraído vai para a página \"principal.html\".\n",
    "\n",
    "Entre esses dois elementos observados, iremos inserir as tags da seguinte forma:"
   ]
  },
  {
   "cell_type": "code",
   "execution_count": null,
   "metadata": {},
   "outputs": [],
   "source": [
    "...\n",
    "{% block body %}\n",
    "{% endblock %}\n",
    "..."
   ]
  },
  {
   "cell_type": "markdown",
   "metadata": {},
   "source": [
    "No arquivo \"principal.html\", devemos inserir no final do conteúdo existente a mesma tag seguida do texto retirado do arquivo \"base.html\" ."
   ]
  },
  {
   "cell_type": "code",
   "execution_count": null,
   "metadata": {},
   "outputs": [],
   "source": [
    "...\n",
    "{% block body %}\n",
    "...\n",
    "# Inserir o código retirado de base.html aqui\n",
    "{% endblock %}\n",
    "..."
   ]
  },
  {
   "cell_type": "markdown",
   "metadata": {},
   "source": [
    "Com isso teremos nosso arquivo \"base.html\" escrito corretamente, permitindo inserção de código dentro desse bloco."
   ]
  }
 ],
 "metadata": {
  "kernelspec": {
   "display_name": "Python 3",
   "language": "python",
   "name": "python3"
  },
  "language_info": {
   "codemirror_mode": {
    "name": "ipython",
    "version": 3
   },
   "file_extension": ".py",
   "mimetype": "text/x-python",
   "name": "python",
   "nbconvert_exporter": "python",
   "pygments_lexer": "ipython3",
   "version": "3.6.6"
  }
 },
 "nbformat": 4,
 "nbformat_minor": 2
}
