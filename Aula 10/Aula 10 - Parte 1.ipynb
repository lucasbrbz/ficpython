{
 "cells": [
  {
   "cell_type": "markdown",
   "metadata": {},
   "source": [
    "#  Introdução ao Python\n",
    "## Professor: Luiz Ferreira"
   ]
  },
  {
   "cell_type": "markdown",
   "metadata": {},
   "source": [
    "## Módulo 2\n",
    "\n",
    "### Python para Web"
   ]
  },
  {
   "cell_type": "markdown",
   "metadata": {},
   "source": [
    "_____________"
   ]
  },
  {
   "cell_type": "markdown",
   "metadata": {},
   "source": [
    "## Como simplificar ainda mais meu projeto?"
   ]
  },
  {
   "cell_type": "markdown",
   "metadata": {},
   "source": [
    "O uso de templates permite que economia de tempo para a programação de um site, uma vez que detalhes estéticos da página são pré-definidos, permitindo que modifiquemos apenas os elementos e textos de dentro daquele modelo.\n",
    "\n",
    "Porém, existem alguns detalhes que devemos observar para poder utilizar esse tipo de ajuda:\n",
    "\n",
    "- Criar um projeto novo\n",
    "- Criar aplicação\n",
    "- Instalar aplicação (settings.py)\n",
    "- Mudar idioma (settings.py - pt-br)\n",
    "- Mudar Timezone (settings.py - America/Sao_Paulo)\n",
    "- Criar a variável STATICFILESDIR como abaixo\n",
    "\n",
    "STATICFILES_DIRS = [\n",
    "    os.path.join(BASE_DIR, \"static\"),\n",
    "]\n",
    "\n",
    "- Criar pasta static\n",
    "- Criar pasta templates\n",
    "- Criar arquivo base.html\n",
    "- Configurar URLs\n",
    "\n",
    "Com isso teremos o nosso projeto pronto para receber o template."
   ]
  },
  {
   "cell_type": "markdown",
   "metadata": {},
   "source": [
    "## Escolhendo template"
   ]
  },
  {
   "cell_type": "markdown",
   "metadata": {},
   "source": [
    "Navegando pela internet podemos encontrar inúmeros templates diferentes com disposições próprias e características diversas. Porém, devemos observar a sua licença de uso, geralmente apresentada de três formas:\n",
    "\n",
    "- Free\n",
    "- Premium\n",
    "- Demo\n",
    "\n",
    "Templates free permitem o uso ilimitado de seus recursos de maneira gratuita e todos os elementos usados são de uso liberado.\n",
    "\n",
    "Templates premium necessitam de um pagamento para o uso, literalmente você deverá comprar o template a ser utilizado.\n",
    "\n",
    "Templates demo geralmente são vinculados a um template premium e possuem restrições quanto ao uso gratuito, além da possibilidade de possuir elementos pagos cuja propriedade deverá ser paga ou autorizada."
   ]
  },
  {
   "cell_type": "markdown",
   "metadata": {},
   "source": [
    "Neste contexto, para nossa aula, utilizaremos um template free sugerido, [Material Parallax](https://github.com/SwarnaKishore/MaterialParallaxTemplate) que está disponível no GitHub.\n",
    "\n",
    "Com ele desenvolveremos nossa aula de hoje."
   ]
  },
  {
   "cell_type": "markdown",
   "metadata": {},
   "source": [
    "#### Utilizando o template"
   ]
  },
  {
   "cell_type": "markdown",
   "metadata": {},
   "source": [
    "Depois do download, devemos extrair o conteúdo do template para as pastas destino no nosso projeto.\n",
    "\n",
    "- A pasta css, js, font, images para a pasta STATIC\n",
    "- E o arquivo index.html para a pasta templates\n",
    "\n",
    "Devemos alterar o arquivo de nome index.html para base.html ."
   ]
  },
  {
   "cell_type": "markdown",
   "metadata": {},
   "source": [
    "Depois de feito isso, devemos criar uma pasta templates dentro da nossa aplicação (principal), para receber os nossos códigos .html .\n",
    "\n",
    "Em seguida, criamos um arquivo chamado 'principal.html' que terá o código herdado de nosso template base.\n",
    "\n",
    "Dentro desse arquivo deverá conter:"
   ]
  },
  {
   "cell_type": "code",
   "execution_count": null,
   "metadata": {},
   "outputs": [],
   "source": [
    "{% extends 'base.html' %}\n",
    "{% load static %}"
   ]
  },
  {
   "cell_type": "markdown",
   "metadata": {},
   "source": [
    "Pronto! Devemos ter um modelo acessível pelo navegador, para executar o servidor, no CMD ou PowerShell use:"
   ]
  },
  {
   "cell_type": "code",
   "execution_count": null,
   "metadata": {},
   "outputs": [],
   "source": [
    "python manage.py runserver"
   ]
  }
 ],
 "metadata": {
  "kernelspec": {
   "display_name": "Python 3",
   "language": "python",
   "name": "python3"
  },
  "language_info": {
   "codemirror_mode": {
    "name": "ipython",
    "version": 3
   },
   "file_extension": ".py",
   "mimetype": "text/x-python",
   "name": "python",
   "nbconvert_exporter": "python",
   "pygments_lexer": "ipython3",
   "version": "3.6.6"
  }
 },
 "nbformat": 4,
 "nbformat_minor": 2
}
