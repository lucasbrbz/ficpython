{
 "cells": [
  {
   "cell_type": "markdown",
   "metadata": {},
   "source": [
    "#  Introdução ao Python\n",
    "## Professor: Luiz Ferreira"
   ]
  },
  {
   "cell_type": "markdown",
   "metadata": {},
   "source": [
    "## Módulo 2\n",
    "\n",
    "### Python para Web"
   ]
  },
  {
   "cell_type": "markdown",
   "metadata": {},
   "source": [
    "_____________"
   ]
  },
  {
   "cell_type": "markdown",
   "metadata": {},
   "source": [
    "## Editando os arquivos editar_cliente, listar_cliente e criar_cliente"
   ]
  },
  {
   "cell_type": "markdown",
   "metadata": {},
   "source": [
    "Vamos trabalhar o conteúdo das páginas criadas.\n",
    "\n",
    "Cada arquivo deverá fazer o que sugere seu nome, dito isso, vamos começar pelo arquivo \"listar_cliente.html\". Mas antes, devemos criar o modelo de nosso banco de dados, o responsável pelas informações do que será salvo.\n",
    "\n",
    "Para isso, vamos editar o nosso arquivo \"model.py\" dentro de principal, de forma que fique semelhante a :"
   ]
  },
  {
   "cell_type": "code",
   "execution_count": null,
   "metadata": {},
   "outputs": [],
   "source": [
    "from django.db import models\n",
    "# Create your models here.\n",
    "\n",
    "\n",
    "class clientes(models.Model):\n",
    "    nome = models.CharField(max_length=400)\n",
    "    telefone = models.CharField(max_length=50)\n",
    "    email = models.CharField(max_length=120)\n",
    "\n",
    "    def __unicode__(self):\n",
    "        return self.nome\n",
    "\n",
    "    def get_post_url(self):\n",
    "        return reverse('cliente_edit', kwargs={'pk': self.pk})"
   ]
  },
  {
   "cell_type": "markdown",
   "metadata": {},
   "source": [
    "Com o model criado, podemos chamá-lo em nossas outras aplicações, permitindo a criação e manipulação da base de dados."
   ]
  },
  {
   "cell_type": "markdown",
   "metadata": {},
   "source": [
    "Vamos precisar criar as entradas no arquivo \"url.py\" para que possamos acessar nossas páginas, de forma que fique semelhante a:"
   ]
  },
  {
   "cell_type": "code",
   "execution_count": null,
   "metadata": {},
   "outputs": [],
   "source": [
    "from django.urls import path\n",
    "from principal import views as principal_views\n",
    "\n",
    "\n",
    "urlpatterns = [\n",
    "    path('', principal_views.principal, name=\"principal\"),\n",
    "    path('listar', principal_views.listar_cliente, name=\"listar\"),\n",
    "    path('novo', principal_views.criar, name=\"criar\"),\n",
    "    path('delete/<int:id>', principal_views.delete, name='delete'),\n",
    "    path('editar/<int:id>', principal_views.editar, name='editar'),\n",
    "]"
   ]
  },
  {
   "cell_type": "markdown",
   "metadata": {},
   "source": [
    "Um detalhe importante é a inserção da tag < int:id >, que irá receber por parâmetro, via método POST, o valor do id a ser modificado ou apagado."
   ]
  }
 ],
 "metadata": {
  "kernelspec": {
   "display_name": "Python 3",
   "language": "python",
   "name": "python3"
  },
  "language_info": {
   "codemirror_mode": {
    "name": "ipython",
    "version": 3
   },
   "file_extension": ".py",
   "mimetype": "text/x-python",
   "name": "python",
   "nbconvert_exporter": "python",
   "pygments_lexer": "ipython3",
   "version": "3.6.6"
  }
 },
 "nbformat": 4,
 "nbformat_minor": 2
}
