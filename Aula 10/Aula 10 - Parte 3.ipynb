{
 "cells": [
  {
   "cell_type": "markdown",
   "metadata": {},
   "source": [
    "#  Introdução ao Python\n",
    "## Professor: Luiz Ferreira"
   ]
  },
  {
   "cell_type": "markdown",
   "metadata": {},
   "source": [
    "## Módulo 2\n",
    "\n",
    "### Python para Web"
   ]
  },
  {
   "cell_type": "markdown",
   "metadata": {},
   "source": [
    "_____________"
   ]
  },
  {
   "cell_type": "markdown",
   "metadata": {},
   "source": [
    "## Editando os arquivos editar_cliente, listar_cliente e criar_cliente"
   ]
  },
  {
   "cell_type": "markdown",
   "metadata": {},
   "source": [
    "Vamos trabalhar o conteúdo das páginas criadas.\n",
    "\n",
    "Cada arquivo deverá fazer o que sugere seu nome, dito isso, vamos começar pelo arquivo \"listar_cliente.html\". Mas antes, devemos criar o modelo de nosso banco de dados, o responsável pelas informações do que será salvo.\n",
    "\n",
    "Para isso, vamos editar o nosso arquivo \"model.py\" dentro de principal, de forma que fique semelhante a :"
   ]
  },
  {
   "cell_type": "code",
   "execution_count": null,
   "metadata": {},
   "outputs": [],
   "source": [
    "from django.db import models\n",
    "# Create your models here.\n",
    "\n",
    "\n",
    "class clientes(models.Model):\n",
    "    nome = models.CharField(max_length=400)\n",
    "    telefone = models.CharField(max_length=50)\n",
    "    email = models.CharField(max_length=120)\n"
   ]
  },
  {
   "cell_type": "markdown",
   "metadata": {},
   "source": [
    "Com o model criado, podemos chamá-lo em nossas outras aplicações, permitindo a criação e manipulação da base de dados."
   ]
  },
  {
   "cell_type": "markdown",
   "metadata": {},
   "source": [
    "Vamos precisar criar as entradas no arquivo \"url.py\" para que possamos acessar nossas páginas, de forma que fique semelhante a:"
   ]
  },
  {
   "cell_type": "code",
   "execution_count": null,
   "metadata": {},
   "outputs": [],
   "source": [
    "from django.urls import path\n",
    "from principal import views as principal_views\n",
    "\n",
    "\n",
    "urlpatterns = [\n",
    "    path('', principal_views.principal, name=\"principal\"),\n",
    "    path('listar', principal_views.listar_cliente, name=\"listar\"),\n",
    "    path('novo', principal_views.criar, name=\"criar\"),\n",
    "    path('delete/<int:id>', principal_views.delete, name='delete'),\n",
    "    path('editar/<int:id>', principal_views.editar, name='editar'),\n",
    "]"
   ]
  },
  {
   "cell_type": "markdown",
   "metadata": {},
   "source": [
    "Um detalhe importante é a inserção da tag < int:id >, que irá receber por parâmetro, via método POST, o valor do id a ser modificado ou apagado."
   ]
  },
  {
   "cell_type": "markdown",
   "metadata": {},
   "source": [
    "### GET e POST\n",
    "\n",
    "Sendo informal e direto, o HTTP – Hypertext Transfer Protocol(Protocolo de Transferência de Dados) é um protocolo ou padrão de rede implementado em cima do TCP para que browsers e servidores possam se comunicar.\n",
    "\n",
    "Um cliente HTTP é um browser, ou seja, Chrome, Firefox, Internet Explore, entre outros, são software’s que se comunicam com servidores através do HTTP. O tipo de servidor a que me refiro aqui também são software’s, como por exemplo, o Apache e o IIS(Microsoft).\n",
    "\n",
    "Os principais métodos de comunicação HTTP são: GET e POST. Podemos diferenciá-las como:\n",
    "\n",
    "- Visibilidade – A grande diferença entre os métodos GET e POST provavelmente é a visibilidade. Uma requisição GET é enviada como string anexada a URL, enquanto que a requisição POST é encapsulada junto ao corpo da requisição HTTP e não pode ser vista.\n",
    "\n",
    "- Tamanho – Como a requisição GET é feita via URL, obviamente há uma limitação no tamanho da mensagem enviada. A string não pode conter mais que 255 caracteres(embora exista diferenças entre navegadores, mas em geral o limite é 255). Já na requisição POST não há limitações de comprimento da mensagem, já que a mesma é enviada no corpo da requisição HTTP.\n",
    "\n",
    "- Performance – A requisição GET é relativamente mais rápida, já que ela é mais simples. Na requisição POST há uma perda de tempo no encapsulamento da mensagem.\n",
    "\n",
    "- Tipos – Já que GET é enviado via URL, então nós sabemos que ela só transporta textos. A requisição POST não tem restrições, pode transportar tanto texto, como dados binários.\n",
    "\n",
    "- Favoritos/Bookmarks – Por se tratar apenas de uma URL, a requisição GET pode ser armazenada em cache, ou em um sistema de bookmark(favoritos). A mesma coisa não é possível para requisições POST.\n",
    "\n",
    "- Método HTML Padrão – GET é o método HTML padrão. Para submeter um formulário HTML usando POST é preciso especificar no atributo “method” o valor “POST”.\n",
    "\n",
    "- Dados – As requisições GET são limitadas ao padrão ASCII, enquanto que requisições POST também podem usar o atributo “enctype” com o valor “multipart/form-data”, que faz uso do padrão UCS(Universal Multiple-Octet Coded Character Set)."
   ]
  },
  {
   "cell_type": "markdown",
   "metadata": {},
   "source": [
    "### Continuando ... A edição do arquivo views.py\n",
    "\n",
    "Para que o valor seja recebido corretamente para edição ou exclusão, a lista chegar corretamente para a exibição e para realizar o armazenamento de um novo registro, devemos editar nossas views, para que elas entendam o que necessitamos:\n",
    "\n",
    "- Vamos começar: como iremos trabalhar com o salvamento de um formulário, para que possamos utilizá-lo de forma eficiente, devemos criar uma classe chamada de Meta que irá definir padrões personalizados para a associar cada elemento a um valor quando trabalhado em formulários ela é um guia de qual model utilizar e quais campos processar."
   ]
  },
  {
   "cell_type": "code",
   "execution_count": null,
   "metadata": {},
   "outputs": [],
   "source": [
    "class ClienteForm(ModelForm):\n",
    "    class Meta:\n",
    "        model = clientes\n",
    "        fields = ['id', 'nome', 'telefone', 'email']"
   ]
  },
  {
   "cell_type": "markdown",
   "metadata": {},
   "source": [
    "Com a classe ClienteForm informamos ao nosso app que existe um modelo a ser seguido quando trabalharmos com um formulário de cliente, apontando características como: model relacionado ao formulário e quais campos ele irá encontrar tanto na base quanto no model para trabalharmos."
   ]
  },
  {
   "cell_type": "code",
   "execution_count": null,
   "metadata": {},
   "outputs": [],
   "source": [
    "def listar_cliente(request):\n",
    "    cliente = clientes.objects.all()\n",
    "    context = {'cliente': cliente}\n",
    "    return render(request, 'listar_cliente.html', context)"
   ]
  },
  {
   "cell_type": "markdown",
   "metadata": {},
   "source": [
    "A função listar_cliente será a responsável pela página listar_cliente, com a URL /listar. \n",
    "\n",
    "Dito isso, essa será a forma com que iremos recuperar os dados em uma lista. Vejamos:\n",
    "\n",
    "- a variável cliente receberá todos os objetos encontrados no banco de dados clientes\n",
    "- context será o responsável por tratar todos os objetos de forma com que sejam acessíveis uma a uma\n",
    "- o return será padrão, retornará uma requisição HTML cujo endereço é listar_cliente.html, porém, com o adicional da lista contida em context"
   ]
  },
  {
   "cell_type": "markdown",
   "metadata": {},
   "source": [
    "A função delete será a responsável por eliminar um registro de nossa base de dados.\n",
    "\n",
    "Observemos: \n",
    "\n",
    "- cliente recuperará um cliente com a variável id específica, que será informada quando do clique no botão APAGAR na página listar_cliente, com o clique ele obterá a informação do id e passará à exclusão\n",
    "- cliente.delete() realizará a remoção\n",
    "- return redirect fará com que, após a exclusão, redirecione o usuário para uma página específica, nesse caso, ele realizará a atualização da página listar_clientes\n"
   ]
  },
  {
   "cell_type": "code",
   "execution_count": null,
   "metadata": {},
   "outputs": [],
   "source": [
    "def delete(request, id):\n",
    "    cliente = clientes.objects.get(id=id)\n",
    "    cliente.delete()\n",
    "    return redirect('/listar')"
   ]
  },
  {
   "cell_type": "markdown",
   "metadata": {},
   "source": [
    "A função delete será a responsável por eliminar um registro de nossa base de dados.\n",
    "\n",
    "Observemos: \n",
    "\n",
    "- cliente recuperará um cliente com a variável id específica, que será informada quando do clique no botão APAGAR na página listar_cliente, com o clique ele obterá a informação do id e passará à exclusão\n",
    "- cliente.delete() realizará a remoção\n",
    "- return redirect fará com que, após a exclusão, redirecione o usuário para uma página específica, nesse caso, ele realizará a atualização da página listar_clientes\n"
   ]
  },
  {
   "cell_type": "code",
   "execution_count": null,
   "metadata": {},
   "outputs": [],
   "source": [
    "def editar(request, id):\n",
    "    post = get_object_or_404(clientes, pk=id)\n",
    "    form = ClienteForm(request.POST or None, instance=post)\n",
    "    if form.is_valid():\n",
    "        form.save()\n",
    "        return redirect('/listar')\n",
    "    return render(request, 'editar_cliente.html', {'form': form})\n",
    "\n",
    "\n",
    "def criar(request):\n",
    "    form = ClienteForm(request.POST or None)\n",
    "    if form.is_valid():\n",
    "        form.save()\n",
    "        return redirect('/listar')\n",
    "    return render(request, 'criar_cliente.html', {'form': form})"
   ]
  },
  {
   "cell_type": "markdown",
   "metadata": {},
   "source": [
    "As funções editar e criar são muito semelhantes quanto ao seu funcionamento, a única características que o diferem é o uso do mesmo mecanismo de utilização da variável id pela função delete.\n",
    "\n",
    "Observemos:\n",
    "\n",
    "- uma variável post que irá procurar dentro de todos os clientes o que possui o id idêntico ao passado durante o clique\n",
    "- a variável form irá utilizar o MetaClass em que informamos como trabalharemos esses formulários que manipularão os dados de clientes\n",
    "- o if form.is_valid fará uma checagem sobre os dados apresentados pelo formulário e como deveriam ser (not null, string ou numérico) ...\n",
    "- o form.save() irá executar o commit dos dados digitados no formulário"
   ]
  },
  {
   "cell_type": "code",
   "execution_count": null,
   "metadata": {},
   "outputs": [],
   "source": [
    "def principal(request):\n",
    "    return render(request, 'principal.html')"
   ]
  },
  {
   "cell_type": "markdown",
   "metadata": {},
   "source": [
    "A função principal, irá continuar sendo mínima, apenas solicitando uma requisição HTML com a página principal.\n",
    "\n",
    "\n",
    "#### Com as views contruídas e a URL configurada corretamente, procederemos ao conteúdo das páginas criadas"
   ]
  },
  {
   "cell_type": "markdown",
   "metadata": {},
   "source": [
    "### listar_clientes.html"
   ]
  },
  {
   "cell_type": "code",
   "execution_count": null,
   "metadata": {},
   "outputs": [],
   "source": [
    "{% extends 'base.html' %}\n",
    "{% load static %}\n",
    "\n",
    "{% block body %}\n",
    "\n",
    "<div class=\"container\">\n",
    "    <br><br>\n",
    "    <table class=\"table centered table-bordered\">\n",
    "        <thead class=\"alert-warning\">\n",
    "            <tr>\n",
    "                <th>Nome</th>\n",
    "                <th>Telefone</th>\n",
    "                <th>Email</th>\n",
    "                <th>Ações</th>\n",
    "            </tr>\n",
    "        </thead>\n",
    "        <tbody>\n",
    "            {% for cli in cliente %}\n",
    "            <tr>\n",
    "                <td>{{ cli.nome }}</td>\n",
    "                <td>{{ cli.telefone }}</td>\n",
    "                <td>{{ cli.email }}</td>\n",
    "                <td>\n",
    "                    <a class=\"waves-effect waves-light btn orange\" href=\"{% url 'editar' cli.id %}\">\n",
    "                        <span class=\"glyphicon glyphicon-edit\"></span> Editar</a>\n",
    "                    <a class=\"waves-effect waves-light btn red\" href=\"{% url 'delete' cli.id %}\">\n",
    "                        <span class=\"glyphicon glyphicon-trash\"></span> Apagar</a>\n",
    "                </td>\n",
    "            </tr>\n",
    "            {% endfor %}\n",
    "        </tbody>\n",
    "    </table>\n",
    "</div>\n",
    "<div center class=\"container center-align\">\n",
    "    <a class=\"waves-effect waves-light btn green\" href=\"{% url 'criar' %}\"><span class=\"glyphicon glyphicon-trash\"></span> Novo Cliente</a>\n",
    "    <br><br>\n",
    "</div>\n",
    "{% endblock %}"
   ]
  },
  {
   "cell_type": "markdown",
   "metadata": {},
   "source": [
    "Podemos ver aqui a codificação em HTML da página, chamando a atenção para o uso do arquivo `base` e o uso de codificação em Python dentro da página, como vemos no {% for cli in cliente %}, que irá fazer a manipualação da base de dados, e {{ cli.nome }} que irá manipular cada célula de nossa tabela de dados."
   ]
  },
  {
   "cell_type": "markdown",
   "metadata": {},
   "source": [
    "### editar.html"
   ]
  },
  {
   "cell_type": "code",
   "execution_count": null,
   "metadata": {},
   "outputs": [],
   "source": [
    "{% extends 'base.html' %}\n",
    "{% load static %}\n",
    "\n",
    "{% block body %}\n",
    "<div class=\"container\">\n",
    "    <h4>Editando cliente</h4>\n",
    "    <form method=\"post\">{% csrf_token %}\n",
    "        {{ form.as_p }}\n",
    "        <button class=\"btn waves-effect waves-light\" type=\"submit\" name=\"action\">Submit<i class=\"material-icons right\">send</i></button>\n",
    "    </form>\n",
    "</div>\n",
    "{% endblock %}"
   ]
  },
  {
   "cell_type": "markdown",
   "metadata": {},
   "source": [
    "Aqui vemos novamente a codificação em HTML utilizando o arquivo `base` e notamos a construção do formulário.\n",
    "\n",
    "- {% csrf_token %} =  Essa tag é a responsável por implementar o middleware de CSRF que é uma forma fácil de implementar soluções contra ataques de pessoas mal-intencionadas, como por exemplo, ataques de Cross Site quando um botão responsável por uma ação é executado usando as credenciais de outro usuário. Esse tipo de erro comum força o navegador de um usuário a trabalhar de forma errada, que evitamos simplesmente usando essa tag. A primeira defesa contra ataques de CSRF é garantir que as solicitações GET (e outros métodos \"seguros\", conforme definido pela RFC 7231 # seção-4.2.1) sejam livres de efeitos colaterais. Os pedidos através de métodos \"inseguros\", como POST, PUT e DELETE, podem ser protegidos seguindo as etapas abaixo.\n",
    "- {{ form.as_p }} = Implementa um formulário com validação construído com base no Meta do ModelForm implementado anteriormente."
   ]
  },
  {
   "cell_type": "markdown",
   "metadata": {},
   "source": [
    "### criar_cliente.html"
   ]
  },
  {
   "cell_type": "code",
   "execution_count": null,
   "metadata": {},
   "outputs": [],
   "source": [
    "{% block body %}\n",
    "<div class=\"container\">\n",
    "    <h4>Cadastrar cliente</h4>\n",
    "    <ul>\n",
    "        <form method=\"post\">{% csrf_token %}\n",
    "            {{ form.as_p }}\n",
    "            <button class=\"btn waves-effect waves-light\" type=\"submit\" name=\"action\">Submit\n",
    "                <i class=\"material-icons right\">send</i>\n",
    "            </button>\n",
    "        </form>\n",
    "    </ul>\n",
    "</div>\n",
    "{% endblock %}"
   ]
  },
  {
   "cell_type": "markdown",
   "metadata": {},
   "source": [
    "Conforme vimos acima, utilizamos o csrf_token para garantir a segurança de nosso formulário e o form.as_p para criar nosso formulário, muito semelhante ao funcionamento do `editar_cliente.html`."
   ]
  }
 ],
 "metadata": {
  "kernelspec": {
   "display_name": "Python 3",
   "language": "python",
   "name": "python3"
  },
  "language_info": {
   "codemirror_mode": {
    "name": "ipython",
    "version": 3
   },
   "file_extension": ".py",
   "mimetype": "text/x-python",
   "name": "python",
   "nbconvert_exporter": "python",
   "pygments_lexer": "ipython3",
   "version": "3.6.6"
  }
 },
 "nbformat": 4,
 "nbformat_minor": 2
}
