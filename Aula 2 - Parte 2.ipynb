{
 "cells": [
  {
   "cell_type": "markdown",
   "metadata": {},
   "source": [
    "#  Introdução ao Python\n",
    "## Professor: Luiz Ferreira"
   ]
  },
  {
   "cell_type": "markdown",
   "metadata": {},
   "source": [
    "## Módulo 1\n",
    "\n",
    "### Introdução ao Python"
   ]
  },
  {
   "cell_type": "markdown",
   "metadata": {},
   "source": [
    "_____________"
   ]
  },
  {
   "cell_type": "markdown",
   "metadata": {},
   "source": [
    "# Tipos "
   ]
  },
  {
   "cell_type": "markdown",
   "metadata": {},
   "source": [
    "#### Regrinhas: \n",
    "\n",
    "Os nomes das variáveis devem começar com ``letra`` (sem acentuação) ou ``sublinhado`` (_), pode ser seguido por letras (sem acentuação), dígitos ou outros sublinhados (_), sendo que ``maiúsculas e minúsculas`` são consideradas diferentes, o famose CaseSensitive."
   ]
  },
  {
   "cell_type": "markdown",
   "metadata": {},
   "source": [
    "Em Python, encontramos tipos nativos: ``texto`` e ``números`` (inteiro, flutuante, real, complexo, ...) e também as chamadas coleções ``lista``, ``tupla`` e ``dicionário``.\n",
    "\n",
    "Assim como as demais linguagens de programação temos variáveis mutáveis e imutáveis.\n",
    "\n",
    "Em Python, os nomes de variáveis são referências, que podem ser alteradas em tempos de execução.\n",
    "\n",
    "Os tipos e rotinas mais comuns estão implementados na forma de ``builtins``, ou seja, eles estão sempre disponíveis em tempo de execução, sem a necessidade de importar nenhuma biblioteca."
   ]
  },
  {
   "cell_type": "markdown",
   "metadata": {},
   "source": [
    "## Números"
   ]
  },
  {
   "cell_type": "markdown",
   "metadata": {},
   "source": [
    "Temos como tipos numéricos na forma de builtins:\n",
    "\n",
    "- Inteiros (famoso int)\n",
    "- Real de ponto flutuante (famoso float)\n",
    "- Complexo (nem tão famoso c=3+4j)\n",
    "\n",
    "#### Curiosidade:\n",
    "\n",
    "Além dos números inteiros convencionais, existem também os inteiros longos, que tem dimensão arbitrária e são limitados pela memória disponível. As conversões entre inteiro e longo são realizadas de forma automática. A função builtin int() pode ser usada para converter outros tipos para inteiro, incluindo mudanças de base."
   ]
  },
  {
   "cell_type": "code",
   "execution_count": 15,
   "metadata": {},
   "outputs": [
    {
     "name": "stdout",
     "output_type": "stream",
     "text": [
      "Real para inteiro --------\n",
      "int(3.14) = 3\n",
      "\n",
      "Inteiro para real --------\n",
      "float(5) = 5.0\n",
      "\n",
      "Calculando inteiro e real resultando real --------\n",
      "5.0 / 2 + 3 =  5.5\n",
      "\n",
      "Convertendo --------\n",
      "\\Base 8 --------\n",
      "int('20', 8) = 16\n",
      "\\Base 16 --------\n",
      "int('20', 16) = 32\n",
      "\n",
      "Os números complexos --------\n",
      "c = (3+4j)\n",
      "Parte real: 3.0\n",
      "Parte imaginária: 4.0\n",
      "Conjugado: (3-4j)\n"
     ]
    }
   ],
   "source": [
    "# Convertendo de real para inteiro\n",
    "print (\"Real para inteiro --------\")\n",
    "print ('int(3.14) =', int(3.14))\n",
    "\n",
    "\n",
    "# Convertendo de inteiro para real\n",
    "print (\"\\nInteiro para real --------\")\n",
    "print ('float(5) =', float(5))\n",
    "\n",
    "# Calculo entre inteiro e real resulta em real\n",
    "print (\"\\nCalculando inteiro e real resultando real --------\")\n",
    "print ('5.0 / 2 + 3 = ', 5.0 / 2 + 3)\n",
    "\n",
    "# Inteiros em outra base\n",
    "print (\"\\nConvertendo --------\")\n",
    "print (\"\\Base 8 --------\")\n",
    "print (\"int('20', 8) =\", int('20', 8)) # base 8\n",
    "print (\"\\Base 16 --------\")\n",
    "print (\"int('20', 16) =\", int('20', 16)) # base 16\n",
    "\n",
    "# Operações com números complexos\n",
    "print (\"\\nOs números complexos --------\")\n",
    "c = 3 + 4j\n",
    "print ('c =', c)\n",
    "print ('Parte real:', c.real)\n",
    "print ('Parte imaginária:', c.imag)\n",
    "print ('Conjugado:', c.conjugate())"
   ]
  },
  {
   "cell_type": "markdown",
   "metadata": {},
   "source": [
    "## Operações matemáticas, lógicas e computacionais"
   ]
  },
  {
   "cell_type": "markdown",
   "metadata": {},
   "source": [
    "O Python tem uma série de operadores definidos para manipular números, através de cálculos aritméticos, operações lógicas (que testam se uma determina condição é verdadeira ou falsa) ou processamento bit-a-bit (em que os números são tratados na forma binária)."
   ]
  },
  {
   "cell_type": "markdown",
   "metadata": {},
   "source": [
    "#### Operações matemáticas\n",
    "\n",
    "- Soma (+)\n",
    "- Diferença (-)\n",
    "- Multiplicação (*)\n",
    "- Divisão (/): entre dois inteiros funciona igual à divisão inteira. Em outros casos, o resultado é real.\n",
    "- Divisão inteira (//): o resultado é truncado para o inteiro imediatamente inferior, mesmo quando aplicado em números reais, porém neste caso o resultado será real também.\n",
    "- Módulo (%): retorna o resto da divisão.\n",
    "- Potência (**): pode ser usada para calcular a raiz, através de expoentes fracionários (exemplo: 100 ** 0.5).\n",
    "- Positivo (+)\n",
    "- Negativo (-)"
   ]
  },
  {
   "cell_type": "code",
   "execution_count": 21,
   "metadata": {},
   "outputs": [],
   "source": [
    "# Nossa demonstração! Sim, atribuição, calculo e print do resultado, considere x = 23 e y = 12, quando necessário.\n",
    "# Variavél com resultado deverá ser chamada de resultado"
   ]
  },
  {
   "cell_type": "markdown",
   "metadata": {},
   "source": [
    "#### Operações lógicas:\n",
    "\n",
    "- Menor (<)\n",
    "- Maior (>)\n",
    "- Menor ou igual (<=)\n",
    "- Maior ou igual (>=)\n",
    "- Igual (==)\n",
    "- Diferente (!=)"
   ]
  },
  {
   "cell_type": "code",
   "execution_count": 23,
   "metadata": {},
   "outputs": [],
   "source": [
    "# Outra atividade, testemos cada operação. Lembre-se x = 23 e y = 12, variável resultado.\n",
    "# Observação: esse tipo de operação é a melhor amiga das nossas operações condicionais e estruturas de repetição."
   ]
  },
  {
   "cell_type": "markdown",
   "metadata": {},
   "source": [
    "#### Operações computacionais\n",
    "\n",
    "- Deslocamento para esquerda (<<)\n",
    "- Deslocamento para direita (>>)\n",
    "- E bit-a-bit (&)\n",
    "- Ou bit-a-bit (|)\n",
    "- Ou exclusivo bit-a-bit (^)\n",
    "- Inversão (~)"
   ]
  },
  {
   "cell_type": "code",
   "execution_count": 62,
   "metadata": {},
   "outputs": [
    {
     "name": "stdout",
     "output_type": "stream",
     "text": [
      "Temos a variável inteira: 10\n",
      "Ela tem seu valor binário igual a 0b1010\n",
      "Quando deslocamos seu valor para esquerda temos: 0b10100\n",
      "Quando deslocamos seu valor para direita temos: 0b101\n",
      "\n",
      "Podemos trabalhar com tabelas verdade\n",
      "Operação AND: 0\n",
      "Operação OR: 1\n",
      "Operação XOR 1\n",
      "Operação de inversão: -0b1\n"
     ]
    }
   ],
   "source": [
    "# Esse tipo de operação é mais complexa e pouco utilizado. Mas a titulo de curiosidade, segue o exemplo.\n",
    "\n",
    "x = 10\n",
    "print(\"Temos a variável inteira:\", x)\n",
    "print(\"Ela tem seu valor binário igual a\",bin(x))\n",
    "print(\"Quando deslocamos seu valor para esquerda temos:\",bin(x<<1))\n",
    "print(\"Quando deslocamos seu valor para direita temos:\",bin(x>>1))\n",
    "\n",
    "print(\"\\nPodemos trabalhar com tabelas verdade\")\n",
    "print(\"Operação AND:\", 0&1)\n",
    "print(\"Operação OR:\", 0|1)\n",
    "print(\"Operação XOR\", 1^0)\n",
    "\n",
    "x = 0 \n",
    "print(\"Operação de inversão:\", bin(~x))"
   ]
  }
 ],
 "metadata": {
  "kernelspec": {
   "display_name": "Python 3",
   "language": "python",
   "name": "python3"
  },
  "language_info": {
   "codemirror_mode": {
    "name": "ipython",
    "version": 3
   },
   "file_extension": ".py",
   "mimetype": "text/x-python",
   "name": "python",
   "nbconvert_exporter": "python",
   "pygments_lexer": "ipython3",
   "version": "3.6.5"
  }
 },
 "nbformat": 4,
 "nbformat_minor": 2
}
