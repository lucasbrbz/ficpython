{
 "cells": [
  {
   "cell_type": "markdown",
   "metadata": {},
   "source": [
    "#  Introdução ao Python\n",
    "## Professor: Luiz Ferreira"
   ]
  },
  {
   "cell_type": "markdown",
   "metadata": {},
   "source": [
    "## Módulo 1\n",
    "\n",
    "### Introdução ao Python"
   ]
  },
  {
   "cell_type": "markdown",
   "metadata": {},
   "source": [
    "_____________"
   ]
  },
  {
   "cell_type": "markdown",
   "metadata": {},
   "source": [
    "# Controle de fluxo "
   ]
  },
  {
   "cell_type": "markdown",
   "metadata": {},
   "source": [
    "Python utiliza a mesma conjuntura de outras linguagens para seu controlador de fluxo:\n",
    "\n",
    "Esquema ``if-elseif(elif)-else``, onde temos:\n",
    "\n",
    "#### Sintaxe:\n",
    "\n",
    "if <condição>:\n",
    "\n",
    "    <bloco de código>\n",
    "    \n",
    "elif <condição>:\n",
    "\n",
    "    <bloco de código>\n",
    "    \n",
    "elif <condição>:\n",
    "\n",
    "    <bloco de código>\n",
    "\n",
    "else:\n",
    "\n",
    "    <bloco de código>\n",
    "\n",
    "\n",
    "#### Na qual:\n",
    "\n",
    "<condição>: sentença que possa ser avaliada como verdadeira ou falsa.\n",
    "\n",
    "<bloco de código>: sequência de linhas de comando.\n",
    "\n",
    "#### Observação:\n",
    "As clausulas elif e else são opcionais e podem existir vários elifs para o mesmo if, porém apenas um else ao final.\n",
    "Parênteses só são necessários para evitar ambiguidades."
   ]
  },
  {
   "cell_type": "markdown",
   "metadata": {},
   "source": [
    "### Meu exemplo:\n",
    "\n",
    "Poços está fria?\n",
    "\n",
    "- > 30, Derretendo\n",
    "- > 20, Calorzinho\n",
    "- > 10, Normal\n",
    "- > 0, Ok, Preciso de um casaco\n",
    "- > -10, Pra Poços, esqueci, ainda é normal."
   ]
  },
  {
   "cell_type": "markdown",
   "metadata": {},
   "source": [
    "pocos_agora = '??'\n",
    "\n",
    "print(pocos_agora)"
   ]
  },
  {
   "cell_type": "markdown",
   "metadata": {},
   "source": [
    "____________\n"
   ]
  },
  {
   "cell_type": "markdown",
   "metadata": {},
   "source": [
    "Se o bloco de código for composto de apenas uma linha, ele pode ser escrito após os dois pontos:"
   ]
  },
  {
   "cell_type": "code",
   "execution_count": 12,
   "metadata": {},
   "outputs": [
    {
     "name": "stdout",
     "output_type": "stream",
     "text": [
      "10\n"
     ]
    }
   ],
   "source": [
    "# Vamos lá de novo?\n"
   ]
  },
  {
   "cell_type": "markdown",
   "metadata": {},
   "source": [
    "A partir da versão 2.5, Python permite uma variável receber um condição:\n"
   ]
  },
  {
   "cell_type": "code",
   "execution_count": 11,
   "metadata": {},
   "outputs": [
    {
     "name": "stdout",
     "output_type": "stream",
     "text": [
      "5\n"
     ]
    }
   ],
   "source": [
    "# Testemos?\n"
   ]
  },
  {
   "cell_type": "markdown",
   "metadata": {},
   "source": [
    "_____________"
   ]
  },
  {
   "cell_type": "markdown",
   "metadata": {},
   "source": [
    "# Laços"
   ]
  },
  {
   "cell_type": "markdown",
   "metadata": {},
   "source": [
    "Laços (loops) são estruturas de repetição, geralmente usados para processar coleções de dados, tais como linhas de um arquivo ou registros de um banco de dados, que precisam ser processados por um mesmo bloco de código."
   ]
  },
  {
   "cell_type": "markdown",
   "metadata": {},
   "source": [
    "### FOR"
   ]
  },
  {
   "cell_type": "markdown",
   "metadata": {},
   "source": [
    "É a estrutura de repetição mais usada no Python. A instrução aceita não só sequências estáticas, mas também sequências geradas por iteradores. Iteradores são estruturas que permitem iterações, ou seja, acesso aos itens de uma coleção de elementos, de forma sequencial."
   ]
  },
  {
   "cell_type": "markdown",
   "metadata": {},
   "source": [
    "![](http://nbviewer.jupyter.org/github/ricardoduarte/python-para-desenvolvedores/blob/master/Capitulo4/bpypd_diags3.png)"
   ]
  },
  {
   "cell_type": "markdown",
   "metadata": {},
   "source": [
    "Durante a execução de um laço for, a referência aponta para um elemento da sequência. A cada iteração, a referência é atualizada, para que o bloco de código do for processe o elemento correspondente.\n",
    "\n",
    "\n",
    "\n"
   ]
  },
  {
   "cell_type": "markdown",
   "metadata": {},
   "source": [
    "Temos o ``Break`` que interrompe a atividade e o ``Continue`` que passa para a próxima iteração "
   ]
  },
  {
   "cell_type": "markdown",
   "metadata": {},
   "source": [
    "#### Sintaxe FOR"
   ]
  },
  {
   "cell_type": "markdown",
   "metadata": {},
   "source": [
    "for <referência> in <sequência>:\n",
    "\n",
    "    <bloco de código>\n",
    "\n",
    "    continue\n",
    "    \n",
    "    break\n",
    "\n",
    "else:\n",
    "\n",
    "    <bloco de código>\n"
   ]
  },
  {
   "cell_type": "markdown",
   "metadata": {},
   "source": [
    "#### Onde: "
   ]
  },
  {
   "cell_type": "markdown",
   "metadata": {},
   "source": [
    "< referencia > : Irá proporcionar a variável de referência do laço\n",
    "\n",
    "< sequencia > : Será o valor que definirá os limites de execução\n",
    "\n",
    "< bloco de código > : Será a atividade que será executada no laço"
   ]
  },
  {
   "cell_type": "code",
   "execution_count": 15,
   "metadata": {},
   "outputs": [
    {
     "name": "stdout",
     "output_type": "stream",
     "text": [
      "4950\n"
     ]
    }
   ],
   "source": [
    "# Soma de 0 a 99\n",
    "s = 0\n",
    "for x in range(1, 100):\n",
    "    s = s + x\n",
    "print(s)"
   ]
  },
  {
   "cell_type": "markdown",
   "metadata": {},
   "source": [
    "#### Anotação: "
   ]
  },
  {
   "cell_type": "markdown",
   "metadata": {},
   "source": [
    "#### Função RANGE( M, N, P)"
   ]
  },
  {
   "cell_type": "markdown",
   "metadata": {},
   "source": [
    "Essa função permite obtermos valores que encontram-se entre M e N, com passos de P"
   ]
  },
  {
   "cell_type": "markdown",
   "metadata": {},
   "source": [
    "### While"
   ]
  },
  {
   "cell_type": "markdown",
   "metadata": {},
   "source": [
    "Estrutura de repetição que executa um bloco de código atendendo a uma condição, encerrando seu trabalho quando satisfeita."
   ]
  },
  {
   "cell_type": "markdown",
   "metadata": {},
   "source": [
    "#### Sintaxe WHILE"
   ]
  },
  {
   "cell_type": "markdown",
   "metadata": {},
   "source": [
    "while <condição>:\n",
    "\n",
    "    <bloco de código>\n",
    "\n",
    "    continue\n",
    "\n",
    "    break\n",
    "\n",
    "else:\n",
    "\n",
    "    <bloco de código>\n"
   ]
  },
  {
   "cell_type": "markdown",
   "metadata": {},
   "source": [
    "#### Onde: "
   ]
  },
  {
   "cell_type": "markdown",
   "metadata": {},
   "source": [
    "< condicao > : Irá proporcionar a condição em que o bloco será executado\n",
    "\n",
    "< bloco de código > : Será a atividade que será executada no laço"
   ]
  },
  {
   "cell_type": "code",
   "execution_count": 16,
   "metadata": {},
   "outputs": [
    {
     "name": "stdout",
     "output_type": "stream",
     "text": [
      "4950\n"
     ]
    }
   ],
   "source": [
    "# Soma de 0 a 99\n",
    "s = 0\n",
    "x = 1\n",
    "\n",
    "while x < 100:\n",
    "    s = s + x\n",
    "    x = x + 1\n",
    "print (s)"
   ]
  },
  {
   "cell_type": "markdown",
   "metadata": {},
   "source": [
    "Respondendo: O laço while é adequado quando não há como determinar quantas iterações vão ocorrer e não há uma sequência a seguir.\n",
    "\n"
   ]
  }
 ],
 "metadata": {
  "kernelspec": {
   "display_name": "Python 3",
   "language": "python",
   "name": "python3"
  },
  "language_info": {
   "codemirror_mode": {
    "name": "ipython",
    "version": 3
   },
   "file_extension": ".py",
   "mimetype": "text/x-python",
   "name": "python",
   "nbconvert_exporter": "python",
   "pygments_lexer": "ipython3",
   "version": "3.6.5"
  }
 },
 "nbformat": 4,
 "nbformat_minor": 2
}
