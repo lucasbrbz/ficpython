{
 "cells": [
  {
   "cell_type": "markdown",
   "metadata": {},
   "source": [
    "#  Introdução ao Python\n",
    "## Professor: Luiz Ferreira"
   ]
  },
  {
   "cell_type": "markdown",
   "metadata": {},
   "source": [
    "## Módulo 1\n",
    "\n",
    "### Introdução ao Python"
   ]
  },
  {
   "cell_type": "markdown",
   "metadata": {},
   "source": [
    "_____________"
   ]
  },
  {
   "cell_type": "markdown",
   "metadata": {},
   "source": [
    "# Controle de fluxo "
   ]
  },
  {
   "cell_type": "markdown",
   "metadata": {},
   "source": [
    "Python utiliza a mesma conjuntura de outras linguagens para seu controlador de fluxo:\n",
    "\n",
    "Esquema ``if-elseif(elif)-else``, onde temos:\n",
    "\n",
    "#### Sintaxe:\n",
    "\n",
    "if <condição>:\n",
    "\n",
    "    <bloco de código>\n",
    "    \n",
    "elif <condição>:\n",
    "\n",
    "    <bloco de código>\n",
    "    \n",
    "elif <condição>:\n",
    "\n",
    "    <bloco de código>\n",
    "\n",
    "else:\n",
    "\n",
    "    <bloco de código>\n",
    "\n",
    "\n",
    "#### Na qual:\n",
    "\n",
    "<condição>: sentença que possa ser avaliada como verdadeira ou falsa.\n",
    "\n",
    "<bloco de código>: sequência de linhas de comando.\n",
    "\n",
    "#### Observação:\n",
    "As clausulas elif e else são opcionais e podem existir vários elifs para o mesmo if, porém apenas um else ao final.\n",
    "Parênteses só são necessários para evitar ambiguidades."
   ]
  },
  {
   "cell_type": "markdown",
   "metadata": {},
   "source": [
    "### Meu exemplo:\n",
    "\n",
    "Poços está fria?\n",
    "\n",
    "- > 30, Derretendo\n",
    "- > 20, Calorzinho\n",
    "- > 10, Normal\n",
    "- > 0, Ok, Preciso de um casaco\n",
    "- > -10, Pra Poços, esqueci, ainda é normal."
   ]
  },
  {
   "cell_type": "code",
   "execution_count": 2,
   "metadata": {},
   "outputs": [
    {
     "name": "stdout",
     "output_type": "stream",
     "text": [
      "??\n"
     ]
    }
   ],
   "source": [
    "pocos_agora = '??'\n",
    "\n",
    "print(pocos_agora)"
   ]
  },
  {
   "cell_type": "markdown",
   "metadata": {},
   "source": [
    "____________\n"
   ]
  },
  {
   "cell_type": "markdown",
   "metadata": {},
   "source": [
    "Se o bloco de código for composto de apenas uma linha, ele pode ser escrito após os dois pontos:"
   ]
  },
  {
   "cell_type": "code",
   "execution_count": 3,
   "metadata": {},
   "outputs": [],
   "source": [
    "# Vamos lá de novo?"
   ]
  },
  {
   "cell_type": "markdown",
   "metadata": {},
   "source": [
    "A partir da versão 2.5, Python permite uma variável receber um condição:\n"
   ]
  },
  {
   "cell_type": "code",
   "execution_count": 4,
   "metadata": {},
   "outputs": [],
   "source": [
    "# Testemos?"
   ]
  }
 ],
 "metadata": {
  "kernelspec": {
   "display_name": "Python 3",
   "language": "python",
   "name": "python3"
  },
  "language_info": {
   "codemirror_mode": {
    "name": "ipython",
    "version": 3
   },
   "file_extension": ".py",
   "mimetype": "text/x-python",
   "name": "python",
   "nbconvert_exporter": "python",
   "pygments_lexer": "ipython3",
   "version": "3.6.5"
  }
 },
 "nbformat": 4,
 "nbformat_minor": 2
}
