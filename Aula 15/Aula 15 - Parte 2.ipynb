{
 "cells": [
  {
   "cell_type": "markdown",
   "metadata": {},
   "source": [
    "#  Introdução ao Python\n",
    "## Professor: Luiz Ferreira"
   ]
  },
  {
   "cell_type": "markdown",
   "metadata": {},
   "source": [
    "## Módulo 4\n",
    "\n",
    "### Python para Dados"
   ]
  },
  {
   "cell_type": "markdown",
   "metadata": {},
   "source": [
    "_____________"
   ]
  },
  {
   "cell_type": "markdown",
   "metadata": {},
   "source": [
    "## Salários e experiência"
   ]
  },
  {
   "cell_type": "markdown",
   "metadata": {},
   "source": [
    "Antes do almoço do primeiro dia, vem mais um vice-presidente, dessa vez o de Relações Públicas, ele quer descobrir curiosidades sobre seus cientistas com base no seu salário, apesar de ser uma informaçõa extremamente sensível, ele consegue acesso a alguns dados que podemos utilizar. \n",
    "\n",
    "Analisando os dados, você identifica que não existe identidade nos dados, o que não permite relacionarmos as pessoas ao salário (isso é bom pra gente, por hora), os dados estão em pares ordenados de salário de cada usuário em dólares e experiência em anos.\n",
    "\n",
    "Vejamos:"
   ]
  },
  {
   "cell_type": "code",
   "execution_count": null,
   "metadata": {},
   "outputs": [],
   "source": [
    "salaries_and_tenures = [(83000, 8.7), (88000, 8.1), (48000, 0.7), (76000,6), \n",
    "                       (69000, 6.5), (76000, 7.5), (60000, 2.5), (83000, 10)\n",
    "                       (48000, 1.9), (63000, 4.2)]"
   ]
  },
  {
   "cell_type": "markdown",
   "metadata": {},
   "source": [
    "Vamos traçar os dados, com o gráfico, podemos visualizar melhor quais ações tomar."
   ]
  },
  {
   "cell_type": "code",
   "execution_count": null,
   "metadata": {},
   "outputs": [],
   "source": [
    "import numpy as np\n",
    "import matplotlib.pyplot as plt\n",
    "\n",
    "x,y= zip(*salaries_and_tenures)\n",
    "plt.scatter(x,y)\n",
    "plt.show()"
   ]
  },
  {
   "cell_type": "markdown",
   "metadata": {},
   "source": [
    "Podemos analisar que existe uma tendência entre experiência e salário, onde quem tem mais experiência ganha um melhor salário. Agora, como podemos transformar isso em um fato curioso?\n",
    "\n",
    "Uma solução é analisar novamente, agora vamos analisar a média salárial para cada ano trabalhado, será que existe algum padrão?"
   ]
  },
  {
   "cell_type": "code",
   "execution_count": null,
   "metadata": {},
   "outputs": [],
   "source": [
    "#as chaves são os anos, os valores são as listas dos salários para cada ano\n",
    "salary_by_tenure = defaultdict(list)\n",
    "for salary, tenure in salaries_and_tenures: \n",
    "    salary_by_tenure[tenure].append(salary)\n",
    "\n",
    "#as chaves são os anos, cada valor é a média salarial para aquele ano\n",
    "average_salary_by_tenure= {\n",
    "    tenure: sum(salaries) / len(salaries)\n",
    "    for tenure, salaries in salary_by_tenure.items()\n",
    "}"
   ]
  },
  {
   "cell_type": "markdown",
   "metadata": {},
   "source": [
    "É ... criamos categorias, porém, como cada usuário possui um tempo de casa diferente, essa informação não foi relevante por hora. Porém, podemos utilizar esse dict criado para tentar achar alguma coisa.\n",
    "\n",
    "Se agrupássemos os casos?\n"
   ]
  },
  {
   "cell_type": "code",
   "execution_count": null,
   "metadata": {},
   "outputs": [],
   "source": [
    "def tenure_bucket(tenure):\n",
    "    if tenure < 2:\n",
    "        return \"menor que dois\"\n",
    "    elif tenure < 5: \n",
    "        return \"entre dois e cinco\"\n",
    "    else:\n",
    "        return \"mais que cinco\""
   ]
  },
  {
   "cell_type": "markdown",
   "metadata": {},
   "source": [
    "Agora conseguimos agrupar por um intervalo de salários:"
   ]
  },
  {
   "cell_type": "code",
   "execution_count": null,
   "metadata": {},
   "outputs": [],
   "source": [
    "#as chaves são agrupamentos dos casos, os valores são as listas\n",
    "#dos salários para aquele grupamento\n",
    "\n",
    "salary_by_tenure_bucket = defaultdict(list)\n",
    "\n",
    "for salary, tenure in salaries_and_tenures:\n",
    "    bucket = tenure_bucket(tenure)\n",
    "    salary_by_tenure_bucket[bucket].append(salary)"
   ]
  },
  {
   "cell_type": "markdown",
   "metadata": {},
   "source": [
    "Assim classificamos cada salário e, finalmente, podemos computar a média salarial para cada grupo."
   ]
  },
  {
   "cell_type": "code",
   "execution_count": null,
   "metadata": {},
   "outputs": [],
   "source": [
    "#as chavess são agrupamentos dos casos, os valores são\n",
    "#a média salarial para aquele grupo\n",
    "\n",
    "average_salary_by_bucket = {\n",
    "    tenure_bucket: sum(salaries)/len(salaries)\n",
    "    for tenure_bucket, salaries in salary_by_tenure_bucket.iteritems()\n",
    "}\n",
    "\n",
    "\n",
    "print (average_salary_by_bucket)"
   ]
  },
  {
   "cell_type": "markdown",
   "metadata": {},
   "source": [
    "{'mais que cinco': 79166.66666666667, 'menor que dois': 48000.0, 'entre dois e cinco': 61500.0}\n",
    "\n",
    "Pronto, achamos um dado interessante, um clichê: \"os cientistas com mais de cinco anos de experiência recebem 65% a mais do que os que possuem pouca ou nenhuma experiência!\"\n",
    "\n"
   ]
  }
 ],
 "metadata": {
  "kernelspec": {
   "display_name": "Python 3",
   "language": "python",
   "name": "python3"
  },
  "language_info": {
   "codemirror_mode": {
    "name": "ipython",
    "version": 3
   },
   "file_extension": ".py",
   "mimetype": "text/x-python",
   "name": "python",
   "nbconvert_exporter": "python",
   "pygments_lexer": "ipython3",
   "version": "3.6.6"
  }
 },
 "nbformat": 4,
 "nbformat_minor": 2
}
