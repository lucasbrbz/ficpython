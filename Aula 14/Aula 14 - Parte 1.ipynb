{
 "cells": [
  {
   "cell_type": "markdown",
   "metadata": {},
   "source": [
    "#  Introdução ao Python\n",
    "## Professor: Luiz Ferreira"
   ]
  },
  {
   "cell_type": "markdown",
   "metadata": {},
   "source": [
    "## Módulo 4\n",
    "\n",
    "### Python para Dados"
   ]
  },
  {
   "cell_type": "markdown",
   "metadata": {},
   "source": [
    "_____________"
   ]
  },
  {
   "cell_type": "markdown",
   "metadata": {},
   "source": [
    "## O que é DataScience?"
   ]
  },
  {
   "cell_type": "markdown",
   "metadata": {},
   "source": [
    "Data Science, o emprego mais sexy do Século 21 - http://bit.ly/1Bqe1WY\n",
    "\n",
    "Não é difícil encontrar prognósticos de especialistas que afirmam que, nos próximos dez anos, precisaremos de bilhões de cientistas de dados a mais do que hoje.\n",
    "- [5 surprising jobs you can do as a data scientist](https://www.siliconrepublic.com/jobs/data-scientist-jobs, )\n",
    "- [Oportunidades aumentam para quem estuda ciência de dados](https://www1.folha.uol.com.br/sobretudo/carreiras/2018/06/1971998-oportunidades-aumentam-para-quem-estuda-ciencia-de-dados.shtml)\n",
    "- [Previsão da IBM: Demanda por cientistas de dados aumentará 28% até 2020](http://datascienceacademy.com.br/blog/previsao-da-ibm-demanda-por-cientistas-de-dados-aumentara-28-ate-2020/)\n",
    "- [Ciência de dados é considerada a profissão mais promissora até 2020: como iniciar a carreira?](https://exame.abril.com.br/negocios/dino/ciencia-de-dados-e-considerada-a-profissao-mais-promissora-ate-2020-como-iniciar-a-carreira/)\n",
    "\n",
    "Mas surgem perguntas como: o que realmente é data science?\n",
    "\n",
    "Podemos seguir o diagrama de Venn (bem famoso nessa área) que afirma: \"Data Science é uma interseção de Habilidades de hacker, Conhecimento de estatística e matemática e Competência significativa\"\n",
    "\n",
    "\n",
    "![](https://static1.squarespace.com/static/5150aec6e4b0e340ec52710a/t/51525c33e4b0b3e0d10f77ab/1364352052403/Data_Science_VD.png)\n",
    "\n",
    "\n",
    "Vivemos em um mundo onde somos soterrados por dados a todo momento... \n",
    "\n",
    "- websites e coleta de informações\n",
    "- smartphones\n",
    "- pedômetros\n",
    "- dieta\n",
    "- hábitos de movimentos\n",
    "- padrões de sono\n",
    "- carros inteligentes coletam hábitos de direção\n",
    "- casas intelegentes hábitos de moradia\n",
    "- hábitos de compras\n",
    "- na internet temos bases de dados de filmes, músicas, resultados de esportes e MEMES\n",
    "- estatísticas do governo (algumas podem ser verdade)\n",
    "\n",
    "Dominar todas essas bases seria algo que, com certeza, te levaria à loucura rapidamente. Data Science visa nos ajudar a não enlouquecer (muito).\n",
    "\n",
    "#### Um cientista de dados é alguem que sabe mais sobre estatística que um cientista da computação e mais sobre ciência da computação do que um estatístico! \n",
    "\n",
    "Esse cenário é comum, alguns cientistas de dados são estaísticos, enquanto outros são quase indistiguíveis dos engenheiros de software. Alguns especializados em aprendizado de máquina enquanto o outro só sabe utilizar o Excel. Alguns são PHD's com publicações impressionantes, enquanto outros nunca leram um trabalho acadêmico. Resumindo: não importa como você define um cientista de dados, pois é normal encontrar praticantes que não possuem nenhuma correspondência nas expectativas.\n",
    "\n",
    "Mas podemos tentar definir como, um cientista de dados é alguém que extrai conhecimento de dados desorganizados. O que, no mundo, está cheio.\n",
    "\n",
    "### Você sabia: \n",
    "\n",
    "O Facebook pede que você coloque os dados de cidade natal e atual, supostamente para facilitar o relacionamento entre conhecidos. Porém, esses dados servem, também, para analisar padrões de [migração global](http://on.fb.me/1EQTq3A) ou para saber onde vivem os [fã-clubes dos times de futebol americano](http://on.fb.me/1EQTvnO).\n",
    "\n",
    "A empresa Target (grande entregadora global) rastreia suas encomendas e interações (online ou física), utiliza de modelos preditivos para saber quais clientes estão grávidas a fim de melhorar sua oferta de [artigos relacionados a bebês](http://nyti.ms/1EQTvnO)."
   ]
  },
  {
   "cell_type": "markdown",
   "metadata": {},
   "source": [
    "### Um novo caso: O AmazonGO\n",
    "\n",
    "Inaugurado em 5 de dezembro de 2016, para testes, funcionando exclusivamente para funcionários de Seattle, o mercado foi aberto ao público em janeiro de 2018. \n",
    "\n",
    "A idéia é utilizar tecnologia para construção de um mercado sem caixa, com reposição inteligente de estoque e sem dinheiro físico. Podemos conferir a idéia em uma publicação do [TecMundo](https://tecnoblog.net/204424/amazon-go-supermercado-sem-caixa/). Já temos disponível no Youtube uma série de relatos de pessoas que utilizaram desse mercado (curiosos ou não) para entender quais os desenhos que o mercado propõe para o futuro (nem tão longe assim), como por exemplo esse [vídeo](https://www.youtube.com/watch?v=k6NJhCr0Fjs). ([Nesse link](https://www.youtube.com/watch?v=qDynWg0sh5I) temos uma versão com legendas do vídeo de divulgação da AmazonGo)\n",
    "\n",
    "Aqui temos um [vídeo](https://www.youtube.com/watch?v=d9kj45Of4jw), muito mal produzido, porém com algumas explicações sobre os sensores utilizados nesse novo mercado, já esse [segundo vídeo](https://www.youtube.com/watch?v=0R72EoYccw8) (melhor produzido) também traz algumas explicações. \n",
    "\n",
    "\n",
    "### Carros autônomos \n",
    "\n",
    "Implicâncias a parte, temos certeza de que o meio com que nos locomovemos sofrerá modificações em breve, dentro desse cenário um modelo de veículo que desponta dos demais são os carros autônomos.\n",
    "\n",
    "Como a análise de dados entra nesse contexto? Vamos utilizar desse questionário feito pelo MIT? http://moralmachine.mit.edu/hl/pt\n",
    "\n",
    "Entendendo a tecnologia: https://www.youtube.com/watch?v=LMuOve_ylBw\n",
    "\n",
    "Mas e na prática, como ocorre? https://www.youtube.com/watch?v=cf3tBau03oY\n",
    "\n",
    "No Brasil temos exemplos de tecnologia: Criado pela UFES - https://www.youtube.com/watch?v=t7D0GQJWYPQ\n",
    "\n",
    "Mas porque isso é uma tecnologia tão interessante e que está recebendo tanto investimento?\n",
    "\n",
    "Talvez por isso?\n",
    "![](https://img.estadao.com.br/resources/jpg/9/5/1458611659259.jpg)\n",
    "\n",
    "Ou por isso?\n",
    "![](https://grist.files.wordpress.com/2016/11/new-york-traffic1.jpg?w=1024&h=576&crop=1)\n",
    "\n",
    "\n",
    "Quanto custa um congestionamento? \n",
    "“A secretaria trabalha com um plano integrado de transporte urbano, com uma visão até 2030. E prevê esses avanços: no mínimo, mais 100 km de metrô, mais 100 km de CPTM. Nós já devíamos ter isso implantado na década de 50, de 60. E pagamos muito caro por isso. O congestionamento custa muito caro. Fizemos um estudo em 1998, junto com o Ipea. O custo do congestionamento na cidade de São Paulo é de 6 a 8 bilhões de reais – só na cidade de São Paulo. Então, isso é o que estamos pagando ao longo de décadas. Se você fizer uma conta, teria dado tempo para fazer os projetos que queríamos, construindo exatamente a rede que vamos ter em 10 ou 15 anos.” [Fonte: Câmara dos Deputados, 2015](http://www2.camara.leg.br/camaranoticias/radio/materias/REPORTAGEM-ESPECIAL/487620-DESAFIOS-DA-MOBILIDADE-QUANTO-CUSTA-UM-CONGESTIONAMENTO-BLOCO-2.html)\n",
    "\n",
    "Solução? - Que tal essa?\n",
    "https://www.youtube.com/watch?v=iHzzSao6ypE"
   ]
  }
 ],
 "metadata": {
  "kernelspec": {
   "display_name": "Python 3",
   "language": "python",
   "name": "python3"
  },
  "language_info": {
   "codemirror_mode": {
    "name": "ipython",
    "version": 3
   },
   "file_extension": ".py",
   "mimetype": "text/x-python",
   "name": "python",
   "nbconvert_exporter": "python",
   "pygments_lexer": "ipython3",
   "version": "3.6.6"
  }
 },
 "nbformat": 4,
 "nbformat_minor": 2
}
