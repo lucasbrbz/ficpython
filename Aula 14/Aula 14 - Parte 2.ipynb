{
 "cells": [
  {
   "cell_type": "markdown",
   "metadata": {},
   "source": [
    "#  Introdução ao Python\n",
    "## Professor: Luiz Ferreira"
   ]
  },
  {
   "cell_type": "markdown",
   "metadata": {},
   "source": [
    "## Módulo 4\n",
    "\n",
    "### Python para Dados"
   ]
  },
  {
   "cell_type": "markdown",
   "metadata": {},
   "source": [
    "_____________"
   ]
  },
  {
   "cell_type": "markdown",
   "metadata": {},
   "source": [
    "## O que é DataScience?"
   ]
  },
  {
   "cell_type": "markdown",
   "metadata": {},
   "source": [
    "Imaginemos que fomos contratados por uma empresa, chamada DataSciencester! Chegamos na empresa para nosso primeiro dia de trabalho.\n",
    "\n",
    "No primeiro dia, temos o vice-presidente de Rede da empresa, que está louco pelo seu trabalho, uma vez que sempre teve dúvidas sobre ses funcionários e não tnha ninguém para perguntar.\n",
    "\n",
    "Particularmente, ele quer que a gente encontre as amizades entre os funcionários de nossa empresa, para que possa ver os laços que cada um criou lá dentro. Com isso ele lhe fornece uma parte de toda a rede para a consulta.\n",
    "\n",
    "Os dados se apresentam na forma de `dict` (conforme vimos em muitas outras aulas), que consiste em uma informação chamada id e uma outra chamada name.\n",
    "\n",
    "Vejamos:"
   ]
  },
  {
   "cell_type": "code",
   "execution_count": null,
   "metadata": {},
   "outputs": [],
   "source": [
    "users = [\n",
    "    {\"id\":0,\"name\":\"Hero\"},\n",
    "    {\"id\":1,\"name\":\"Dunn\"},\n",
    "    {\"id\":2,\"name\":\"Sue\"},\n",
    "    {\"id\":3,\"name\":\"Chi\"},\n",
    "    {\"id\":4,\"name\":\"Thor\"},\n",
    "    {\"id\":5,\"name\":\"Clive\"},\n",
    "    {\"id\":6,\"name\":\"Hicks\"},\n",
    "    {\"id\":7,\"name\":\"Devin\"},\n",
    "    {\"id\":8,\"name\":\"Kate\"},\n",
    "    {\"id\":9,\"name\":\"Klein\"}\n",
    "]"
   ]
  },
  {
   "cell_type": "markdown",
   "metadata": {},
   "source": [
    "O que podemos perceber desses dados?\n",
    "\n",
    "Eita, temos mais algumas informações. É uma lista de pares de ID's chamada friendships, vejamos:"
   ]
  },
  {
   "cell_type": "code",
   "execution_count": null,
   "metadata": {},
   "outputs": [],
   "source": [
    "friendships = [(0,1), (0,2), (1,2), (1,3), (2,3), (3,4), (4,5), (5,6), (5,7), (6,8), (7,8), (8,9)]"
   ]
  },
  {
   "cell_type": "markdown",
   "metadata": {},
   "source": [
    "Como podemos entender essas informações?\n",
    "\n",
    "Vamos criar a lista de amigos de cada pessoa? Para isso temos de acrescentar um campo ao nosso `dict`. Portanto:"
   ]
  },
  {
   "cell_type": "code",
   "execution_count": null,
   "metadata": {},
   "outputs": [],
   "source": [
    "for user in users:\n",
    "    user[\"friends\"]=[]"
   ]
  },
  {
   "cell_type": "markdown",
   "metadata": {},
   "source": [
    "Pronto, com isso, podemos agora inserir as informações dentro do novo campo."
   ]
  },
  {
   "cell_type": "code",
   "execution_count": null,
   "metadata": {},
   "outputs": [],
   "source": [
    "for i, j in friendships:\n",
    "    users[i][\"friends\"].append(users[j])\n",
    "    users[j][\"friends\"].append(users[i])"
   ]
  },
  {
   "cell_type": "markdown",
   "metadata": {},
   "source": [
    "Agora que temos uma lista de pessoas e suas amizades, podemos calcular a quantidade média de amigos dentro de nossa empresa? \n",
    "\n",
    "Devemos dividir o número de amizades pelo número de pessoas."
   ]
  },
  {
   "cell_type": "code",
   "execution_count": null,
   "metadata": {},
   "outputs": [],
   "source": [
    "def number_of_friends(user):\n",
    "    \"\"\"Quantos amigos o usuário tem?\"\"\"\n",
    "    return len(user[\"friends\"])\n",
    "\n",
    "total_connections = sum(number_of_friends(user) for user in users)\n",
    "\n",
    "\"\"\"Então dividimos o número de amizades pelo número de usuários\"\"\"\n",
    "\n",
    "num_users = len(users)\n",
    "avg_connections = total_connections / num_users"
   ]
  },
  {
   "cell_type": "markdown",
   "metadata": {},
   "source": [
    "Pronto, a variável `avg_connections` agora poderá nos informar a média de amigos por user.\n",
    "\n",
    "Imaginemos então como ficaria nossa lista de amizades em formato de grafo? Quais insights podemos tirar dessa imagem?"
   ]
  },
  {
   "cell_type": "markdown",
   "metadata": {},
   "source": [
    "______________\n"
   ]
  },
  {
   "cell_type": "markdown",
   "metadata": {},
   "source": [
    "### Não paramos por ai\n",
    "\n",
    "O vice-diretor de Fraternidade assustou com a baixa relação entre a equipe de trabalho, ele acredita que para termos um ambiente propício ao crescimento, devemos trabalhar de forma conjunta, por isso ele quer estimular a amizade dentro de nossa empresa. Inspirado no Facebook e Instagram, ele nos pediu para desenvolver sugestões de \"Cientistas de Dados Que Você Talvez Conheça\".\n",
    "\n",
    "Daí temos outro insight, é mais fácil uma amizade surgir com base nas amizades que já existem, ou seja, amigos de amigos.\n",
    "\n",
    "Pensando nisso, desenvolvemos uma função para recuperar os amigos de amigos de todos os cientistas."
   ]
  },
  {
   "cell_type": "code",
   "execution_count": null,
   "metadata": {},
   "outputs": [],
   "source": [
    "def friends_of_friend_ids_bad(user):\n",
    "    #usaremos foaf como abreviatura\n",
    "    return [foaf[\"id\"]\n",
    "            for friend in user[\"friends\"]   #para cada amigo de usuário\n",
    "            for foaf in friend[\"friends\"]]  #pega cada _their_friends\n",
    "\n",
    "print(friends_of_friend_ids_bad(users[0])) # com isso temos uma lista dos amigos dos amigos de Hero"
   ]
  },
  {
   "cell_type": "markdown",
   "metadata": {},
   "source": [
    "Compilando esse comando, percebemos que alguns amigos repetem na lista, pois algumas pessoas podem ser acessadas através de amizades diferentes e essa informação pode ser útil futuramente. Então talvez devêssemos produzir uma contagem de amigos em comum, e uma função de ajuda para excluir as pessoas que já são conhecidas do usuário:"
   ]
  },
  {
   "cell_type": "code",
   "execution_count": null,
   "metadata": {},
   "outputs": [],
   "source": [
    "#Vamos melhorar nossa função\n",
    "from collections import Counter\n",
    "\n",
    "def not_the_same(user, other_user):\n",
    "    #dois usuários não são os mesmos se possuem ids diferentes\n",
    "    return user[\"id\"] != other_user[\"id\"]\n",
    "\n",
    "def not_friends(user, other_user):\n",
    "    #other_user não é um amigo se não está em user[\"friends\"]\n",
    "    # isso é, se é not_the_same com todas as pessoas em user[\"friends\"]\n",
    "    return all(not_the_same(friend, other_user)\n",
    "               for friend in user[\"friends\"])\n",
    "    \n",
    "def friends_of_friend_ids(user):\n",
    "    return Counter(foaf[\"id\"]\n",
    "                   for friend in user[\"friends\"]    #para cada um dos meus amigos\n",
    "                   for foaf in friend[\"friends\"]    #que contam *their* amigos\n",
    "                   if not_the_same(user,foaf)       #que não seja eu\n",
    "                   and not_friends(user,foaf))      #e que não são meus amigos"
   ]
  },
  {
   "cell_type": "markdown",
   "metadata": {},
   "source": [
    "Se compilarmos, teremos:"
   ]
  },
  {
   "cell_type": "code",
   "execution_count": null,
   "metadata": {},
   "outputs": [],
   "source": [
    "print(friends_of_friend_ids(users[3]))"
   ]
  },
  {
   "cell_type": "markdown",
   "metadata": {},
   "source": [
    "Teremos com resposta: Counter({0:2, 5:1})\n",
    "\n",
    "Isso significa que o Chi (users[3]) tem dois amigos em comum com o Hero (users[0]) e um amigo com o Clive (users[5]).\n",
    "\n",
    "Mas ainda não acabamos com os problemas que o chefe pediu.\n",
    "\n",
    "Como um bom cientista de dados, sabemos que podemos ter amizades fruto de interesses em comum de usuário (esse conhecimento é o aspecto de competência significativa falada anteriormente). Depois de uma entrevista, conseguimos essas informações, uma lista de pares com (user_id, interest):"
   ]
  },
  {
   "cell_type": "code",
   "execution_count": null,
   "metadata": {},
   "outputs": [],
   "source": [
    "interests = [\n",
    "    (0, \"Hadoop\"), (0, \"Big Data\"), (0, \"HBase\"), (0, \"Java\"), (0, \"Spark\"), (0, \"Storm\"), (0, \"Cassandra\"),\n",
    "    (1, \"NoSQL\"), (1, \"MongoDB\"), (1, \"Cassandra\"), (1, \"HBase\"), (1, \"PostGres\"), (2, \"Python\"), (2, \"scikit-learn\"),\n",
    "    (2, \"scipy\"), (2, \"numpy\"), (2, \"statsmodels\"), (2, \"pandas\"), (3, \"R\"), (3, \"Python\"), (3, \"statistics\"), (3, \"regression\"),\n",
    "    (3, \"probability\"), (4, \"machine learning\"), (4, \"regression\"), (4, \"decision trees\"), (4, \"libsvm\"), (5, \"Python\"),\n",
    "    (5, \"R\"), (5, \"Java\"), (5, \"C++\"), (5, \"Haskell\"), (5, \"programing languages\"), (6, \"theory\"), (7, \"machine learning\"), \n",
    "    (7, \"scikit-learn\"), (7, \"Mahout\"), (7, \"neural networks\"), (8, \"neural networks\"), (8, \"deep learning\"), (8, \"Big Data\"), \n",
    "    (8, \"artificial intelligence\"), (9, \"Hadoop\"), (9, \"Java\"), (9, \"MapReduce\"), (9, \"Big Data\")\n",
    "]"
   ]
  },
  {
   "cell_type": "markdown",
   "metadata": {},
   "source": [
    "Por alto podemos ver que Thor (id 4) não possui amigos em comum com Devin (id 7), mas compartilham do mesmo interesse em aprendizado de máquina.\n",
    "\n",
    "Podemos construir uma função que encontre usuários com o mesmo interesse:"
   ]
  },
  {
   "cell_type": "code",
   "execution_count": null,
   "metadata": {},
   "outputs": [],
   "source": [
    "def data_scientists_who_like(target_interest):\n",
    "    return [user_id \n",
    "           for user_id, user_interest in interests\n",
    "           if user_interest == target_interest]"
   ]
  },
  {
   "cell_type": "markdown",
   "metadata": {},
   "source": [
    "Nossa função funciona, porém , temos um limitante, cada vez que executarmos ele terá de percorrer toda a lista, isso pode levar um tempo caso nossa base seja grande. Podemos melhorar isso. \n",
    "\n",
    "Vamos construir duas listas, uma como um índice de interesses para usuários e uma de usuários para interesses."
   ]
  },
  {
   "cell_type": "code",
   "execution_count": null,
   "metadata": {},
   "outputs": [],
   "source": [
    "from collections import defaultdict\n",
    "\n",
    "user_ids_by_interests = defaultdict(list)\n",
    "for user_id , interest in interests:\n",
    "    user_ids_by_interests[interest].append(user_id)\n",
    "    \n",
    "interests_by_user_id = defaultdict(list)\n",
    "for user_id, interest in interests:\n",
    "    interests_by_user_id[user_id].append(interest)"
   ]
  },
  {
   "cell_type": "markdown",
   "metadata": {},
   "source": [
    "Pronto, agora sim, ficou mais fácil descobrir quem possui os maiores interesses em comum com um certo usuário:\n",
    "\n",
    "    - Itera sobre os interesses do usuário\n",
    "    - Para cada interesse, itera sobre os outros usuários com aquele interesse\n",
    "    - Mantém a contagem de quantas vezes cemos cada outro usuário"
   ]
  },
  {
   "cell_type": "code",
   "execution_count": null,
   "metadata": {},
   "outputs": [],
   "source": [
    "def most_common_interests_with(user):\n",
    "    return Counter(interested_user_id\n",
    "                  for interest in interests_by_user_id[user[\"id\"]]\n",
    "                  for interested_user_id in user_ids_by_interests[interest]\n",
    "                  if interested_user_id != user[\"id\"])"
   ]
  },
  {
   "cell_type": "markdown",
   "metadata": {},
   "source": [
    "Com o print dessa função para o usuário 3, teremos: \n",
    "\n",
    "Counter({0: 2, 5: 1})\n",
    "Counter({5: 2, 2: 1, 4: 1})\n",
    "\n",
    "Que significa quantos interesses em comum o usuário possui.\n",
    "\n",
    "Poderíamos usar esse exemplo para construir um recurso mais rico de \"Cientistas de Dados Que Você Deveria Conhecer\" baseado em uma combinação de amigos e interesses em comum."
   ]
  }
 ],
 "metadata": {
  "kernelspec": {
   "display_name": "Python 3",
   "language": "python",
   "name": "python3"
  },
  "language_info": {
   "codemirror_mode": {
    "name": "ipython",
    "version": 3
   },
   "file_extension": ".py",
   "mimetype": "text/x-python",
   "name": "python",
   "nbconvert_exporter": "python",
   "pygments_lexer": "ipython3",
   "version": "3.6.6"
  }
 },
 "nbformat": 4,
 "nbformat_minor": 2
}
