{
 "cells": [
  {
   "cell_type": "markdown",
   "metadata": {},
   "source": [
    "#  Introdução ao Python\n",
    "## Professor: Luiz Ferreira"
   ]
  },
  {
   "cell_type": "markdown",
   "metadata": {},
   "source": [
    "## Módulo 2\n",
    "\n",
    "### Python para Web"
   ]
  },
  {
   "cell_type": "markdown",
   "metadata": {},
   "source": [
    "_____________"
   ]
  },
  {
   "cell_type": "markdown",
   "metadata": {},
   "source": [
    "## Como utilizar um arquivo CSS (MaterializeCSS)"
   ]
  },
  {
   "cell_type": "markdown",
   "metadata": {},
   "source": [
    "#### A utilização segue conceitos de linguagens WEB, nesse caso HTML5, portanto, nesta aula veremos mais conceitos de outras linguagens dentro do Python, extrapolando um pouco do que o curso pode nos oferecer!\n"
   ]
  },
  {
   "cell_type": "markdown",
   "metadata": {},
   "source": [
    "Para utilizarmos nossos arquivos .css devemos entrar em nosso `template` é lá que teremos o HTML que será modificado! Vamos ver como está?"
   ]
  },
  {
   "cell_type": "code",
   "execution_count": null,
   "metadata": {},
   "outputs": [],
   "source": [
    "# principal/templates/principal.html\n",
    "{% extends 'base.html' %}\n",
    "\n",
    "{% load static %}"
   ]
  },
  {
   "cell_type": "markdown",
   "metadata": {},
   "source": [
    "#### Atenção: \n",
    "Vimos na última aula que podemos usar templates (para uniformizar nosso sistema) e que podemos estender os mesmos para uma nova página! \n",
    "\n",
    "Portanto, no momento, iremos trabalhar dentro de `templates/base.html`."
   ]
  },
  {
   "cell_type": "code",
   "execution_count": null,
   "metadata": {},
   "outputs": [],
   "source": [
    "# templates/base.html\n",
    "\n",
    "<!DOCTYPE html>\n",
    "<html lang=\"en\">\n",
    "<head>\n",
    "    <meta charset=\"UTF-8\">\n",
    "    <title>Meu sistema</title>\n",
    "</head>\n",
    "<body>\n",
    "    <p>Welcome to the Django!</p>\n",
    "</body>\n",
    "</html>"
   ]
  },
  {
   "cell_type": "markdown",
   "metadata": {},
   "source": [
    "Nosso arquivo necessita de receber a variável `static` para que possa acessar a pasta correta. "
   ]
  },
  {
   "cell_type": "code",
   "execution_count": null,
   "metadata": {},
   "outputs": [],
   "source": [
    "{% load static %}"
   ]
  },
  {
   "cell_type": "markdown",
   "metadata": {},
   "source": [
    "Depois dentro do cabeçalho da nossa página devemos informar o local do arquivo e seu nome dentro de uma tag HTML simples."
   ]
  },
  {
   "cell_type": "code",
   "execution_count": null,
   "metadata": {},
   "outputs": [],
   "source": [
    "<link href=\"{% static 'css/materialize.min.css' %}\" type=\"text/css\" rel=\"stylesheet\"/>"
   ]
  },
  {
   "cell_type": "markdown",
   "metadata": {},
   "source": [
    "Vamos entender a linha acima:\n",
    "\n",
    "- < link /> = Define um acesso entre um documento e um arquivo externo.\n",
    "- href = Especifica o local do arquivo externo.\n",
    "- type = Especifica o tipo de mídia que está sendo vinculada ao documento local.\n",
    "- rel = Obrigatório. Especifica o relacionamento entre o documento atual e o documento externo.\n",
    "\n",
    "Observemos com detalhe o parametro `href`, nele inserimos o caminho do arquivo que estamos vinculando, porém, como estamos trabalhando com Python, podemos deixar um pouco mais dinâmico do que um endereço fixo (por exemplo, \"C:/Usuarios/Usuário/Documentos/Sites/sistema/static/bootstrap.min.css\"), para isso, utilizamos as tags do Django `{% %}` e dentro dela especificamos a pasta em que deve ocorrer a busca, no caso static, e depois o nome do arquivo.\n",
    "\n",
    "Teremos a seguinte combinação:"
   ]
  },
  {
   "cell_type": "code",
   "execution_count": null,
   "metadata": {},
   "outputs": [],
   "source": [
    "# templates/base.html\n",
    "{% load static %}\n",
    "\n",
    "<!DOCTYPE html>\n",
    "<html lang=\"en\">\n",
    "<head>\n",
    "    <meta charset=\"UTF-8\">\n",
    "    <title>Meu sistema</title>\n",
    "    <link href=\"{% static 'css/materialize.min.css' %}\" type=\"text/css\" rel=\"stylesheet\" />\n",
    "</head>\n",
    "<body>\n",
    "    <p>Welcome to the Django!</p>\n",
    "</body>\n",
    "</html>"
   ]
  },
  {
   "cell_type": "markdown",
   "metadata": {},
   "source": [
    "Nesse momento já podemos ver uma alteração da fonte utilizada, efeito do Materialize.css!"
   ]
  },
  {
   "cell_type": "markdown",
   "metadata": {},
   "source": [
    "### Melhorando nossos arquivos"
   ]
  },
  {
   "cell_type": "markdown",
   "metadata": {},
   "source": [
    "Seguindo o conceito explicado sobre o arquivo `base.html`, devemos pensar em quais elementos serão fixos em nosso projeto.\n",
    "Uma forma de se obter essa informação é analisando outros websites, para basear ou inspirar tais recursos.\n",
    "\n",
    "No nosso projeto, teremos um cabeçalho, um rodapé e um menu de opções que serão fixos, ou seja, não terão seu valor alterado, independetemente de qual página navegarmos.\n",
    "\n",
    "Trabalharemos, portanto, com a tag `< body >`."
   ]
  },
  {
   "cell_type": "markdown",
   "metadata": {},
   "source": [
    "Para adicionarmos tais elementos em nossas páginas, devemos trabalhar com as tags `< div >` e `< / div >`. \n",
    "\n",
    "#### A tag < div >\n",
    "\n",
    "A tag div não tem uma função clara definida, porém, ela é responsável por executar uma divisão dentro de um arquivo HTML, permitindo que tenhamos blocos com especifidades, seja de estilos (CSS) ou até mesmo com uma execução de JavaScript sem afetar as demais < div >'s. \n",
    "\n",
    "Apesar de ser invisível para os olhos do usuário, esta é uma das tags mais utilizadas no desenvolvimento de um site ou sistema web."
   ]
  },
  {
   "cell_type": "markdown",
   "metadata": {},
   "source": [
    "##### Cada elemento de nossa página estará em uma div. Uma div pode conter diversas outras div's."
   ]
  },
  {
   "cell_type": "markdown",
   "metadata": {},
   "source": [
    "Criaremos então uma div dentro de outra tag, chamada `< nav >` que conterá as informações de um cabeçalho navegável."
   ]
  },
  {
   "cell_type": "code",
   "execution_count": null,
   "metadata": {},
   "outputs": [],
   "source": [
    "<nav>\n",
    "    <div class=\"nav-wrapper\">\n",
    "        <a href=\"#\" class=\"brand-logo\">Meu sistema</a>\n",
    "        <ul id=\"nav-mobile\" class=\"right hide-on-med-and-down\">\n",
    "            <li><a href=\"#\">Contato</a></li>\n",
    "            <li><a href=\"#\">IFSULDEMINAS</a></li>\n",
    "        </ul>\n",
    "    </div>\n",
    "</nav>"
   ]
  },
  {
   "cell_type": "markdown",
   "metadata": {},
   "source": [
    "Atualizando nossa página, poderemos ver a adição de uma barra de título!\n",
    "\n",
    "Passamos então para o rodapé, trabalharemos com a tag `< footer >`."
   ]
  },
  {
   "cell_type": "code",
   "execution_count": null,
   "metadata": {},
   "outputs": [],
   "source": [
    "<footer class=\"page-footer\">\n",
    "    <div class=\"container\">\n",
    "        <div class=\"row\">\n",
    "            <div class=\"col l6 s12\">\n",
    "                <h5 class=\"white-text\">Footer Content</h5>\n",
    "                <p class=\"grey-text text-lighten-4\">You can use rows and columns here to organize your footer content.</p>\n",
    "            </div>\n",
    "        </div>\n",
    "    </div>\n",
    "    <div class=\"footer-copyright\">\n",
    "        <div class=\"container\">\n",
    "            © 2018 Copyright Curso FIC - Introdução ao Python\n",
    "        </div>\n",
    "    </div>\n",
    "</footer>"
   ]
  },
  {
   "cell_type": "markdown",
   "metadata": {},
   "source": [
    "Vamos dar uma olhada em como ficou nossa página? Para isso podemos conferir o arquivo `base.html` completo:"
   ]
  },
  {
   "cell_type": "code",
   "execution_count": null,
   "metadata": {},
   "outputs": [],
   "source": [
    "# templates/base.html\n",
    "{% load static %}\n",
    "\n",
    "<!DOCTYPE html>\n",
    "<html lang=\"en\">\n",
    "<head>\n",
    "    <meta charset=\"UTF-8\">\n",
    "    <title>Meu sistema</title>\n",
    "    <link href=\"{% static 'css/materialize.min.css' %}\" type=\"text/css\" rel=\"stylesheet\" />\n",
    "</head>\n",
    "<body>\n",
    "    <nav>\n",
    "        <div class=\"nav-wrapper\">\n",
    "            <a href=\"#\" class=\"brand-logo\">Meu sistema</a>\n",
    "            <ul id=\"nav-mobile\" class=\"right hide-on-med-and-down\">\n",
    "                <li><a href=\"#\">Contato</a></li>\n",
    "                <li><a href=\"#\">IFSULDEMINAS</a></li>\n",
    "            </ul>\n",
    "        </div>\n",
    "    </nav>\n",
    "    <p>Welcome to the Django!</p>\n",
    "\n",
    "    <footer class=\"page-footer\">\n",
    "        <div class=\"container\">\n",
    "            <div class=\"row\">\n",
    "                <div class=\"col l6 s12\">\n",
    "                    <h5 class=\"white-text\">Footer Content</h5>\n",
    "                    <p class=\"grey-text text-lighten-4\">You can use rows and columns here to organize your footer content.</p>\n",
    "                </div>\n",
    "            </div>\n",
    "        </div>\n",
    "        <div class=\"footer-copyright\">\n",
    "            <div class=\"container\">\n",
    "                © 2018 Copyright Curso FIC - Introdução ao Python\n",
    "            </div>\n",
    "        </div>\n",
    "    </footer>\n",
    "</body>\n",
    "</html>"
   ]
  },
  {
   "cell_type": "markdown",
   "metadata": {},
   "source": [
    "Podemos melhoras algumas características, como por exemplo, o rodapé fixo na parte de baixo do navegador. Para isso necessitamos de um novo arquivo `.css`.\n",
    "\n",
    "Esse arquivo deve ser criado dentro de `/static/principal.css` com o seguinte conteúdo:"
   ]
  },
  {
   "cell_type": "code",
   "execution_count": null,
   "metadata": {},
   "outputs": [],
   "source": [
    "  body {\n",
    "    display: flex;\n",
    "    min-height: 100vh;\n",
    "    flex-direction: column;\n",
    "  }\n",
    "\n",
    "  main {\n",
    "    flex: 1 0 auto;\n",
    "  }"
   ]
  },
  {
   "cell_type": "markdown",
   "metadata": {},
   "source": [
    "Depois de criado, vamos chamá-lo dentro do `base.html`:"
   ]
  },
  {
   "cell_type": "code",
   "execution_count": null,
   "metadata": {},
   "outputs": [],
   "source": [
    "<link href=\"{% static 'css/principal.css' %}\" type=\"text/css\" rel=\"stylesheet\" />"
   ]
  },
  {
   "cell_type": "markdown",
   "metadata": {},
   "source": [
    "Com isso temos nosso `footer` corrigido."
   ]
  }
 ],
 "metadata": {
  "kernelspec": {
   "display_name": "Python 3",
   "language": "python",
   "name": "python3"
  },
  "language_info": {
   "codemirror_mode": {
    "name": "ipython",
    "version": 3
   },
   "file_extension": ".py",
   "mimetype": "text/x-python",
   "name": "python",
   "nbconvert_exporter": "python",
   "pygments_lexer": "ipython3",
   "version": "3.6.6"
  }
 },
 "nbformat": 4,
 "nbformat_minor": 2
}
