{
 "cells": [
  {
   "cell_type": "markdown",
   "metadata": {},
   "source": [
    "#  Introdução ao Python\n",
    "## Professor: Luiz Ferreira"
   ]
  },
  {
   "cell_type": "markdown",
   "metadata": {},
   "source": [
    "## Módulo 2\n",
    "\n",
    "### Python para Web"
   ]
  },
  {
   "cell_type": "markdown",
   "metadata": {},
   "source": [
    "_____________"
   ]
  },
  {
   "cell_type": "markdown",
   "metadata": {},
   "source": [
    "## Vamos praticar?"
   ]
  },
  {
   "cell_type": "markdown",
   "metadata": {},
   "source": [
    "Vamos criar um novo projeto do zero?\n",
    "\n",
    "#### Observação: Qual a diferença entre projeto (mysite) e aplicação (polls)? Esse conceito devemos sempre lembrar com carinho!\n",
    "\n",
    "- Criar um novo projeto (sistema)\n",
    "- Configurar o banco de dados, timezone(America/Sao_Paulo) e language (pt-br)\n",
    "- Criar uma nova aplicação (principal)\n",
    "- Instalar nossa aplicação no projeto (dentro de settings.py)"
   ]
  },
  {
   "cell_type": "markdown",
   "metadata": {},
   "source": [
    "### Como trabalhar o layout de nosso site?"
   ]
  },
  {
   "cell_type": "markdown",
   "metadata": {},
   "source": [
    "CSS é uma linguagem de folha de estilos, que tem o papel de tornar uma página apresentável na web, relacionada diretamente com o design e aparência. Ou seja, o CSS é uma camada que se usa para controlar o estilo da sua página da web.\n",
    "\n",
    "Para entender o que é CSS pense  na decoração da sua página. Utilizando o CSS é possível alterar a cor do texto e do fundo, fonte, espaçamento entre parágrafos, criar tabelas, usar variações de layouts, ajustar imagens para suas respectivas telas e assim por diante. Podemos dizer que toda a parte visual da sua página será definida com o CSS.\n",
    "\n",
    "O CSS ilustra como os elementos em HTML de um site devem ser apresentados nas telas. De uma forma direta, é o CSS que determina o visual do seu site. Desde o tamanho da fonte até a imagem de fundo, tudo pode ser alterado com o CSS.\n",
    "\n",
    "Por que cascata? O termo dá-se por causa do método de utilização. É possível usar vários documentos CSS a fim de de se compor o visual da página, cada um com uma regra diferente."
   ]
  },
  {
   "cell_type": "markdown",
   "metadata": {},
   "source": [
    "### HTML + CSS"
   ]
  },
  {
   "cell_type": "markdown",
   "metadata": {},
   "source": [
    "Para resumir, vamos fazer uma analogia para você entender porque vamos falar de HTML em um artigo sobre o que é CSS. Imagine a construção de uma casa.\n",
    "\n",
    "Na sua casa, o HTML é responsável pela estrutura. Definir quantos cômodos, quantidade de quartos e garagem. Isso acontece com cabeçalho, títulos e parágrafos do seu texto. Para isso servem as linguagens de marcação e você pode saber mais sobre HTML neste artigo.\n",
    "\n",
    "Depois de pronta, você certamente quer decorar sua casa. Nessa hora você precisará do CSS. É o CSS quem vai determinar quais as cores das paredes, qual estilo da decoração, dos tapetes e das cortinas. Daí, entende-se a decoração da sua página: cor da fonte, quantidade de linhas e colunas, estilo da fonte, layout, efeitos de sombra em botões, animações de elementos e até mesmo profundidade. Para isso serve a linguagem de estilo de camada.\n",
    "\n",
    "E por último, mas que ainda não vamos aprofundar neste texto, entra a parte automatizada da sua casa. Instalações de facilitadores como aquecedor, ar-condicionado, sistema de música automático ou campainha, que é  para isso que serve a linguagem de programação, como JavaScript, Json, Ruby on Rails, por exemplo.\n",
    "\n"
   ]
  },
  {
   "cell_type": "markdown",
   "metadata": {},
   "source": [
    "http://www.networkedinsights.com/ -> Exemplo de uso de CSS\n",
    "\n",
    "http://nerval.ch/ -> Exemplo de uso de CSS\n",
    "\n",
    "https://www.awwwards.com/50-awesome-websites-with-extraordinary-geometry-elements.html -> 50 Sites para se inspirar"
   ]
  },
  {
   "cell_type": "markdown",
   "metadata": {},
   "source": [
    "### Frameworks para Django"
   ]
  },
  {
   "cell_type": "markdown",
   "metadata": {},
   "source": [
    "Basicamente, é um template com diversas funções que podem ser usadas pelo desenvolvedor. Com ele, é desnecessário gastar tempo para reproduzir a mesma função em diferentes projetos.\n",
    "\n",
    "Uma boa comparação é a da caixa de ferramentas. Só que, em vez de chaves de fenda e martelos, há bases para formulários de login, validação de campos e conexão com bancos de dados.\n",
    "\n",
    "Nesse sentido, como parte da tendência de buscar reduzir custos e aumentar a produtividade, o uso desse recurso tem se tornado cada vez mais popular. Hoje, já existe uma grande variedade de soluções disponíveis para as mais diversas linguagens, com comunidades que testam e a criam diferentes funções."
   ]
  },
  {
   "cell_type": "markdown",
   "metadata": {},
   "source": [
    "### Um exemplo de Framework: Materializecss"
   ]
  },
  {
   "cell_type": "markdown",
   "metadata": {},
   "source": [
    "MaterializeCss é um framework voltado para o desenvolvimento de páginas Web de maneira leve e moderna. Lembrando que, por se tratar de um framework css, não é escrito para Python e sim para desenvolvimento, uma das vantagens que a linguagem Python oferece é a flexibilidade de trabalhar com inúmeras outras linguagens."
   ]
  },
  {
   "cell_type": "markdown",
   "metadata": {},
   "source": [
    "### Material Design\n",
    "\n",
    "Criado e projetado pelo Google, o Material Design é uma linguagem de design que combina os princípios clássicos do design bem-sucedido com a inovação e a tecnologia. O objetivo do Google é desenvolver um sistema de design que permita uma experiência de usuário unificada em todos os seus produtos em qualquer plataforma.\n",
    "\n",
    "https://www.youtube.com/watch?v=Q8TXgCzxEnw"
   ]
  },
  {
   "cell_type": "markdown",
   "metadata": {},
   "source": [
    "### MaterializeCSS\n",
    "\n",
    "Para trabalharmos com o MaterializeCSS, devemos fazer o download da configuração mínima: \n",
    "- https://materializecss.com/getting-started.html"
   ]
  },
  {
   "cell_type": "markdown",
   "metadata": {},
   "source": [
    "## Importando o Materialize para nosso sistema"
   ]
  },
  {
   "cell_type": "markdown",
   "metadata": {},
   "source": [
    "Podemos trazer o MaterializeCSS para nossa página de duas formas: \n",
    "\n",
    "- Através do CDN \n",
    "\n",
    "A sigla CDN significa Content Delivery Network. Em tradução literal seria algo como “rede de entrega de conteúdo” ou “rede de distribuição de conteúdo”. Pela tradução já é possível imaginar o que uma CDN faz: distribui o conteúdo de um site por diversos servidores espalhados ao redor do mundo.\n",
    "\n",
    "Você pode estar se perguntando: – ok, mas qual é o propósito disso? O objetivo principal de uma CDN é entregar conteúdo a partir do servidor mais próximo do usuário final. Assim, o tempo de resposta da requisição pode ser bem menor do que seria em condições normais, quando a resposta vem unicamente do servidor de hospedagem, independente da localização do usuário.\n",
    "\n",
    "- Através da importação simples do código mínimo\n",
    "\n",
    "#### Qual a vantagem?"
   ]
  },
  {
   "cell_type": "markdown",
   "metadata": {},
   "source": [
    "### Onde importar?"
   ]
  },
  {
   "cell_type": "markdown",
   "metadata": {},
   "source": [
    "Criaremos uma nova pasta chamada `static`, nela estarão todos os nossos arquivos estáticos, os que não devem ser mudados.\n",
    "\n",
    "Essa pasta contempla todas as imagens, css, js, favicon, arquivos, entre outros... \n",
    "\n",
    "Falando em CSS e JS, vamos criar duas novas pastas, uma chamada `css`, para nossas folhas de estilo, e outra chamada `js`, para os arquivos javascript.\n",
    "\n",
    "Ainda sobre a pasta `static`, devemos checar se nossas configurações reconhecem o local onde ela se encontra. Dentro do arquivo `settings.py` em sistema, devemos procurar uma variável chamada `STATIC_URL` e nela verificar o endereço contido. O valor padrão costuma ser `'/static/'`, que fará procurar a pasta `static` dentro da raiz do projeto.\n",
    "\n",
    "Agora que temos nossa estrutura configurada, procuraremos o arquivo `materialize-min.css` e `materialize-min.js`, esses arquivos devem estar nas suas pastas correspondentes, `css` e `js`.\n",
    "\n",
    "Pronto! Temos o nosso site com a infraestrutura mínima acompanhado do framework MaterializeCSS. "
   ]
  },
  {
   "cell_type": "markdown",
   "metadata": {},
   "source": [
    "### Trabalhando nossa aplicação \"principal\""
   ]
  },
  {
   "cell_type": "markdown",
   "metadata": {},
   "source": [
    "Para evoluirmos nosso connhecimento adquirido na aula passada, vamos trabalhar com arquivos de templates e template base. Para isso, devemos criar uma nova pasta na raiz do projeto, com o nome `templates`.\n",
    "\n",
    "Dentro dessa pasta, criaremos um novo arquivo HTML, chamado de `base.html`"
   ]
  },
  {
   "cell_type": "code",
   "execution_count": null,
   "metadata": {},
   "outputs": [],
   "source": [
    "{% load static %}\n",
    "<html>\n",
    "    <head>\n",
    "        <title>Meu sistema</title>\n",
    "    </head>\n",
    "    <body>\n",
    "        <p>Welcome to the Django!</p>\n",
    "    </body>\n",
    "</html>"
   ]
  },
  {
   "cell_type": "markdown",
   "metadata": {},
   "source": [
    "Depois de criado, devemos inserir no arquivo `settings.py`, o caminho de onde se encontra os templates de nosso projeto!"
   ]
  },
  {
   "cell_type": "code",
   "execution_count": null,
   "metadata": {},
   "outputs": [],
   "source": [
    "TEMPLATES = [\n",
    "    {\n",
    "        'BACKEND': 'django.template.backends.django.DjangoTemplates',\n",
    "        'DIRS': [os.path.join(BASE_DIR, 'templates')],\n",
    "        'APP_DIRS': True,\n",
    "        'OPTIONS': {\n",
    "            'context_processors': [\n",
    "                'django.template.context_processors.debug',\n",
    "                'django.template.context_processors.request',\n",
    "                'django.contrib.auth.context_processors.auth',\n",
    "                'django.contrib.messages.context_processors.messages',\n",
    "            ],\n",
    "        },\n",
    "    },\n",
    "]"
   ]
  },
  {
   "cell_type": "markdown",
   "metadata": {},
   "source": [
    "Observe a linha `'DIRS'`, onde devemos inserir o valor `os.path.join(BASE_DIR, 'templates')`"
   ]
  },
  {
   "cell_type": "markdown",
   "metadata": {},
   "source": [
    "Com isso teremos nosso código base, o que repete dentro de todo nosso sistema. A partir de agora, sempre iremos importar ele em nossos arquivos.\n",
    "\n",
    "Como ainda não temos nossa view, não é possível ver a aplicação, por isso, vamos criar uma nova view."
   ]
  },
  {
   "cell_type": "code",
   "execution_count": null,
   "metadata": {},
   "outputs": [],
   "source": [
    "# principal/views.py\n",
    "from django.shortcuts import render\n",
    "\n",
    "\n",
    "# Create your views here.\n",
    "def principal(request):\n",
    "    return render(request, 'principal.html')"
   ]
  },
  {
   "cell_type": "markdown",
   "metadata": {},
   "source": [
    "Com nossa view criada e apontada para `principal.html`, devemos criar nosso arquivo.\n",
    "\n",
    "Como é um template local à aplicação, devemos criar uma nova pasta `templates`, porém, dentro da pasta `/principal/`.\n",
    "\n",
    "Agora sim! Dentro da pasta `/principal/templates`, criaremos o arquivo `principal.html`. Apagaremos o que ele sugerir por padrão e substituiremos o código por:"
   ]
  },
  {
   "cell_type": "code",
   "execution_count": null,
   "metadata": {},
   "outputs": [],
   "source": [
    "{% extends 'base.html' %}\n",
    "\n",
    "{% load static %}"
   ]
  },
  {
   "cell_type": "markdown",
   "metadata": {},
   "source": [
    "Por fim, como criamos toda a estrutura, vamos criar o redirecionamento de página! Ele é extremamente necessário para conhecermos as páginas de nosso projeto, bem como, como acessá-los!\n",
    "\n",
    "Para isso vamos editar o arquivo `sistema/urls.py`."
   ]
  },
  {
   "cell_type": "code",
   "execution_count": null,
   "metadata": {},
   "outputs": [],
   "source": [
    "from django.urls import path\n",
    "from principal import views as principal_views\n",
    "\n",
    "\n",
    "urlpatterns = [\n",
    "    path('', principal_views.principal, name='principal'),\n",
    "]"
   ]
  },
  {
   "cell_type": "markdown",
   "metadata": {},
   "source": [
    "Com isso poderemos por o projeto para visualização! Para isso, iniciaremos o servidor:"
   ]
  },
  {
   "cell_type": "code",
   "execution_count": null,
   "metadata": {},
   "outputs": [],
   "source": [
    "python manage.py runserver"
   ]
  },
  {
   "cell_type": "markdown",
   "metadata": {},
   "source": [
    "Mas não tem nada de bonito, aliás, está muito simples.\n",
    "\n",
    "A partir de agora entremos na programação estética de nosso sistema!"
   ]
  }
 ],
 "metadata": {
  "kernelspec": {
   "display_name": "Python 3",
   "language": "python",
   "name": "python3"
  },
  "language_info": {
   "codemirror_mode": {
    "name": "ipython",
    "version": 3
   },
   "file_extension": ".py",
   "mimetype": "text/x-python",
   "name": "python",
   "nbconvert_exporter": "python",
   "pygments_lexer": "ipython3",
   "version": "3.6.6"
  }
 },
 "nbformat": 4,
 "nbformat_minor": 2
}
