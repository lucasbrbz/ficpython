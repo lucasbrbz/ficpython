{
 "cells": [
  {
   "cell_type": "markdown",
   "metadata": {},
   "source": [
    "#  Introdução ao Python\n",
    "## Professor: Luiz Ferreira"
   ]
  },
  {
   "cell_type": "markdown",
   "metadata": {},
   "source": [
    "## Módulo 1\n",
    "\n",
    "### Introdução ao Python"
   ]
  },
  {
   "cell_type": "markdown",
   "metadata": {},
   "source": [
    "_____________"
   ]
  },
  {
   "cell_type": "markdown",
   "metadata": {},
   "source": [
    "## Trabalhando com arquivos em Python"
   ]
  },
  {
   "cell_type": "markdown",
   "metadata": {},
   "source": [
    "A manipulação de arquivos em um sistema é de importância única, uma vez que, a persistência da informação não depende exclusivamente de bancos de dados. Ou podemos utilizar dessa ferramenta para a exibição de saída de um dado, como a geração de PDF, arquivos XML, entre outros.\n",
    "\n",
    "`Imaginemos que trabalhar com arquivos, em computação, se assemelha com manipulação de livros, onde para utilizá-lo você terá de abrí-lo. Depois de aberto, você pode realizar tarefas como ler ou escrever dentro de seu escopo. Quando terminado o uso você deverá fechá-lo. Com o número de páginas e o índice, você sabe onde está situado dentro do livro e, na maioria das vezes, o livro é lido de forma sequencial, porém, nada impede de pular alguns capítulos.`\n",
    "\n",
    "A forma de manipulação de arquivos em Python é semelhante a utilizada na linguagem C.\n",
    "\n",
    "A função open() é responsável por fornecer uma lista com todos os elementos do arquivo. Para abrir um arquivo, você especifica o nome dele (com seu caminho) e indica o que você quer fazer, seja ler ou escrever (gravar)."
   ]
  },
  {
   "cell_type": "raw",
   "metadata": {},
   "source": [
    "arquivo = open(\"caminho/para/arquivo.extensão\", 'w') -> Fórmula de manipulação de arquivo com possibilidade de escrita"
   ]
  },
  {
   "cell_type": "markdown",
   "metadata": {},
   "source": [
    "Nos dois casos, a variável `arquivo` cria um objeto arquivo. Quando aberto no modo escrita, se não existir nenhum arquivo de nome igual, ele será criado. Se já existir um, ele será substituído pelo arquivo que estamos gravando (ou escrevendo)."
   ]
  },
  {
   "cell_type": "markdown",
   "metadata": {},
   "source": [
    "Quando executamos um comando `print` sobre o objeto arquivo, visualizamos o nome do arquivo, o modo e a localização do objeto na memória.\n",
    "\n",
    "Já para escrever em um arquivo utilizamos o método `.write()`"
   ]
  },
  {
   "cell_type": "raw",
   "metadata": {},
   "source": [
    "arquivo.write(\"Nova linha de texto\")"
   ]
  },
  {
   "cell_type": "markdown",
   "metadata": {},
   "source": [
    "Para fechar o nosso \"livro\", temos o método `.close()`"
   ]
  },
  {
   "cell_type": "raw",
   "metadata": {},
   "source": [
    "arquivo.close()"
   ]
  },
  {
   "cell_type": "markdown",
   "metadata": {},
   "source": [
    "Depois de gravado, podemos proceder à leitura do nosso arquivo. Para isso utilizamos o método de escrita `'r'`, isso permite abrirmos nosso livro para leitura. \n",
    "\n",
    "##### Observação :\n",
    "\n",
    "Se tentarmos abrir um arquivo inexistente, nos será apresentado um erro.\n"
   ]
  },
  {
   "cell_type": "raw",
   "metadata": {},
   "source": [
    "arquivo = open(\"caminho/para/arquivo.extensão\", 'r') -> Fórmula de manipulação de arquivo com possibilidade de leitura"
   ]
  },
  {
   "cell_type": "markdown",
   "metadata": {},
   "source": [
    "Utilizando a lógica, a função `.read` permite a leitura do nosso arquivo, que quando não especificado um parâmetro, realiza a leitura do arquivo todo."
   ]
  },
  {
   "cell_type": "raw",
   "metadata": {},
   "source": [
    "texto = arquivo.read()"
   ]
  },
  {
   "cell_type": "markdown",
   "metadata": {},
   "source": [
    "O método `.read()` permite argumentos que indica quantos caracteres \"ler\"."
   ]
  },
  {
   "cell_type": "raw",
   "metadata": {},
   "source": [
    "texto = arquivo.read(10) # -> realiza a leitura dos 10 primeiros caracteres"
   ]
  },
  {
   "cell_type": "markdown",
   "metadata": {},
   "source": [
    "Lembre-se, sempre sabemos onde estamos, portanto, caso seja executado novamente, o método `.read()`, retornará os próximos 10 caracteres. Quando o número de caracteres for menor que o solicitado, o arquivo retornará uma string vazia."
   ]
  },
  {
   "cell_type": "raw",
   "metadata": {},
   "source": [
    "def funcaoMisteriosa(arquivo1, arquivo2): # -> Descobrir o que cada linha faz, inclusive essa!\n",
    "  file1 = open(arquivo1, \"r\")\n",
    "  file2 = open(arquivo2, \"w\")\n",
    "  while 1:\n",
    "      texto = file1.read(50)\n",
    "      if texto == \"\":\n",
    "          break\n",
    "      file2.write(texto)\n",
    "  file1.close()\n",
    "  file2.close()\n",
    "  return"
   ]
  },
  {
   "cell_type": "markdown",
   "metadata": {},
   "source": [
    "Por fim, para encerramos nossa atividades, fechamos o arquivo, para isso utilizamos o método `.close()`! Lembre-se, tão importante quanto abrir o livro, fechar o manterá seguro e com o conteúdo protegido."
   ]
  },
  {
   "cell_type": "markdown",
   "metadata": {},
   "source": [
    "### Arquivos texto"
   ]
  },
  {
   "cell_type": "markdown",
   "metadata": {},
   "source": [
    "Um arquivo texto é um arquivo que contém caracteres imprimíveis e espaços, organizados dentro de linhas separadas por caracteres de nova linha. Já que Pyhton é especialmente projetado para processar arquivos texto, ele oferece métodos que tornam esta tarefa mais fácil."
   ]
  },
  {
   "cell_type": "raw",
   "metadata": {},
   "source": [
    "f = open(\"teste.dat\", \"w\")\n",
    "f.write(\"linha um\\nlinha dois\\nlinha três\\n\")\n",
    "f.close()"
   ]
  },
  {
   "cell_type": "markdown",
   "metadata": {},
   "source": [
    "O método readline lê todos os caracteres até, e incluindo, o próximo caractere de nova linha:"
   ]
  },
  {
   "cell_type": "raw",
   "metadata": {},
   "source": [
    "f = open(\"teste.dat\", \"r\")\n",
    "print f.readline()"
   ]
  },
  {
   "cell_type": "markdown",
   "metadata": {},
   "source": [
    "O método `.readlines` retorna todas as linhas restantes como uma lista de strings:"
   ]
  },
  {
   "cell_type": "raw",
   "metadata": {},
   "source": [
    "print f.readlines()\n",
    "\n",
    "['linha dois\\012', 'linha três\\012']"
   ]
  },
  {
   "cell_type": "markdown",
   "metadata": {},
   "source": [
    "No fim do arquivo, readline retorna a string vazia e readlines retorna a lista vazia:\n",
    "\n"
   ]
  },
  {
   "cell_type": "raw",
   "metadata": {},
   "source": [
    "print f.readline()\n",
    "\n",
    "print f.readlines()\n",
    "[]"
   ]
  },
  {
   "cell_type": "markdown",
   "metadata": {},
   "source": [
    "A seguir temos um exemplo de um programa de processamento de linhas. filtraArquivo faz uma cópia de velhoArquivo, omitindo quaisquer linhas que comecem por #:"
   ]
  },
  {
   "cell_type": "raw",
   "metadata": {},
   "source": [
    "def filtraArquivo(velhoArquivo, novoArquivo):\n",
    "  f1 = open(velhoArquivo, \"r\")\n",
    "  f2 = open(novoArquivo, \"w\")\n",
    "  while 1:\n",
    "      texto = f1.readline()\n",
    "      if texto == \"\":\n",
    "          break\n",
    "      if texto[0] == '#':\n",
    "          continue\n",
    "      f2.write(texto)\n",
    "  f1.close()\n",
    "  f2.close()\n",
    "  return"
   ]
  },
  {
   "cell_type": "markdown",
   "metadata": {},
   "source": [
    "### Gravando variáveis"
   ]
  },
  {
   "cell_type": "markdown",
   "metadata": {},
   "source": [
    "O argumento de `.write()` tem que ser uma string, assim se quisermos colocar outros valores em um arquivo, temos de convertê-los para strings primeiro. A maneira mais fácil de fazer isso é com a função str:\n",
    "\n"
   ]
  },
  {
   "cell_type": "raw",
   "metadata": {},
   "source": [
    "x = 52\n",
    "f.write(str(x))"
   ]
  },
  {
   "cell_type": "markdown",
   "metadata": {},
   "source": [
    "Uma alternativa é usar o operador de formatação %. Quando aplicado a inteiros, % é o operador módulo. Mas quando o primeiro operador é uma string, % é o operador de formatação.\n",
    "\n",
    "O primeiro operando é a string de formatação, e o segundo operando é uma tupla de expressões. O resultado é uma string que contém os valores das expressões, formatadas de acordo com a string de formatação.\n",
    "\n",
    "Num exemplo simples, a seqüência de formatação \"%d\" significa que a primeira expressão na tupla deve ser formatada como um inteiro. Aqui a letra d representa \"decimal\"."
   ]
  },
  {
   "cell_type": "raw",
   "metadata": {},
   "source": [
    "carros = 52\n",
    "\"%d\" % carros\n",
    "'52'"
   ]
  },
  {
   "cell_type": "markdown",
   "metadata": {},
   "source": [
    "O resultado é a string `'52'`, que não deve ser confundida com o valor inteiro `52`."
   ]
  },
  {
   "cell_type": "markdown",
   "metadata": {},
   "source": [
    "Uma seqüência de formatação pode aparecer em qualquer lugar na string de formatação, assim, podemos embutir um valor em uma seqüência:\n",
    "\n"
   ]
  },
  {
   "cell_type": "raw",
   "metadata": {},
   "source": [
    "carros = 52\n",
    "\"Em julho vendemos %d carros.\" % carros\n",
    "'Em julho vendemos 52 carros.'"
   ]
  },
  {
   "cell_type": "markdown",
   "metadata": {},
   "source": [
    "A seqüência de formatação `\"%f\"` formata o próximo item da tupla como um número em `ponto flutuante`, e `\"%s\"` formata o próximo como uma `string`:"
   ]
  },
  {
   "cell_type": "raw",
   "metadata": {},
   "source": [
    "\"Em %d dias fizemos %f milhões %s.\" % (34,6.1,'reais')\n",
    "'Em 34 dias fizemos 6.100000 milhões de reais.'"
   ]
  },
  {
   "cell_type": "markdown",
   "metadata": {},
   "source": [
    "Por padrão, o formato de ponto flutuante exibe seis casas decimais.\n",
    "\n",
    "O número de expressões na tupla tem que ser igual ao número de seqüências de formatação na string. Além disso, os tipos das expressões têm que iguais aos da seqüência de formatação:"
   ]
  },
  {
   "cell_type": "raw",
   "metadata": {},
   "source": [
    "\"%d %d %d\" % (1,2)\n",
    "TypeError: not enough arguments for format string\n",
    "\"%d\" % 'reais'\n",
    "TypeError: illegal argument type for built-in operation"
   ]
  },
  {
   "cell_type": "markdown",
   "metadata": {},
   "source": [
    "No primeiro exemplo, `não existem expressões suficientes`; no segundo, a expressão é do `tipo errado`.\n",
    "\n",
    "Para um controle maior na formatação de números, podemos especificar o número de dígitos como parte da seqüência de formatação:"
   ]
  },
  {
   "cell_type": "raw",
   "metadata": {},
   "source": [
    "\"%6d\" % 62\n",
    "'    62'\n",
    "\"%12f\" % 6.1\n",
    "'    6,100000'"
   ]
  },
  {
   "cell_type": "markdown",
   "metadata": {},
   "source": [
    "O número depois do sinal de porcentagem é o `número mínimo de espaços` que o valor ocupará. Se o valor fornecido tiver um número menor de dígitos, espaços em branco serão adicionados antes para preencher o restante. Se o número de espaços for negativo, os espaços serão adicionados depois:\n",
    "\n"
   ]
  },
  {
   "cell_type": "raw",
   "metadata": {},
   "source": [
    "\"%-6d\" % 62\n",
    "'62    '"
   ]
  },
  {
   "cell_type": "markdown",
   "metadata": {},
   "source": [
    "Para números em ponto-flutuante, também podemos especificar o número de dígitos depois da vírgula:"
   ]
  },
  {
   "cell_type": "raw",
   "metadata": {},
   "source": [
    "\"%12.2f\" % 6.1\n",
    "'        6.10'"
   ]
  },
  {
   "cell_type": "markdown",
   "metadata": {},
   "source": [
    "Neste exemplo, o resultado reserva 12 espaços e inclui dois dígitos depois da vírgula. Esta formatação é útil para exibir valores monetários com os centavos alinhados.\n",
    "\n",
    "Por exemplo, imagine um dicionário que contém nomes de estudantes como chaves e salários-hora como valores. Aqui está uma função que imprime o conteúdo do dicionário como um relatório formatado:"
   ]
  },
  {
   "cell_type": "raw",
   "metadata": {},
   "source": [
    "def relatorio(salarios):\n",
    "  estudantes = salarios.keys()\n",
    "  estudantes.sort()\n",
    "  for estudante in estudantes:\n",
    "      print \"%-20s %12.02f\" % (estudante, salarios[estudante])"
   ]
  },
  {
   "cell_type": "markdown",
   "metadata": {},
   "source": [
    "Para testar esta função, criaremos um pequeno dicionário e imprimiremos o conteúdo:"
   ]
  },
  {
   "cell_type": "raw",
   "metadata": {},
   "source": [
    "salarios = {'maria': 6.23, 'joão': 5.45, 'josué': 4.25}\n",
    "relatorio(salarios)\n",
    "joão                          5.45\n",
    "josué                         4.25\n",
    "maria                         6.23"
   ]
  },
  {
   "cell_type": "markdown",
   "metadata": {},
   "source": [
    "Controlando a largura de cada valor, podemos garantir que as colunas ficarão alinhadas, desde que os nomes contenham menos que vinte e um caracteres e os salários sejam menores do que um bilhão de reais por hora."
   ]
  },
  {
   "cell_type": "markdown",
   "metadata": {},
   "source": [
    "### Diretórios"
   ]
  },
  {
   "cell_type": "markdown",
   "metadata": {},
   "source": [
    "Quando você cria um novo arquivo abrindo-o e escrevendo nele, o novo arquivo fica no diretório corrente (seja lá onde for que você esteja quando rodar o programa). Do mesmo modo, quando você abre um arquivo para leitura, Python procura por ele no diretório corrente.\n",
    "\n",
    "Se você quiser abrir um arquivo que esteja em algum outro lugar, você tem que especificar o caminho (path) para o arquivo, o qual é o nome do diretório (ou folder) onde o arquivo está localizado:"
   ]
  },
  {
   "cell_type": "raw",
   "metadata": {},
   "source": [
    "f = open(\"/usr/share/dict/words\", \"r\")\n",
    "print f.readline()\n",
    "Aarhus"
   ]
  },
  {
   "cell_type": "markdown",
   "metadata": {},
   "source": [
    "Este exemplo abre um arquivo chamado words que reside em um diretório de nome dict, o qual reside em share, o qual reside em usr, o qual reside no diretório de mais alto nível do sistema, chamado /.\n",
    "\n",
    "Você não pode usar / como parte do nome de um arquivo; ela é um caractere reservado como um delimitador entre nomes de diretórios e nomes de arquivos.\n",
    "\n",
    "O arquivo /usr/share/dict/words contém uma lista de palavras em ordem alfabética, na qual a primeira palavra é o nome de uma universidade Dinamarquesa."
   ]
  },
  {
   "cell_type": "markdown",
   "metadata": {},
   "source": [
    "### Pickling"
   ]
  },
  {
   "cell_type": "markdown",
   "metadata": {},
   "source": [
    "Para colocar valores em um arquivo, devemos convertê-los em strings, conforme vimos anteriormente. O problema é que quando lê de volta o valor, teremos uma string. O Tipo original da informação foi perdido. De fato, você não pode sequer dizer onde começa um valor e termina outro:\n",
    "\n",
    "\n",
    "\n"
   ]
  },
  {
   "cell_type": "raw",
   "metadata": {},
   "source": [
    "# Escrevemos no arquivo\n",
    "f.write (str(12.3))\n",
    "f.write (str([1,2,3]))"
   ]
  },
  {
   "cell_type": "raw",
   "metadata": {},
   "source": [
    "# Fazemos a leitura depois\n",
    "f.readline()\n",
    "\"12.3[1, 2, 3]\""
   ]
  },
  {
   "cell_type": "markdown",
   "metadata": {},
   "source": [
    "A solução é o `pickling`, assim chamado porque \"preserva\" as estruturas de dados. O módulo pickel contém os comandos necessários. Para usá-lo, `importe pickle` e então abra o arquivo da maneira usual:\n",
    "\n"
   ]
  },
  {
   "cell_type": "raw",
   "metadata": {},
   "source": [
    "import pickle\n",
    "\n",
    "f = open('test.pck', 'w')"
   ]
  },
  {
   "cell_type": "markdown",
   "metadata": {},
   "source": [
    "Para armazenar uma estrutura de dados, use o método dump e então feche o arquivo do modo usual:\n",
    "\n"
   ]
  },
  {
   "cell_type": "raw",
   "metadata": {},
   "source": [
    "pickle.dump(12.3, f)\n",
    "pickle.dump([1,2,3], f)\n",
    "f.close()"
   ]
  },
  {
   "cell_type": "markdown",
   "metadata": {},
   "source": [
    "Então, podemos abrir o arquivo para leitura e carregar as estruturas de dados que foram descarregadas (dumped):\n",
    "\n"
   ]
  },
  {
   "cell_type": "raw",
   "metadata": {},
   "source": [
    ">>> f = open(?test.pck?, ?r?)\n",
    ">>> x = pickle.load(f)\n",
    ">>> x\n",
    "12,3\n",
    ">>> type(x)\n",
    "<type ?float?>\n",
    ">>> y = pickle.load(f)\n",
    ">>> y\n",
    "[1, 2, 3]\n",
    ">>> type(y)\n",
    "<type ?list?>"
   ]
  },
  {
   "cell_type": "markdown",
   "metadata": {},
   "source": [
    "Cada vez que invocamos `load`, obtemos um único valor do arquivo, completo com seu tipo original."
   ]
  },
  {
   "cell_type": "markdown",
   "metadata": {},
   "source": [
    "### Exceções"
   ]
  },
  {
   "cell_type": "markdown",
   "metadata": {},
   "source": [
    "Às vezes queremos executar uma operação que pode causar uma exceção, mas não queremos que o programa pare. Nós podemos tratar a exceção usando as instruções try e except.\n",
    "\n",
    "Por exemplo, podemos pedir ao usuário um nome de arquivo e então tentar abrí-lo. Se o arquivo não existe, não queremos que o programa trave; queremos tratar a exceção:"
   ]
  },
  {
   "cell_type": "raw",
   "metadata": {},
   "source": [
    "nomedoarquivo = raw_input(\"Entre com o nome do arquivo: \")\n",
    "try:\n",
    "  f = open (nomedoarquivo, 'r')\n",
    "except:\n",
    "  print(\"Não existe arquivo chamado\"), nomedoarquivo"
   ]
  },
  {
   "cell_type": "markdown",
   "metadata": {},
   "source": [
    "A instrução try executa os comandos do primeiro bloco. Se não ocorrerem exceções, ele ignora a instrução except. Se qualquer exceção acontece, ele executa os comandos do ramo except e continua.\n",
    "\n",
    "Podemos utilizar esta habilidade numa função: existe o arquivo, então,  retorna verdadeiro se o arquivo existe e falso se não existe:"
   ]
  },
  {
   "cell_type": "raw",
   "metadata": {},
   "source": [
    "A instrução try executa os comandos do primeiro bloco. Se não ocorrerem exceções, ele ignora a instrução except. Se qualquer exceção acontece, ele executa os comandos do ramo except e continua.\n",
    "\n",
    "Podemos utilizar esta habilidade numa função: existe o arquivo, então,  retorna verdadeiro se o arquivo existe e falso se não existe:def existe(nomedoarquivo)\n",
    "  try:\n",
    "    f = open(nomedoarquivo)\n",
    "    f.close()\n",
    "    return 1\n",
    "  except:\n",
    "    return 0    return 0"
   ]
  }
 ],
 "metadata": {
  "kernelspec": {
   "display_name": "Python 3",
   "language": "python",
   "name": "python3"
  },
  "language_info": {
   "codemirror_mode": {
    "name": "ipython",
    "version": 3
   },
   "file_extension": ".py",
   "mimetype": "text/x-python",
   "name": "python",
   "nbconvert_exporter": "python",
   "pygments_lexer": "ipython3",
   "version": "3.6.5"
  }
 },
 "nbformat": 4,
 "nbformat_minor": 2
}
