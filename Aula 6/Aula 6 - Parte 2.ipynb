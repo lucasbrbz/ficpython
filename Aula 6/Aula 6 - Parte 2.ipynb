{
 "cells": [
  {
   "cell_type": "markdown",
   "metadata": {},
   "source": [
    "#  Introdução ao Python\n",
    "## Professor: Luiz Ferreira"
   ]
  },
  {
   "cell_type": "markdown",
   "metadata": {},
   "source": [
    "## Módulo 1\n",
    "\n",
    "### Introdução ao Python"
   ]
  },
  {
   "cell_type": "markdown",
   "metadata": {},
   "source": [
    "_____________"
   ]
  },
  {
   "cell_type": "markdown",
   "metadata": {},
   "source": [
    "## Trabalhando interfaces com TKinter "
   ]
  },
  {
   "cell_type": "markdown",
   "metadata": {},
   "source": [
    "As interfaces gráficas do usuário (GUI – Graphic User Interface) são bastante populares no uso de softwares em geral, e os programadores devem estar aptos a trabalhar com a criação de interfaces, já que torna o uso mais fácil além de aumentar a produtividade.\n",
    "\n",
    "Para quem trabalha com desenvolvimento em Python, existem diversos frameworks e ferramentas que permitem a criação interfaces gráficas.\n",
    "\n",
    "A seguir podemos ver alguns frameworks gráficos que permitem desenvolver interfaces em Python:\n",
    "\n",
    "- WxWidgets;\n",
    "- Tkinter;\n",
    "- Kivy;\n",
    "- PyGTK;\n",
    "- PySide;\n",
    "- QT."
   ]
  },
  {
   "cell_type": "markdown",
   "metadata": {},
   "source": [
    "### TKinter\n",
    "\n",
    "Tkinter é uma biblioteca da linguagem Python que acompanha a instalação padrão e permite desenvolver interfaces gráficas. Isso significa que qualquer computador que tenha o interpretador Python instalado é capaz de criar interfaces gráficas usando o Tkinter, com exceção de algumas distribuições Linux, exigindo que seja feita o download do módulo separadamente"
   ]
  },
  {
   "cell_type": "markdown",
   "metadata": {},
   "source": [
    "O `Tkinter` já vem por padrão na maioria das instalações Python, então tudo que temos que fazer é importar a biblioteca.\n",
    "\n",
    "Para importar todo o conteúdo do módulo usamos o seguinte comando:"
   ]
  },
  {
   "cell_type": "code",
   "execution_count": 1,
   "metadata": {},
   "outputs": [],
   "source": [
    "from tkinter import *\n"
   ]
  },
  {
   "cell_type": "markdown",
   "metadata": {},
   "source": [
    "#### Frontend"
   ]
  },
  {
   "cell_type": "markdown",
   "metadata": {},
   "source": [
    "Primeiro, crie um arquivo chamado interface.py e realize a importação da biblioteca tkinter (utilizada para criar interface gráfica)."
   ]
  },
  {
   "cell_type": "markdown",
   "metadata": {},
   "source": [
    "Agora defina uma classe chamada Interface (Usa o mesmo nome do arquivo, a primeira letra deve ser maiúscula):"
   ]
  },
  {
   "cell_type": "code",
   "execution_count": null,
   "metadata": {},
   "outputs": [],
   "source": [
    "class Interface():\n",
    "    \"\"\"Classe que define a interface gráfica da aplicação\n",
    "    \"\"\""
   ]
  },
  {
   "cell_type": "markdown",
   "metadata": {},
   "source": [
    "Como você sabe, o Python utiliza o recuo para controlar o conteúdo de classes e funções. \n",
    "Com isso em mente todo o código a seguir fará parte dele. \n",
    "\n",
    "A primeira coisa que vamos definir é o objeto da janela e um título para ela:"
   ]
  },
  {
   "cell_type": "code",
   "execution_count": 3,
   "metadata": {},
   "outputs": [
    {
     "ename": "TclError",
     "evalue": "no display name and no $DISPLAY environment variable",
     "output_type": "error",
     "traceback": [
      "\u001b[0;31m---------------------------------------------------------------------------\u001b[0m",
      "\u001b[0;31mTclError\u001b[0m                                  Traceback (most recent call last)",
      "\u001b[0;32m<ipython-input-3-18b0dfb0f21f>\u001b[0m in \u001b[0;36m<module>\u001b[0;34m()\u001b[0m\n\u001b[0;32m----> 1\u001b[0;31m \u001b[0mwindow\u001b[0m \u001b[0;34m=\u001b[0m \u001b[0mTk\u001b[0m\u001b[0;34m(\u001b[0m\u001b[0;34m)\u001b[0m\u001b[0;34m\u001b[0m\u001b[0m\n\u001b[0m\u001b[1;32m      2\u001b[0m \u001b[0mwindow\u001b[0m\u001b[0;34m.\u001b[0m\u001b[0mwm_title\u001b[0m\u001b[0;34m(\u001b[0m\u001b[0;34m\"Cadastro de Clientes\"\u001b[0m\u001b[0;34m)\u001b[0m\u001b[0;34m\u001b[0m\u001b[0m\n",
      "\u001b[0;32m/srv/conda/lib/python3.6/tkinter/__init__.py\u001b[0m in \u001b[0;36m__init__\u001b[0;34m(self, screenName, baseName, className, useTk, sync, use)\u001b[0m\n\u001b[1;32m   2018\u001b[0m                 \u001b[0mbaseName\u001b[0m \u001b[0;34m=\u001b[0m \u001b[0mbaseName\u001b[0m \u001b[0;34m+\u001b[0m \u001b[0mext\u001b[0m\u001b[0;34m\u001b[0m\u001b[0m\n\u001b[1;32m   2019\u001b[0m         \u001b[0minteractive\u001b[0m \u001b[0;34m=\u001b[0m \u001b[0;36m0\u001b[0m\u001b[0;34m\u001b[0m\u001b[0m\n\u001b[0;32m-> 2020\u001b[0;31m         \u001b[0mself\u001b[0m\u001b[0;34m.\u001b[0m\u001b[0mtk\u001b[0m \u001b[0;34m=\u001b[0m \u001b[0m_tkinter\u001b[0m\u001b[0;34m.\u001b[0m\u001b[0mcreate\u001b[0m\u001b[0;34m(\u001b[0m\u001b[0mscreenName\u001b[0m\u001b[0;34m,\u001b[0m \u001b[0mbaseName\u001b[0m\u001b[0;34m,\u001b[0m \u001b[0mclassName\u001b[0m\u001b[0;34m,\u001b[0m \u001b[0minteractive\u001b[0m\u001b[0;34m,\u001b[0m \u001b[0mwantobjects\u001b[0m\u001b[0;34m,\u001b[0m \u001b[0museTk\u001b[0m\u001b[0;34m,\u001b[0m \u001b[0msync\u001b[0m\u001b[0;34m,\u001b[0m \u001b[0muse\u001b[0m\u001b[0;34m)\u001b[0m\u001b[0;34m\u001b[0m\u001b[0m\n\u001b[0m\u001b[1;32m   2021\u001b[0m         \u001b[0;32mif\u001b[0m \u001b[0museTk\u001b[0m\u001b[0;34m:\u001b[0m\u001b[0;34m\u001b[0m\u001b[0m\n\u001b[1;32m   2022\u001b[0m             \u001b[0mself\u001b[0m\u001b[0;34m.\u001b[0m\u001b[0m_loadtk\u001b[0m\u001b[0;34m(\u001b[0m\u001b[0;34m)\u001b[0m\u001b[0;34m\u001b[0m\u001b[0m\n",
      "\u001b[0;31mTclError\u001b[0m: no display name and no $DISPLAY environment variable"
     ]
    }
   ],
   "source": [
    "window = Tk()\n",
    "window.wm_title(\"Cadastro de Clientes\")"
   ]
  },
  {
   "cell_type": "markdown",
   "metadata": {},
   "source": [
    "Em nossa interface teremos quatro campos para o cadastro de clientes: Nome, Sobrenome, Email e CPF. Então vamos definir as variáveis que vamos precisar para esta aplicação:"
   ]
  },
  {
   "cell_type": "code",
   "execution_count": null,
   "metadata": {},
   "outputs": [],
   "source": [
    " #Criando variáveis que armazenarão o texto inserido pelo usuário...\n",
    "txtNome         = StringVar()\n",
    "txtSobrenome    = StringVar()\n",
    "txtEmail        = StringVar()\n",
    "txtCPF          = StringVar()"
   ]
  },
  {
   "cell_type": "markdown",
   "metadata": {},
   "source": [
    "Agora vamos criar as Labels que ficarão ao lado dos campos:\n",
    "\n"
   ]
  },
  {
   "cell_type": "code",
   "execution_count": 4,
   "metadata": {},
   "outputs": [
    {
     "ename": "NameError",
     "evalue": "name 'window' is not defined",
     "output_type": "error",
     "traceback": [
      "\u001b[0;31m---------------------------------------------------------------------------\u001b[0m",
      "\u001b[0;31mNameError\u001b[0m                                 Traceback (most recent call last)",
      "\u001b[0;32m<ipython-input-4-0a7e721864bf>\u001b[0m in \u001b[0;36m<module>\u001b[0;34m()\u001b[0m\n\u001b[1;32m      1\u001b[0m \u001b[0;31m#Criando os objetos que estarão na janela...\u001b[0m\u001b[0;34m\u001b[0m\u001b[0;34m\u001b[0m\u001b[0m\n\u001b[0;32m----> 2\u001b[0;31m \u001b[0mlblnome\u001b[0m        \u001b[0;34m=\u001b[0m \u001b[0mLabel\u001b[0m\u001b[0;34m(\u001b[0m\u001b[0mwindow\u001b[0m\u001b[0;34m,\u001b[0m \u001b[0mtext\u001b[0m\u001b[0;34m=\u001b[0m\u001b[0;34m\"Nome\"\u001b[0m\u001b[0;34m)\u001b[0m\u001b[0;34m\u001b[0m\u001b[0m\n\u001b[0m\u001b[1;32m      3\u001b[0m \u001b[0mlblsobrenome\u001b[0m   \u001b[0;34m=\u001b[0m \u001b[0mLabel\u001b[0m\u001b[0;34m(\u001b[0m\u001b[0mwindow\u001b[0m\u001b[0;34m,\u001b[0m \u001b[0mtext\u001b[0m\u001b[0;34m=\u001b[0m\u001b[0;34m\"Sobrenome\"\u001b[0m\u001b[0;34m)\u001b[0m\u001b[0;34m\u001b[0m\u001b[0m\n\u001b[1;32m      4\u001b[0m \u001b[0mlblemail\u001b[0m       \u001b[0;34m=\u001b[0m \u001b[0mLabel\u001b[0m\u001b[0;34m(\u001b[0m\u001b[0mwindow\u001b[0m\u001b[0;34m,\u001b[0m \u001b[0mtext\u001b[0m\u001b[0;34m=\u001b[0m\u001b[0;34m\"Email\"\u001b[0m\u001b[0;34m)\u001b[0m\u001b[0;34m\u001b[0m\u001b[0m\n\u001b[1;32m      5\u001b[0m \u001b[0mlblcpf\u001b[0m         \u001b[0;34m=\u001b[0m \u001b[0mLabel\u001b[0m\u001b[0;34m(\u001b[0m\u001b[0mwindow\u001b[0m\u001b[0;34m,\u001b[0m \u001b[0mtext\u001b[0m\u001b[0;34m=\u001b[0m\u001b[0;34m\"CPF\"\u001b[0m\u001b[0;34m)\u001b[0m\u001b[0;34m\u001b[0m\u001b[0m\n",
      "\u001b[0;31mNameError\u001b[0m: name 'window' is not defined"
     ]
    }
   ],
   "source": [
    "#Criando os objetos que estarão na janela...\n",
    "lblnome        = Label(window, text=\"Nome\")\n",
    "lblsobrenome   = Label(window, text=\"Sobrenome\")\n",
    "lblemail       = Label(window, text=\"Email\")\n",
    "lblcpf         = Label(window, text=\"CPF\")"
   ]
  },
  {
   "cell_type": "markdown",
   "metadata": {},
   "source": [
    "No fonte acima, instanciamos 4 labels. O primeiro argumento (window) define a qual janela este label pertence. Todos os objetos criados precisam desta variável para definir  e o segundo (text=\"Nome\") define o texto que será exibido nele."
   ]
  },
  {
   "cell_type": "markdown",
   "metadata": {},
   "source": [
    "Agora que temos os Labels, vamos definir os campos de input ():"
   ]
  },
  {
   "cell_type": "code",
   "execution_count": null,
   "metadata": {},
   "outputs": [],
   "source": [
    "entNome        = Entry(window, textvariable=txtNome)\n",
    "entSobrenome   = Entry(window, textvariable=txtSobrenome)\n",
    "entEmail       = Entry(window, textvariable=txtEmail)\n",
    "entCPF         = Entry(window, textvariable=txtCPF)"
   ]
  },
  {
   "cell_type": "markdown",
   "metadata": {},
   "source": [
    "No fonte acima, o primeiro argumento funciona da mesma forma que nos labels. Isso vai ser comum para todos os componentes (widget). O segundo argumento (textvariable=txtNome) indica qual é a variável que receberá sempre o valor inserido no campo."
   ]
  },
  {
   "cell_type": "markdown",
   "metadata": {},
   "source": [
    "O próximo passo é criar o ListBox que listará todos os clientes cadastrados.\n",
    "\n"
   ]
  },
  {
   "cell_type": "code",
   "execution_count": null,
   "metadata": {},
   "outputs": [],
   "source": [
    "listClientes   = Listbox(window)"
   ]
  },
  {
   "cell_type": "markdown",
   "metadata": {},
   "source": [
    "E também um ScrollBar para funcionar em conjunto com o ListBox.\n"
   ]
  },
  {
   "cell_type": "code",
   "execution_count": null,
   "metadata": {},
   "outputs": [],
   "source": [
    "scrollClientes = Scrollbar(window)"
   ]
  },
  {
   "cell_type": "markdown",
   "metadata": {},
   "source": [
    "Neste primeiro momento, estamos apenas criando o ScrollBar, mas precisaremos realizar outras ações neste objeto.\n",
    "\n",
    "Agora vamos criar os botões que estarão disponíveis na interface:"
   ]
  },
  {
   "cell_type": "code",
   "execution_count": null,
   "metadata": {},
   "outputs": [],
   "source": [
    "btnViewAll     = Button(window, text=\"Ver todos\")\n",
    "btnBuscar      = Button(window, text=\"Buscar\")\n",
    "btnInserir     = Button(window, text=\"Inserir\")\n",
    "btnUpdate      = Button(window, text=\"Atualizar Selecionados\")\n",
    "btnDel         = Button(window, text=\"Deletar Selecionados\")\n",
    "btnClose       = Button(window, text=\"Fechar\")"
   ]
  },
  {
   "cell_type": "markdown",
   "metadata": {},
   "source": [
    "Assim como nos Labels, o argumento text (text=”Ver todos”) serve para definir qual o valor exibido no botão.\n",
    "\n",
    "Todos os objetos que precisaremos estão criados, precisamos posicioná-los na janela. Para isso, vamos utilizar o posicionamento por grid. "
   ]
  },
  {
   "cell_type": "code",
   "execution_count": null,
   "metadata": {},
   "outputs": [],
   "source": [
    "#Associando os objetos a grid da janela...\n",
    "lblnome.grid(row=0,column=0)\n",
    "lblsobrenome.grid(row=1,column=0)\n",
    "lblemail.grid(row=2,column=0)\n",
    "lblcpf.grid(row=3, column=0)\n",
    "entNome.grid(row=0, column=1, padx=50, pady=50)\n",
    "entSobrenome.grid(row=1, column=1)\n",
    "entEmail.grid(row=2, column=1)\n",
    "entCPF.grid(row=3, column=1)\n",
    "listClientes.grid(row=0, column=2, rowspan=10)\n",
    "scrollClientes.grid(row=0, column=6, rowspan=10)\n",
    "btnViewAll.grid(row=4, column=0, columnspan=2)\n",
    "btnBuscar.grid(row=5, column=0, columnspan=2)\n",
    "btnInserir.grid(row=6, column=0, columnspan=2)\n",
    "btnUpdate.grid(row=7, column=0, columnspan=2)\n",
    "btnDel.grid(row=8, column=0, columnspan=2)\n",
    "btnClose.grid(row=9, column=0, columnspan=2)"
   ]
  },
  {
   "cell_type": "markdown",
   "metadata": {},
   "source": [
    "No código acima, definidos em qual linha (row) cada objeto está posicionado e em qual coluna (column). Quando necessário, utilizamos o columnspan para fazer com que um objeto ocupe mais de uma coluna ou o rowspan para fazer com que o objeto ocupe mais de uma linha.\n",
    "\n"
   ]
  },
  {
   "cell_type": "markdown",
   "metadata": {},
   "source": [
    "O próximo passo é ligar o ListBox ao ScrollBar:\n",
    "\n"
   ]
  },
  {
   "cell_type": "code",
   "execution_count": null,
   "metadata": {},
   "outputs": [],
   "source": [
    "#Associando a Scrollbar com a Listbox...\n",
    "listClientes.configure(yscrollcommand=scrollClientes.set)"
   ]
  },
  {
   "cell_type": "markdown",
   "metadata": {},
   "source": [
    "No fonte acima, o argumento `yscrollcommand` é responsável por definir qual é o objeto do tipo scrollbar que será o responsável por acompanhar o rolamento vertical. Note que é necessário utilizar a propriedade `.set` do objeto scrollbar para que ele seja definido na ListBox."
   ]
  },
  {
   "cell_type": "markdown",
   "metadata": {},
   "source": [
    "Ainda precisamos de mais uma configuração mas, desta vez, na scrollbar."
   ]
  },
  {
   "cell_type": "code",
   "execution_count": null,
   "metadata": {},
   "outputs": [],
   "source": [
    "scrollClientes.configure(command=listClientes.yview)"
   ]
  },
  {
   "cell_type": "markdown",
   "metadata": {},
   "source": [
    "O argumento command (command=listClientes.yview) define qual o função será chamada quando a scrollbar for ativada. Neste caso, estamos falando que a posição vertical será alterada sempre que o ScrollBar for manipulado.\n",
    "\n",
    "Os campos agora estão inseridos na janela e posicionados, mas temos um problema…."
   ]
  },
  {
   "cell_type": "markdown",
   "metadata": {},
   "source": [
    "![](http://raccoon.ninja/wp-content/uploads/2017/02/SNAG-0080.png)"
   ]
  },
  {
   "cell_type": "markdown",
   "metadata": {},
   "source": [
    "A primeira coisa que precisamos fazer é criar variáveis para definir o padding dos elementos, a largura dos elementos de input ()."
   ]
  },
  {
   "cell_type": "code",
   "execution_count": null,
   "metadata": {},
   "outputs": [],
   "source": [
    "x_pad = 5\n",
    "y_pad = 3\n",
    "width_entry = 30"
   ]
  },
  {
   "cell_type": "markdown",
   "metadata": {},
   "source": [
    "Precisamos aplicar o padding para quase todos os elementos, definir a largura dos botões e mais alguns pontos estéticos. Isso poderia ser feito manualmente, repetindo o código para todos os elementos. Todavia, não vamos fazer assim.\n",
    "\n",
    "Faremos a mudança de estilo da seguinte forma: Uma iteração por todos os elementos da janela, realizando as alterações conforme passamos pelos elementos."
   ]
  },
  {
   "cell_type": "code",
   "execution_count": null,
   "metadata": {},
   "outputs": [],
   "source": [
    " for child in window.winfo_children():\n",
    "        widget_class = child.__class__.__name__\n",
    "        if widget_class == \"Button\":\n",
    "            child.grid_configure(sticky='WE', padx=x_pad, pady=y_pad)\n",
    "        elif widget_class == \"Listbox\":\n",
    "            child.grid_configure(padx=0, pady=0, sticky='NS')\n",
    "        elif widget_class == \"Scrollbar\":\n",
    "            child.grid_configure(padx=0, pady=0, sticky='NS')\n",
    "        else:\n",
    "            child.grid_configure(padx=x_pad, pady=y_pad, sticky='N')"
   ]
  },
  {
   "cell_type": "markdown",
   "metadata": {},
   "source": [
    "No código acima, fazemos as seguintes ações:\n",
    "\n",
    "- Recuperamos todos os elementos contidos na janela, através do método .winfo_children();\n",
    "- Depois fazemos uma iteração (for) pelos elementos;\n",
    "- Na variável widget_class é armazenado o nome da classe (child.__class__.__name__) do elemento da iteração;\n",
    "- Dependendo do nome da classe (armazenado na variável widget_class) serão realizadas alterações em algumas propriedades:\n",
    "    - padx e pady: Padding para o eixo X e Y do elemento. É referente ao espaço entre a borda deste elemento e a borda dos outros elementos da janela;\n",
    "    - sticky: Indica em qual ponto da janela (norte – N, sul – S, leste – E ou oeste W) o objeto estará ancorado. Se você combinar o ponto leste e oeste (EW), o elemento ocupará todo o espaço horizontal da coluna em que está localizado. O mesmo ocorre se colocarmos NS (norte-sul), o elemento ocupará todo o espaço vertical.\n",
    "\n",
    "Para o ListBox e o ScrollBar, vamos definir padding zero para que eles fiquem colados, parecendo que são apenas um elemento."
   ]
  },
  {
   "cell_type": "markdown",
   "metadata": {},
   "source": [
    "Para finalizar esta seção, vamos criar uma `função` para ativar a janela. No tkinter, devemos chamar a função para que a janela comece a funcionar. Ele irá receber os eventos da janela e redirecioná-los para os widgets (elementos/objetos) dela.\n",
    "\n"
   ]
  },
  {
   "cell_type": "markdown",
   "metadata": {},
   "source": [
    "##### Observação"
   ]
  },
  {
   "cell_type": "markdown",
   "metadata": {},
   "source": [
    "Uma vez que a função mainloop() é chamada, não é mais possível realizar alterações visuais (incluindo criar/destruir objetos).\n",
    "\n"
   ]
  },
  {
   "cell_type": "markdown",
   "metadata": {},
   "source": [
    "Pensando no futuro, caso “amanhã” seja necessário realizar mais alguma alteração antes de chamar a mainloop(), vamos encapsular esta chamada em uma função…\n",
    "\n"
   ]
  },
  {
   "cell_type": "code",
   "execution_count": null,
   "metadata": {},
   "outputs": [],
   "source": [
    "def run(self):\n",
    "    Interface.window.mainloop()"
   ]
  },
  {
   "cell_type": "markdown",
   "metadata": {},
   "source": [
    "Esta função, quando chamada, não requer argumentos e ela faz referencia para a janela que estamos utilizando. O Python não usa a keyword this, ou seja, para referenciarmos um elemento contido na classe, utilizamos o proprio nome da classe. Por isso a referência foi feita desta forma: `Interface.window.mainloop()`."
   ]
  },
  {
   "cell_type": "markdown",
   "metadata": {},
   "source": [
    "Que tal testar o que acabamos de fazer?\n",
    "\n",
    "Crie outro arquivo, chamado application.py, nele vamos importar o arquivo Interface.py. A partir de agora, o código exemplificado faz parte de outro arquivo (application.py).\n",
    "\n"
   ]
  },
  {
   "cell_type": "code",
   "execution_count": null,
   "metadata": {},
   "outputs": [],
   "source": [
    "from GUI import *\n",
    "app = None\n",
    "app = Interface()\n",
    "app.run()"
   ]
  }
 ],
 "metadata": {
  "kernelspec": {
   "display_name": "Python 3",
   "language": "python",
   "name": "python3"
  },
  "language_info": {
   "codemirror_mode": {
    "name": "ipython",
    "version": 3
   },
   "file_extension": ".py",
   "mimetype": "text/x-python",
   "name": "python",
   "nbconvert_exporter": "python",
   "pygments_lexer": "ipython3",
   "version": "3.6.5"
  }
 },
 "nbformat": 4,
 "nbformat_minor": 2
}
