{
 "cells": [
  {
   "cell_type": "markdown",
   "metadata": {},
   "source": [
    "#  Introdução ao Python\n",
    "## Professor: Luiz Ferreira"
   ]
  },
  {
   "cell_type": "markdown",
   "metadata": {},
   "source": [
    "## Módulo 1\n",
    "\n",
    "### Introdução ao Python"
   ]
  },
  {
   "cell_type": "markdown",
   "metadata": {},
   "source": [
    "_____________"
   ]
  },
  {
   "cell_type": "markdown",
   "metadata": {},
   "source": [
    "## Trabalhando com banco de dados em Python"
   ]
  },
  {
   "cell_type": "markdown",
   "metadata": {},
   "source": [
    "Ainda visando a persistência de dados, temos o uso de banco de dados, que são estruturas capazes de armazenar determinados objetos para que possam ser manipulados posteriormente. Existem inúmeras ferramentas de banco de dados, passando de uso mais complexo e robusto até simples armazenamento de dados. A ferramenta de banco de dados mais utilizada em aplicações desktop e web é o `MySQL` (MariaDB).\n",
    "\n",
    "Com Python podemos utilizar o banco de dados [SQLite](www.sqlite.org), que permite a criação de um banco de dados a partir de bibliotecas da linguagem de programação que esteja utilizando. Esse banco de dados é relacional, sem servidor e com configuração minimalista. O que permite desenvolver rapidamente programas persistentes com menor capacidade de processamento, ou que não necessitem de complexidade em sua execução, como no caso de programação para smartphones.\n",
    "\n",
    "Consideremos a sintaxe da aula de hoje como Python 3.\n",
    "\n",
    "Para instalar o SQLite podemos utilizar o comando `pip`.\n"
   ]
  },
  {
   "cell_type": "code",
   "execution_count": null,
   "metadata": {},
   "outputs": [],
   "source": [
    "pip install sqlite"
   ]
  },
  {
   "cell_type": "markdown",
   "metadata": {},
   "source": [
    "Depois de instalado, podemos criar um banco de dados de duas maneiras, através de armazenamento em memória ou armazenamento persistente."
   ]
  },
  {
   "cell_type": "code",
   "execution_count": null,
   "metadata": {},
   "outputs": [],
   "source": [
    "conn = sqlite3.connect(':memory:') # Armazenamento em memória\n",
    "\n",
    "conn = sqlite3.connect('clientes.db') # Armazenamento persistente"
   ]
  },
  {
   "cell_type": "markdown",
   "metadata": {},
   "source": [
    "A partir dessas informações, uma conexão mínima em um banco de dados SQLite é :"
   ]
  },
  {
   "cell_type": "code",
   "execution_count": null,
   "metadata": {},
   "outputs": [],
   "source": [
    "import sqlite3\n",
    "\n",
    "conn = sqlite3.connect('clientes.db')\n",
    "conn.close()"
   ]
  },
  {
   "cell_type": "markdown",
   "metadata": {},
   "source": [
    "Lembrando sempre de fechar a conexão quando não for mais necessária, evitando problemas futuros na base de dados, problemas como, corromper a base.\n",
    "\n",
    "Com isso teremos nosso banco de dados pronto para o uso."
   ]
  },
  {
   "cell_type": "markdown",
   "metadata": {},
   "source": [
    "### Criando tabelas\n"
   ]
  },
  {
   "cell_type": "markdown",
   "metadata": {},
   "source": [
    "Utilizando o princípio da simplicidade que o SQLite propõe, teremos dois métodos principais na criação de tabelas, são eles:\n",
    "\n",
    "#### cursor:\n",
    "É um iterador que permite a navegação e manipulação de registros de nosso banco de dados.\n",
    "\n",
    "#### execute:\n",
    "Lê e executa comandos SQL puro diretamente no banco de dados."
   ]
  },
  {
   "cell_type": "code",
   "execution_count": null,
   "metadata": {},
   "outputs": [],
   "source": [
    "import sqlite3\n",
    "\n",
    "# conectando...\n",
    "conn = sqlite3.connect('clientes.db')\n",
    "# definindo um cursor\n",
    "cursor = conn.cursor()\n",
    "\n",
    "# criando a tabela (schema)\n",
    "cursor.execute(\"\"\"\n",
    "CREATE TABLE clientes (\n",
    "        id INTEGER NOT NULL PRIMARY KEY AUTOINCREMENT,\n",
    "        nome TEXT NOT NULL,\n",
    "        idade INTEGER,\n",
    "        cpf     VARCHAR(11) NOT NULL,\n",
    "        email TEXT NOT NULL,\n",
    "        fone TEXT,\n",
    "        cidade TEXT,\n",
    "        uf VARCHAR(2) NOT NULL,\n",
    "        criado_em DATE NOT NULL\n",
    ");\n",
    "\"\"\")\n",
    "\n",
    "print('Tabela criada com sucesso.')\n",
    "# desconectando...\n",
    "conn.close()"
   ]
  },
  {
   "cell_type": "markdown",
   "metadata": {},
   "source": [
    "Para ver a tabela criada, basta utilizar o terminal:"
   ]
  },
  {
   "cell_type": "code",
   "execution_count": null,
   "metadata": {},
   "outputs": [],
   "source": [
    "sqlite3 clientes.db '.tables'\n",
    "\n",
    "sqlite3 clientes.db 'PRAGMA table_info(clientes)'"
   ]
  },
  {
   "cell_type": "markdown",
   "metadata": {},
   "source": [
    "Digitando `sqlite3 clientes.db '.tables'` você verá que a tabela foi criada.\n",
    "\n",
    "E o comando `sqlite3 clientes.db 'PRAGMA table_info(clientes)'` retorna os campos da tabela."
   ]
  },
  {
   "cell_type": "markdown",
   "metadata": {},
   "source": [
    "### Criando registros para a tabela"
   ]
  },
  {
   "cell_type": "markdown",
   "metadata": {},
   "source": [
    "A única novidade aqui é o método `commit()`. É ele que grava de fato as alterações na tabela. Lembrando que uma tabela é alterada com as instruções SQL `\"INSERT\", \"UPDATE\" e \"DELETE\"`."
   ]
  },
  {
   "cell_type": "code",
   "execution_count": null,
   "metadata": {},
   "outputs": [],
   "source": [
    "import sqlite3\n",
    "\n",
    "conn = sqlite3.connect('clientes.db')\n",
    "cursor = conn.cursor()\n",
    "\n",
    "# inserindo dados na tabela\n",
    "cursor.execute(\"\"\"\n",
    "INSERT INTO clientes (nome, idade, cpf, email, fone, cidade, uf, criado_em)\n",
    "VALUES ('Regis', 35, '00000000000', 'regis@email.com', '11-98765-4321', 'Sao Paulo', 'SP', '2014-06-08')\n",
    "\"\"\")\n",
    "\n",
    "cursor.execute(\"\"\"\n",
    "INSERT INTO clientes (nome, idade, cpf, email, fone, cidade, uf, criado_em)\n",
    "VALUES ('Aloisio', 87, '11111111111', 'aloisio@email.com', '98765-4322', 'Porto Alegre', 'RS', '2014-06-09')\n",
    "\"\"\")\n",
    "\n",
    "cursor.execute(\"\"\"\n",
    "INSERT INTO clientes (nome, idade, cpf, email, fone, cidade, uf, criado_em)\n",
    "VALUES ('Bruna', 21, '22222222222', 'bruna@email.com', '21-98765-4323', 'Rio de Janeiro', 'RJ', '2014-06-09')\n",
    "\"\"\")\n",
    "\n",
    "cursor.execute(\"\"\"\n",
    "INSERT INTO clientes (nome, idade, cpf, email, fone, cidade, uf, criado_em)\n",
    "VALUES ('Matheus', 19, '33333333333', 'matheus@email.com', '11-98765-4324', 'Campinas', 'SP', '2014-06-08')\n",
    "\"\"\")\n",
    "\n",
    "# gravando no bd\n",
    "conn.commit()\n",
    "\n",
    "print('Dados inseridos com sucesso.')\n",
    "\n",
    "conn.close()"
   ]
  },
  {
   "cell_type": "markdown",
   "metadata": {},
   "source": [
    "##### Inserindo n registros com uma tupla de dados"
   ]
  },
  {
   "cell_type": "markdown",
   "metadata": {},
   "source": [
    "Usando uma lista, conforme visto em aulas anteriores, podemos inserir vários registros de uma vez, e o método `executemany` permite que realizemos essa ação."
   ]
  },
  {
   "cell_type": "code",
   "execution_count": null,
   "metadata": {},
   "outputs": [],
   "source": [
    "import sqlite3\n",
    "\n",
    "conn = sqlite3.connect('clientes.db')\n",
    "cursor = conn.cursor()\n",
    "\n",
    "# criando uma lista de dados\n",
    "lista = [(\n",
    "    'Fabio', 23, '44444444444', 'fabio@email.com', '1234-5678', 'Belo Horizonte', 'MG', '2014-06-09'),\n",
    "    ('Joao', 21, '55555555555', 'joao@email.com',\n",
    "     '11-1234-5600', 'Sao Paulo', 'SP', '2014-06-09'),\n",
    "    ('Xavier', 24, '66666666666', 'xavier@email.com', '12-1234-5601', 'Campinas', 'SP', '2014-06-10')]\n",
    "\n",
    "# inserindo dados na tabela\n",
    "cursor.executemany(\"\"\"\n",
    "INSERT INTO clientes (nome, idade, cpf, email, fone, cidade, uf, criado_em)\n",
    "VALUES (?,?,?,?,?,?,?,?)\n",
    "\"\"\", lista)\n",
    "\n",
    "conn.commit()\n",
    "\n",
    "print('Dados inseridos com sucesso.')\n",
    "\n",
    "conn.close()"
   ]
  },
  {
   "cell_type": "markdown",
   "metadata": {},
   "source": [
    "Observe o uso de `?` isto significa que no lugar de cada `?` entrará os valores da lista na sua posição respectiva. É o que nós chamamos de `parâmetros de entrada`."
   ]
  },
  {
   "cell_type": "markdown",
   "metadata": {},
   "source": [
    "###### Inserindo um registro com parâmetros de entrada definido pelo usuário"
   ]
  },
  {
   "cell_type": "markdown",
   "metadata": {},
   "source": [
    "Neste exemplo usaremos parâmetros de entrada, que deverá ser digitado pelo usuário. Esta é a forma mais desejável de entrada de dados porque o usuário pode digitar os dados em tempo de execução."
   ]
  },
  {
   "cell_type": "code",
   "execution_count": null,
   "metadata": {},
   "outputs": [],
   "source": [
    "import sqlite3\n",
    "\n",
    "conn = sqlite3.connect('clientes.db')\n",
    "cursor = conn.cursor()\n",
    "\n",
    "# solicitando os dados ao usuário\n",
    "p_nome = input('Nome: ')\n",
    "p_idade = input('Idade: ')\n",
    "p_cpf = input('CPF: ')\n",
    "p_email = input('Email: ')\n",
    "p_fone = input('Fone: ')\n",
    "p_cidade = input('Cidade: ')\n",
    "p_uf = input('UF: ')\n",
    "p_criado_em = input('Criado em (yyyy-mm-dd): ')\n",
    "\n",
    "# inserindo dados na tabela\n",
    "cursor.execute(\"\"\"\n",
    "INSERT INTO clientes (nome, idade, cpf, email, fone, cidade, uf, criado_em)\n",
    "VALUES (?,?,?,?,?,?,?,?)\n",
    "\"\"\", (p_nome, p_idade, p_cpf, p_email, p_fone, p_cidade, p_uf, p_criado_em))\n",
    "\n",
    "conn.commit()\n",
    "\n",
    "print('Dados inseridos com sucesso.')\n",
    "\n",
    "conn.close()"
   ]
  },
  {
   "cell_type": "markdown",
   "metadata": {},
   "source": [
    "### Lendo os dados"
   ]
  },
  {
   "cell_type": "markdown",
   "metadata": {},
   "source": [
    "Aqui nós usamos o famoso comando `SELECT`. O método `fetchall()` é o responsavel por retornra o resultado do SELECT."
   ]
  },
  {
   "cell_type": "code",
   "execution_count": null,
   "metadata": {},
   "outputs": [],
   "source": [
    "import sqlite3\n",
    "\n",
    "conn = sqlite3.connect('clientes.db')\n",
    "cursor = conn.cursor()\n",
    "\n",
    "# lendo os dados\n",
    "cursor.execute(\"\"\"\n",
    "SELECT * FROM clientes;\n",
    "\"\"\")\n",
    "\n",
    "for linha in cursor.fetchall():\n",
    "    print(linha)\n",
    "\n",
    "conn.close()"
   ]
  },
  {
   "cell_type": "markdown",
   "metadata": {},
   "source": [
    "Depois de executar, temos o seguinte resultado:"
   ]
  },
  {
   "cell_type": "code",
   "execution_count": null,
   "metadata": {},
   "outputs": [],
   "source": [
    "(1, 'Regis', 35, '00000000000', 'regis@email.com', '11-98765-4321', 'Sao Paulo', 'SP', '2014-06-08')\n",
    "(2, 'Aloisio', 87, '11111111111', 'aloisio@email.com', '98765-4322', 'Porto Alegre', 'RS', '2014-06-09')\n",
    "(3, 'Bruna', 21, '22222222222', 'bruna@email.com', '21-98765-4323', 'Rio de Janeiro', 'RJ', '2014-06-09')\n",
    "(4, 'Matheus', 19, '33333333333', 'matheus@email.com', '11-98765-4324', 'Campinas', 'SP', '2014-06-08')\n",
    "(5, 'Fabio', 23, '44444444444', 'fabio@email.com', '1234-5678', 'Belo Horizonte', 'MG', '2014-06-09')\n",
    "(6, 'Joao', 21, '55555555555', 'joao@email.com', '11-1234-5600', 'Sao Paulo', 'SP', '2014-06-09')\n",
    "(7, 'Xavier', 24, '66666666666', 'xavier@email.com', '12-1234-5601', 'Campinas', 'SP', '2014-06-10')\n",
    "(8, 'Regis', 35, '30020030011', 'regis@email.com', '11 9750-0000', 'Sao Paulo', 'SP', '2014-06-15')"
   ]
  },
  {
   "cell_type": "markdown",
   "metadata": {},
   "source": [
    "### Alterando os dados"
   ]
  },
  {
   "cell_type": "markdown",
   "metadata": {},
   "source": [
    "Observe o uso das variáveis `id_cliente` onde definimos o id a ser alterado, novo_fone e novo_criado_em usados como parâmetro para alterar os dados. Neste caso, salvamos as alterações com o método `commit()`."
   ]
  },
  {
   "cell_type": "code",
   "execution_count": null,
   "metadata": {},
   "outputs": [],
   "source": [
    "import sqlite3\n",
    "\n",
    "conn = sqlite3.connect('clientes.db')\n",
    "cursor = conn.cursor()\n",
    "\n",
    "id_cliente = 1\n",
    "novo_fone = '11-1000-2014'\n",
    "novo_criado_em = '2014-06-11'\n",
    "\n",
    "# alterando os dados da tabela\n",
    "cursor.execute(\"\"\"\n",
    "UPDATE clientes\n",
    "SET fone = ?, criado_em = ?\n",
    "WHERE id = ?\n",
    "\"\"\", (novo_fone, novo_criado_em, id_cliente))\n",
    "\n",
    "conn.commit()\n",
    "\n",
    "print('Dados atualizados com sucesso.')\n",
    "\n",
    "conn.close()"
   ]
  },
  {
   "cell_type": "markdown",
   "metadata": {},
   "source": [
    "Com isso atualizaremos os dados registrados conforme seu `id`."
   ]
  },
  {
   "cell_type": "markdown",
   "metadata": {},
   "source": [
    "### Deletando os dados"
   ]
  },
  {
   "cell_type": "markdown",
   "metadata": {},
   "source": [
    "Vamos excluir um registro pelo seu `id`.\n",
    "\n"
   ]
  },
  {
   "cell_type": "code",
   "execution_count": null,
   "metadata": {},
   "outputs": [],
   "source": [
    "import sqlite3\n",
    "\n",
    "conn = sqlite3.connect('clientes.db')\n",
    "cursor = conn.cursor()\n",
    "\n",
    "id_cliente = 8\n",
    "\n",
    "# excluindo um registro da tabela\n",
    "cursor.execute(\"\"\"\n",
    "DELETE FROM clientes\n",
    "WHERE id = ?\n",
    "\"\"\", (id_cliente,))\n",
    "\n",
    "conn.commit()\n",
    "\n",
    "print('Registro excluido com sucesso.')\n",
    "\n",
    "conn.close()"
   ]
  },
  {
   "cell_type": "markdown",
   "metadata": {},
   "source": [
    "### Adicionando uma nova coluna"
   ]
  },
  {
   "cell_type": "markdown",
   "metadata": {},
   "source": [
    "Para inserir uma nova coluna na tabela usamos o comando SQL `ALTER TABLE`."
   ]
  },
  {
   "cell_type": "code",
   "execution_count": null,
   "metadata": {},
   "outputs": [],
   "source": [
    "import sqlite3\n",
    "\n",
    "conn = sqlite3.connect('clientes.db')\n",
    "cursor = conn.cursor()\n",
    "\n",
    "# adicionando uma nova coluna na tabela clientes\n",
    "cursor.execute(\"\"\"\n",
    "ALTER TABLE clientes\n",
    "ADD COLUMN bloqueado BOOLEAN;\n",
    "\"\"\")\n",
    "\n",
    "conn.commit()\n",
    "\n",
    "print('Novo campo adicionado com sucesso.')\n",
    "\n",
    "conn.close()"
   ]
  },
  {
   "cell_type": "markdown",
   "metadata": {},
   "source": [
    "### Lendo as informações do banco de dados\n"
   ]
  },
  {
   "cell_type": "markdown",
   "metadata": {},
   "source": [
    "Para ler as informações da tabela usamos o comando PRAGMA.\n",
    "\n",
    "Para listar as tabelas do banco usamos o comando SELECT name FROM sqlite_master ....\n",
    "\n",
    "Para ler o schema da tabela usamos o comando SELECT sql FROM sqlite_master ...."
   ]
  },
  {
   "cell_type": "code",
   "execution_count": null,
   "metadata": {},
   "outputs": [],
   "source": [
    "import sqlite3\n",
    "\n",
    "conn = sqlite3.connect('clientes.db')\n",
    "cursor = conn.cursor()\n",
    "nome_tabela = 'clientes'\n",
    "\n",
    "# obtendo informações da tabela\n",
    "cursor.execute('PRAGMA table_info({})'.format(nome_tabela))\n",
    "\n",
    "colunas = [tupla[1] for tupla in cursor.fetchall()]\n",
    "print('Colunas:', colunas)\n",
    "# ou\n",
    "# for coluna in colunas:\n",
    "#    print(coluna)\n",
    "\n",
    "# listando as tabelas do bd\n",
    "cursor.execute(\"\"\"\n",
    "SELECT name FROM sqlite_master WHERE type='table' ORDER BY name\n",
    "\"\"\")\n",
    "\n",
    "print('Tabelas:')\n",
    "for tabela in cursor.fetchall():\n",
    "    print(\"%s\" % (tabela))\n",
    "\n",
    "# obtendo o schema da tabela\n",
    "cursor.execute(\"\"\"\n",
    "SELECT sql FROM sqlite_master WHERE type='table' AND name=?\n",
    "\"\"\", (nome_tabela,))\n",
    "\n",
    "print('Schema:')\n",
    "for schema in cursor.fetchall():\n",
    "    print(\"%s\" % (schema))\n",
    "\n",
    "conn.close()"
   ]
  },
  {
   "cell_type": "markdown",
   "metadata": {},
   "source": [
    "Eis o resultado:\n"
   ]
  },
  {
   "cell_type": "code",
   "execution_count": null,
   "metadata": {},
   "outputs": [],
   "source": [
    "Colunas: ['id', 'nome', 'idade', 'cpf', 'email', 'fone', 'cidade', 'uf', 'criado_em', 'bloqueado']\n",
    "Tabelas:\n",
    "clientes\n",
    "sqlite_sequence\n",
    "Schema:\n",
    "CREATE TABLE clientes (\n",
    "        id INTEGER NOT NULL PRIMARY KEY AUTOINCREMENT,\n",
    "        nome TEXT NOT NULL,\n",
    "        idade INTEGER,\n",
    "        cpf     VARCHAR(11) NOT NULL,\n",
    "        email TEXT NOT NULL,\n",
    "        fone TEXT,\n",
    "        cidade TEXT,\n",
    "        uf VARCHAR(2) NOT NULL,\n",
    "        criado_em DATE NOT NULL\n",
    ", bloqueado BOOLEAN)"
   ]
  },
  {
   "cell_type": "markdown",
   "metadata": {},
   "source": [
    "### Fazendo backup do banco de dados (exportando dados)"
   ]
  },
  {
   "cell_type": "markdown",
   "metadata": {},
   "source": [
    "Talvez seja este o item mais importante: `backup`. Observe o uso da biblioteca `io` que salva os dados num arquivo externo através do método `write`, e o método `iterdump()` que exporta a estrutura e dados da tabela para o arquivo externo."
   ]
  },
  {
   "cell_type": "code",
   "execution_count": null,
   "metadata": {},
   "outputs": [],
   "source": [
    "import sqlite3\n",
    "import io\n",
    "\n",
    "conn = sqlite3.connect('clientes.db')\n",
    "\n",
    "with io.open('clientes_dump.sql', 'w') as f:\n",
    "    for linha in conn.iterdump():\n",
    "        f.write('%s\\n' % linha)\n",
    "\n",
    "print('Backup realizado com sucesso.')\n",
    "print('Salvo como clientes_dump.sql')\n",
    "\n",
    "conn.close()"
   ]
  },
  {
   "cell_type": "markdown",
   "metadata": {},
   "source": [
    "### Recuperando o backup"
   ]
  },
  {
   "cell_type": "markdown",
   "metadata": {},
   "source": [
    "Criaremos um novo banco de dados e iremos reconstruir a tabela e os dados com o arquivo clientes_dump.sql. O método `read()` lê o conteúdo do arquivo clientes_dump.sql e o método `executescript()` executa as instruções SQL escritas neste arquivo."
   ]
  },
  {
   "cell_type": "code",
   "execution_count": null,
   "metadata": {},
   "outputs": [],
   "source": [
    "import sqlite3\n",
    "import io\n",
    "\n",
    "conn = sqlite3.connect('clientes_recuperado.db')\n",
    "cursor = conn.cursor()\n",
    "\n",
    "f = io.open('clientes_dump.sql', 'r')\n",
    "sql = f.read()\n",
    "cursor.executescript(sql)\n",
    "\n",
    "print('Banco de dados recuperado com sucesso.')\n",
    "print('Salvo como clientes_recuperado.db')\n",
    "\n",
    "conn.close()"
   ]
  }
 ],
 "metadata": {
  "kernelspec": {
   "display_name": "Python 3",
   "language": "python",
   "name": "python3"
  },
  "language_info": {
   "codemirror_mode": {
    "name": "ipython",
    "version": 3
   },
   "file_extension": ".py",
   "mimetype": "text/x-python",
   "name": "python",
   "nbconvert_exporter": "python",
   "pygments_lexer": "ipython3",
   "version": "3.6.5"
  }
 },
 "nbformat": 4,
 "nbformat_minor": 2
}
