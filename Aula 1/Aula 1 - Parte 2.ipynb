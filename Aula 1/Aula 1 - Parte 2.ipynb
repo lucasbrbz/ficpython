{
 "cells": [
  {
   "cell_type": "markdown",
   "metadata": {},
   "source": [
    "#  Introdução ao Python\n",
    "## Professor: Luiz Ferreira"
   ]
  },
  {
   "cell_type": "markdown",
   "metadata": {},
   "source": [
    "## Módulo 1\n",
    "\n",
    "### Introdução ao Python"
   ]
  },
  {
   "cell_type": "markdown",
   "metadata": {},
   "source": [
    "_____________"
   ]
  },
  {
   "cell_type": "markdown",
   "metadata": {},
   "source": [
    "# Sintaxe "
   ]
  },
  {
   "cell_type": "markdown",
   "metadata": {},
   "source": [
    "Resumindo -> ``TAB`` , ``\\``, ``#``"
   ]
  },
  {
   "cell_type": "markdown",
   "metadata": {},
   "source": [
    "Python prima a simplicidade, lembre-se:"
   ]
  },
  {
   "cell_type": "code",
   "execution_count": null,
   "metadata": {},
   "outputs": [],
   "source": [
    "import this"
   ]
  },
  {
   "cell_type": "markdown",
   "metadata": {},
   "source": [
    "Um programa feito em Python é constituído de linhas, que podem continuar nas linhas seguintes, pelo uso do caractere de barra invertida ao final da linha ou parênteses, colchetes ou chaves, em expressões que utilizam tais caracteres.\n",
    "Já os comentários ficam por conta do ``#``, que após ser inserido, manda no restante da linha.\n",
    "\n",
    "#### Cuidado: ``!#`` faz outra coisa, hein!"
   ]
  },
  {
   "cell_type": "markdown",
   "metadata": {},
   "source": [
    "São os chamados comentários funcionais, onde podemos definir configurações e características do nosso projeto.\n",
    "Temos exemplos como:"
   ]
  },
  {
   "cell_type": "code",
   "execution_count": 32,
   "metadata": {},
   "outputs": [
    {
     "name": "stdout",
     "output_type": "stream",
     "text": [
      "The string is: pythön!\n",
      "The encoded version is: b'pyth\\xc3\\xb6n!'\n",
      "The encoded version is: b'pyth\\xf6n!'\n",
      "The encoded version is: b'\\xff\\xfe\\x00\\x00p\\x00\\x00\\x00y\\x00\\x00\\x00t\\x00\\x00\\x00h\\x00\\x00\\x00\\xf6\\x00\\x00\\x00n\\x00\\x00\\x00!\\x00\\x00\\x00'\n"
     ]
    }
   ],
   "source": [
    "# -*- coding: utf-8 -*-\n",
    "\n",
    "\n",
    "string = 'pythön!'\n",
    "print('The string is:', string)\n",
    "\n",
    "string_utf8 = string.encode(\"utf-8\")\n",
    "print('The encoded version is:', string_utf8)\n",
    "\n",
    "string_iso = string.encode(\"iso_8859_1\", \"strict\")\n",
    "print('The encoded version is:', string_utf16)\n",
    "\n",
    "string_utf32 = string.encode(\"utf-32\", \"strict\")\n",
    "print('The encoded version is:', string_utf32)\n"
   ]
  },
  {
   "cell_type": "markdown",
   "metadata": {},
   "source": [
    "Podemos quebrar linhas no Python, certo?"
   ]
  },
  {
   "cell_type": "code",
   "execution_count": 38,
   "metadata": {},
   "outputs": [
    {
     "ename": "TypeError",
     "evalue": "must be str, not float",
     "output_type": "error",
     "traceback": [
      "\u001b[0;31m---------------------------------------------------------------------------\u001b[0m",
      "\u001b[0;31mTypeError\u001b[0m                                 Traceback (most recent call last)",
      "\u001b[0;32m<ipython-input-38-2f8a1e9b8a43>\u001b[0m in \u001b[0;36m<module>\u001b[0;34m()\u001b[0m\n\u001b[1;32m      3\u001b[0m \u001b[0mquebrado\u001b[0m \u001b[0;34m=\u001b[0m \u001b[0;36m7\u001b[0m \u001b[0;34m*\u001b[0m \u001b[0;36m3\u001b[0m \u001b[0;34m+\u001b[0m \u001b[0;36m5\u001b[0m \u001b[0;34m/\u001b[0m \u001b[0;36m2\u001b[0m\u001b[0;34m\u001b[0m\u001b[0m\n\u001b[1;32m      4\u001b[0m \u001b[0;34m\u001b[0m\u001b[0m\n\u001b[0;32m----> 5\u001b[0;31m \u001b[0mprint\u001b[0m\u001b[0;34m(\u001b[0m\u001b[0;34m\"Temos o cálculo inteiro: \"\u001b[0m \u001b[0;34m+\u001b[0m \u001b[0minteiro\u001b[0m \u001b[0;34m+\u001b[0m \u001b[0;34m\". E o quebrado: \"\u001b[0m\u001b[0;34m,\u001b[0m \u001b[0mquebrado\u001b[0m\u001b[0;34m)\u001b[0m\u001b[0;34m\u001b[0m\u001b[0m\n\u001b[0m",
      "\u001b[0;31mTypeError\u001b[0m: must be str, not float"
     ]
    }
   ],
   "source": [
    "inteiro = 7 * 3 + 5 / 2\n",
    "\n",
    "quebrado = 7 * 3 + \\\n",
    "5 / 2\n",
    "\n",
    "print(\"Temos o cálculo inteiro: \" + inteiro + \". E o quebrado: \", quebrado)"
   ]
  },
  {
   "cell_type": "code",
   "execution_count": 41,
   "metadata": {},
   "outputs": [
    {
     "ename": "TypeError",
     "evalue": "must be str, not list",
     "output_type": "error",
     "traceback": [
      "\u001b[0;31m---------------------------------------------------------------------------\u001b[0m",
      "\u001b[0;31mTypeError\u001b[0m                                 Traceback (most recent call last)",
      "\u001b[0;32m<ipython-input-41-85b771674511>\u001b[0m in \u001b[0;36m<module>\u001b[0;34m()\u001b[0m\n\u001b[1;32m      2\u001b[0m 'd', 'e']\n\u001b[1;32m      3\u001b[0m \u001b[0;34m\u001b[0m\u001b[0m\n\u001b[0;32m----> 4\u001b[0;31m \u001b[0mprint\u001b[0m\u001b[0;34m(\u001b[0m\u001b[0;34m\"Desse jeito da certo! Veja só: \"\u001b[0m \u001b[0;34m+\u001b[0m \u001b[0mstring\u001b[0m\u001b[0;34m)\u001b[0m\u001b[0;34m\u001b[0m\u001b[0m\n\u001b[0m",
      "\u001b[0;31mTypeError\u001b[0m: must be str, not list"
     ]
    }
   ],
   "source": [
    "string = ['a', 'b', 'c', \n",
    "'d', 'e']\n",
    "\n",
    "print(\"Desse jeito da certo! Veja só: \" + string)"
   ]
  },
  {
   "cell_type": "code",
   "execution_count": null,
   "metadata": {},
   "outputs": [],
   "source": [
    "intervalo = range(1,\n",
    "11)\n",
    "\n",
    "print(\"E a virgula dentro de parenteses? \" , intervalo)"
   ]
  },
  {
   "cell_type": "markdown",
   "metadata": {},
   "source": [
    "### Blocos"
   ]
  },
  {
   "cell_type": "markdown",
   "metadata": {},
   "source": [
    "Em Python, as porções de códigos são chamados de blocos, esses blocos de código são delimitados pelo uso de, vejam só, ``indentação``, que deve ser constante no bloco de código, porém é considerada uma boa prática manter a consistência no projeto todo e evitar a mistura de tabulações e espaços.\n",
    "\n",
    "A linha anterior ao bloco sempre termina com ``dois pontos (:)`` e representa uma estrutura de controle da linguagem ou uma declaração de uma nova estrutura (uma função, por exemplo)."
   ]
  },
  {
   "cell_type": "code",
   "execution_count": 55,
   "metadata": {},
   "outputs": [
    {
     "name": "stdout",
     "output_type": "stream",
     "text": [
      "234 / 3 = 78.0\n",
      "654 / 3 = 218.0\n",
      "378 / 3 = 126.0\n",
      "798 / 3 = 266.0\n"
     ]
    }
   ],
   "source": [
    "# Para i na lista 234, 654, 378, 798:\n",
    "for i in [234, 654, 378, 798]:\n",
    "    # Se o resto dividindo por 3 for igual a zero:\n",
    "    if i % 3 == 0:\n",
    "        # Imprime...\n",
    "        print (i, '/ 3 =', i / 3)"
   ]
  },
  {
   "cell_type": "markdown",
   "metadata": {},
   "source": [
    "### Lembre-se SEMPRE dessa imagem"
   ]
  },
  {
   "cell_type": "markdown",
   "metadata": {},
   "source": [
    "![Alt text](http://nbviewer.jupyter.org/github/ricardoduarte/python-para-desenvolvedores/blob/master/Capitulo2/bpypd_diags2.png)"
   ]
  }
 ],
 "metadata": {
  "kernelspec": {
   "display_name": "Python 3",
   "language": "python",
   "name": "python3"
  },
  "language_info": {
   "codemirror_mode": {
    "name": "ipython",
    "version": 3
   },
   "file_extension": ".py",
   "mimetype": "text/x-python",
   "name": "python",
   "nbconvert_exporter": "python",
   "pygments_lexer": "ipython3",
   "version": "3.6.5"
  }
 },
 "nbformat": 4,
 "nbformat_minor": 2
}
