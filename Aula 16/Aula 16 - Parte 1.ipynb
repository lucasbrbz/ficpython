{
 "cells": [
  {
   "cell_type": "markdown",
   "metadata": {},
   "source": [
    "#  Introdução ao Python\n",
    "## Professor: Luiz Ferreira"
   ]
  },
  {
   "cell_type": "markdown",
   "metadata": {},
   "source": [
    "## Módulo 4\n",
    "\n",
    "### Python para Dados"
   ]
  },
  {
   "cell_type": "markdown",
   "metadata": {},
   "source": [
    "_____________"
   ]
  },
  {
   "cell_type": "markdown",
   "metadata": {},
   "source": [
    "## Trabalhando com Dados da Web"
   ]
  },
  {
   "cell_type": "markdown",
   "metadata": {},
   "source": [
    "### Você conhece o Twitter?"
   ]
  },
  {
   "cell_type": "markdown",
   "metadata": {},
   "source": [
    "Twitter é uma rede social e um servidor para microblogging, que permite aos usuários enviar e receber atualizações pessoais de outros contatos (em textos de até 280 caracteres, conhecidos como \"tweets\"), por meio do website do serviço, por SMS e por softwares específicos de gerenciamento.\n",
    "\n",
    "O twitter foi criado em Março de 2006 por Jack Dorsey, Evan Williams, Biz Stone e Noah Glass e foi lançado em Julho de 2006 nos EUA. A ideia inicial dos fundadores era que o Twitter fosse uma espécie de \"SMS da internet\" com a limitação de caracteres de uma mensagem de celular. Inicialmente chamada Twttr (sem vogais), o nome da rede social, em inglês, significa gorjear. A ideia é que o usuário da rede social está \"piando\" pela internet. Desde sua criação, o Twitter ganhou extensa notabilidade e popularidade por todo mundo. Jack Dorsey é o atual CEO da empresa.\n",
    "\n",
    "![](https://images-na.ssl-images-amazon.com/images/I/31KluT5nBkL.png)\n",
    "\n",
    "### Twitter e Bootstrap\n",
    "\n",
    "Bootstrap é um projeto de código aberto originalmente desenvolvido para o site Twitter, chamado de Twitter Blueprint, desenvolvido por Mark Otto e Jacó Thornton como um instrumento para incentivar a consistência através de ferramentas internas.\n",
    "\n",
    "Antes de Bootstrap, várias bibliotecas foram utilizados para o desenvolvimento de interfaces, gerando inconsistências e um elevado peso de manutenção. De acordo com o desenvolvedor Mark Otto:\n",
    "\n",
    "\"Um grupo super pequeno de desenvolvedores e eu nos reunimos para projetar e construir uma nova ferramenta interna e vi uma oportunidade de fazer algo mais. Através desse processo, nós nos vimos construindo algo muito mais substancial do que outra ferramenta interna. Meses depois, terminamos com uma versão inicial do Bootstrap como forma de documentar e compartilhar padrões comuns de design e ativos dentro da empresa \"\n",
    "\n",
    "Depois de alguns meses de desenvolvimento por um pequeno grupo, muitos desenvolvedores no Twitter começaram a contribuir com o projeto, como parte da Hack Week. Ele foi renomeado como Twitter Blueprint to Bootstrap, e lançado como um projeto de código aberto em 19 de agosto de 2011. Ele continuou a ser mantida por Mark Otto, Jacob Thornton, e um pequeno grupo de desenvolvedores, bem como uma grande comunidade de colaboradores."
   ]
  },
  {
   "cell_type": "markdown",
   "metadata": {},
   "source": [
    "### Nesta aula iremos: \n",
    "\n",
    "- Extrair os dados do Twitter usando tweepy e aprender como lidar com isso usando pandas.\n",
    "- Traçar algumas estatísticas básicas e visualizações com numpy, matplotlib e seaborn.\n",
    "- Fazer uma análise de sentimentos de tweets extraídos (Trump) usando textblob."
   ]
  },
  {
   "cell_type": "markdown",
   "metadata": {},
   "source": [
    "### Vamos precisar de:\n",
    "\n",
    "- Python 2.7 ou 3.6\n",
    "- Numpy: Este é o pacote fundamental para computação científica com Python. Além de seus usos científicos óbvios, o NumPy também pode ser usado como um contêiner multidimensional eficiente de dados genéricos.\n",
    "- Pandas: Esta é uma biblioteca de código aberto que fornece estruturas de dados de alto desempenho e fáceis de usar, além de ferramentas de análise de dados.\n",
    "- Tweepy: Esta é uma biblioteca Python fácil de usar para acessar a API do Twitter.\n",
    "- Matplotlib: Esta é uma biblioteca de plotagem 2D em Python que produz números de qualidade de publicação em uma variedade de formatos impressos e ambientes interativos entre plataformas.\n",
    "- Seaborn : Esta é uma biblioteca de visualização Python baseada no matplotlib. Ele fornece uma interface de alto nível para desenhar gráficos estatísticos atraentes.\n",
    "- Textblob : Esta é uma biblioteca Python para processamento de dados textuais. Ele fornece uma API simples para mergulhar em tarefas comuns de processamento de linguagem natural (NLP).\n",
    "\n",
    "Todos os pacotes podem ser instalados através do comando \"pip\"."
   ]
  },
  {
   "cell_type": "markdown",
   "metadata": {},
   "source": [
    "### Extraindo informações do Twitter (tweepy + pandas)\n",
    "\n",
    "#### Importação de bibliotecas\n",
    "\n",
    "Essa parte é simples, devemos importar as bilbiotecas que iremos utilizar, podemos dividir essas importações em duas partes: as que comandam o processamento dos dados e outra para trabalhar a visualização dos mesmos."
   ]
  },
  {
   "cell_type": "code",
   "execution_count": null,
   "metadata": {},
   "outputs": [],
   "source": [
    "# Importação Geral:\n",
    "import tweepy           # Para consumir a API do Twitter\n",
    "import pandas as pd     # Para manipular dados\n",
    "import numpy as np      # Para computação de números\n",
    "\n",
    "# Para plotagem e visualização:\n",
    "from IPython.display import display\n",
    "import matplotlib.pyplot as plt\n",
    "import seaborn as sns"
   ]
  },
  {
   "cell_type": "markdown",
   "metadata": {},
   "source": [
    "#### Criando um aplicativo do Twitter\n",
    "\n",
    "O Twitter exige um cadastro com especificações do uso de sua API, para uma futura análise e proteção de seus dados, por isso, antes de iniciar a aplicação, deve-se solicitar uma acesso de desenvolvedor ao Twitter para poder realizar a criação de um novo aplicativo.\n",
    "\n",
    "Para isso devemos acessar https://apps.twitter.com. Caso necessite de uma ajuda para a criação dessa conta, recomenda-se seguir o tutorial oficial, disponível [nesse link](https://developer.twitter.com/en/docs/ads/general/guides/getting-started.html).\n",
    "\n",
    "\n",
    "A partir desse aplicativo, o Twitter lhe fornnecerá informações para acessar os seus dados, são elas:\n",
    "\n",
    "- Chave do Consumidor (Chave da API)\n",
    "- Segredo do Consumidor (Segredo da API)\n",
    "- Token de Acesso\n",
    "- Segredo do Token de Acesso\n",
    "\n",
    "Vamos criar um novo arquivo apenas para as chaves, ele deverá se chamar de `credentials`:\n"
   ]
  },
  {
   "cell_type": "code",
   "execution_count": null,
   "metadata": {},
   "outputs": [],
   "source": [
    "# Chaves de acesso à API do Twitter para @user\n",
    "\n",
    "# Consumir:\n",
    "CONSUMER_KEY    = ''\n",
    "CONSUMER_SECRET = ''\n",
    "\n",
    "# Acesso:\n",
    "ACCESS_TOKEN  = ''\n",
    "ACCESS_SECRET = ''"
   ]
  },
  {
   "cell_type": "markdown",
   "metadata": {},
   "source": [
    "Com essas informações podemos consumir a API do Twitter, para isso, criaremos uma função para permitira a autenticação das chaves, vamos adicionar o código abaixo em outra célula de código e executá-la.\n",
    "\n",
    "##### Célula de código\n",
    "\n",
    "Essa característica permite que executemos trechos específicos de um script conforme nossa necessidade, evitando acesso desnecessário a bancos de dados e arquivos, diminuindo o custo computacional da tarefa. No Pycharm devemos instalar um plugin chamado `PyCharm cell mode`, que permitirá executar trechos de códigos que estiverem entre duplas de #, como, por exemplo: \n",
    "\n",
    "##\n",
    "\n",
    "...\n",
    "##"
   ]
  },
  {
   "cell_type": "code",
   "execution_count": null,
   "metadata": {},
   "outputs": [],
   "source": [
    "# Vamos importar nossas chaves:\n",
    "from credentials import *    # Isso irá permitir o uso das chaves\n",
    "\n",
    "# API's setup:\n",
    "def twitter_setup():\n",
    "    \"\"\"\n",
    "    Função necessároa para configurar a API do Twitter para o acesso através de nossas chaves de segurança.\n",
    "    \"\"\"\n",
    "    # Autenticação e acesso utilizando chaves:\n",
    "    auth = tweepy.OAuthHandler(CONSUMER_KEY, CONSUMER_SECRET)\n",
    "    auth.set_access_token(ACCESS_TOKEN, ACCESS_SECRET)\n",
    "\n",
    "    # Retorna a API com os dados:\n",
    "    api = tweepy.API(auth)\n",
    "    return api"
   ]
  },
  {
   "cell_type": "markdown",
   "metadata": {},
   "source": [
    "#### Extração de tweets\n",
    "\n",
    "Agora que criamos a função para configurar a API do Twitter, podemos usar essa função para criar um objeto \"extractor\". Para  isso, vamos usar a função do Tweepy `extractor.user_timeline(screen_name, count)` para extrair do usuário (screen_name) a quantidade de (count) tweets.\n",
    "\n",
    "Podemos trabalhar com qualquer perfil, mas, por curiosidade, vamos escolher o perfil do @DonaldTrump como o usuário para extração de dados para análise.\n",
    "\n",
    "Portanto, para extrairmos os dados vamos utilizar:"
   ]
  },
  {
   "cell_type": "code",
   "execution_count": null,
   "metadata": {},
   "outputs": [],
   "source": [
    "# Vamos criar um objeto extractor\n",
    "extractor = twitter_setup()\n",
    "\n",
    "# Vamos criar uma lista de tweets:\n",
    "tweets = extractor.user_timeline(screen_name=\"realDonaldTrump\", count=200)\n",
    "print(\"Número de tweets extraídos: {}.\\n\".format(len(tweets)))\n",
    "\n",
    "# Vamos imprimir os últimos 5 tweets:\n",
    "print(\"Últimos 5 tweets:\\n\")\n",
    "for tweet in tweets[:5]:\n",
    "    print(tweet.text)\n",
    "    print()"
   ]
  },
  {
   "cell_type": "markdown",
   "metadata": {},
   "source": [
    "Com isso teremos uma saída que contem o número de tweets extraídos e uma lista com os últimos 5 tweets para confirmação das informações extraídas. Temos então um extrator e uma lista chamada tweets com todos os dados para nossa análise."
   ]
  },
  {
   "cell_type": "markdown",
   "metadata": {},
   "source": [
    "#### Criando um DataFrame\n",
    "\n",
    "Para manipularmos os dados dentro de `tweets` devemos construir um DataFrame pandas, esse DataFrame será responsável por deixar nossas atividades muito mais simples.\n",
    "\n",
    "A função `display` do IPython plota uma saída de maneira amigável e o método head de um dataframe nos permite recuperar os primeiros elementos.\n",
    "\n",
    "Então, usando a compeensão da lista do Python:"
   ]
  },
  {
   "cell_type": "code",
   "execution_count": null,
   "metadata": {},
   "outputs": [],
   "source": [
    "# Criando o DataFrame:\n",
    "data = pd.DataFrame(data=[tweet.text for tweet in tweets], columns=['Tweets'])\n",
    "\n",
    "# Exibindo os 10 primeiros elementos do DataFrame\n",
    "display(data.head(10))"
   ]
  },
  {
   "cell_type": "markdown",
   "metadata": {},
   "source": [
    "Podemos ver os métodos disponibilizados para cada tweet através do Tweepy:"
   ]
  },
  {
   "cell_type": "code",
   "execution_count": null,
   "metadata": {},
   "outputs": [],
   "source": [
    "# Métodos internos de um único objeto tweet:\n",
    "print(dir(tweets[0]))"
   ]
  },
  {
   "cell_type": "markdown",
   "metadata": {},
   "source": [
    "A parte mais interessante é a quantidade de metadados contidos em um único tweet. Se quisermos obter dados como a data de criação ou a origem da criação, podemos acessar as informações através desses atributos."
   ]
  },
  {
   "cell_type": "code",
   "execution_count": null,
   "metadata": {},
   "outputs": [],
   "source": [
    "# Imprimindo informações do primeiro tweet coletado:\n",
    "print(tweets[0].id)\n",
    "print(tweets[0].created_at)\n",
    "print(tweets[0].source)\n",
    "print(tweets[0].favorite_count)\n",
    "print(tweets[0].retweet_count)\n",
    "print(tweets[0].geo)\n",
    "print(tweets[0].coordinates)\n",
    "print(tweets[0].entities)"
   ]
  },
  {
   "cell_type": "markdown",
   "metadata": {},
   "source": [
    "Agora podemos solicitar os dados relevantes e adicioná-los ao nosso dataframe."
   ]
  },
  {
   "cell_type": "markdown",
   "metadata": {},
   "source": [
    "#### Adicionando informações relevantes ao nosso DataFrame\n",
    "\n",
    "Como vimos, podemos obter muitos dados de um único tweet. Mas nem todos esses dados são úteis para todas as situações. No nosso caso, vamos adicionar alguns dados ao nosso dataframe, para isso, usaremos a compreensão da lista Pythons e uma nova coluna será adicionada ao dataframe simplesmente adicionando o nome do conteúdo entre colchetes e atribuindo o conteúdo. O código vai se parecer com:"
   ]
  },
  {
   "cell_type": "code",
   "execution_count": null,
   "metadata": {},
   "outputs": [],
   "source": [
    "# Adicionando dados relevantes ao DataFrame\n",
    "data['len']  = np.array([len(tweet.text) for tweet in tweets])\n",
    "data['ID']   = np.array([tweet.id for tweet in tweets])\n",
    "data['Date'] = np.array([tweet.created_at for tweet in tweets])\n",
    "data['Source'] = np.array([tweet.source for tweet in tweets])\n",
    "data['Likes']  = np.array([tweet.favorite_count for tweet in tweets])\n",
    "data['RTs']    = np.array([tweet.retweet_count for tweet in tweets])"
   ]
  },
  {
   "cell_type": "markdown",
   "metadata": {},
   "source": [
    "E para exibir novamente as informações coletadas basta invocar a função `display`:"
   ]
  },
  {
   "cell_type": "code",
   "execution_count": null,
   "metadata": {},
   "outputs": [],
   "source": [
    "# Exibindo os 10 primeiros elementos do DataFrame:\n",
    "display(data.head(10))"
   ]
  },
  {
   "cell_type": "markdown",
   "metadata": {},
   "source": [
    "Agora que extraímos e temos os dados de uma maneira ordenada e fácil de manusear, estamos prontos para fazer um pouco mais de manipulação para visualizar alguns gráficos e coletar alguns dados estatísticos. A primeira parte está concluída."
   ]
  }
 ],
 "metadata": {
  "kernelspec": {
   "display_name": "Python 3",
   "language": "python",
   "name": "python3"
  },
  "language_info": {
   "codemirror_mode": {
    "name": "ipython",
    "version": 3
   },
   "file_extension": ".py",
   "mimetype": "text/x-python",
   "name": "python",
   "nbconvert_exporter": "python",
   "pygments_lexer": "ipython3",
   "version": "3.6.6"
  }
 },
 "nbformat": 4,
 "nbformat_minor": 2
}
