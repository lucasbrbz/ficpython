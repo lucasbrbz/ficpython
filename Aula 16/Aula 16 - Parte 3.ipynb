{
 "cells": [
  {
   "cell_type": "markdown",
   "metadata": {},
   "source": [
    "#  Introdução ao Python\n",
    "## Professor: Luiz Ferreira"
   ]
  },
  {
   "cell_type": "markdown",
   "metadata": {},
   "source": [
    "## Módulo 4\n",
    "\n",
    "### Python para Dados"
   ]
  },
  {
   "cell_type": "markdown",
   "metadata": {},
   "source": [
    "_____________"
   ]
  },
  {
   "cell_type": "markdown",
   "metadata": {},
   "source": [
    "## Trabalhando com Dados da Web"
   ]
  },
  {
   "cell_type": "markdown",
   "metadata": {},
   "source": [
    "### Análise de sentimentos"
   ]
  },
  {
   "cell_type": "markdown",
   "metadata": {},
   "source": [
    "#### Importando textblob\n",
    "\n",
    "Como mencionamos no início deste post, textblob nos permitirá fazer análises de sentimentos de uma maneira muito simples. Também usaremos a rebiblioteca do Python, que é usada para trabalhar com expressões regulares . Para isso, fornecerei duas funções de utilitário para: \n",
    "\n",
    "a) limpar o texto (o que significa que qualquer símbolo distinto de um valor alfanumérico será remapeado em um novo que satisfaça essa condição) \n",
    "\n",
    "b) criar um classificador para analisar o polaridade de cada tweet após a limpeza do texto. Não vou explicar a maneira específica pela qual a função que limpa funciona, pois seria estendida e poderia ser melhor entendida na documentação oficial de `re`."
   ]
  },
  {
   "cell_type": "code",
   "execution_count": null,
   "metadata": {},
   "outputs": [],
   "source": [
    "from textblob import TextBlob\n",
    "import re\n",
    "\n",
    "def clean_tweet(tweet):\n",
    "    '''\n",
    "    Função utilizada para limpar o texto em um tweet removendo links e caracteres especiais utilizando regex.\n",
    "    '''\n",
    "    return ' '.join(re.sub(\"(@[A-Za-z0-9]+)|([^0-9A-Za-z \\t])|(\\w+:\\/\\/\\S+)\", \" \", tweet).split())\n",
    "\n",
    "def analize_sentiment(tweet):\n",
    "    '''\n",
    "    Função utilizada para classificar a polaridade de um tweet usando textblob.\n",
    "    '''\n",
    "    analysis = TextBlob(clean_tweet(tweet))\n",
    "    if analysis.sentiment.polarity > 0:\n",
    "        return 1\n",
    "    elif analysis.sentiment.polarity == 0:\n",
    "        return 0\n",
    "    else:\n",
    "        return -1"
   ]
  },
  {
   "cell_type": "markdown",
   "metadata": {},
   "source": [
    "A maneira como funciona o textblob é já fornecer um analisador treinado (legal, certo?). O Textblob pode trabalhar com diferentes modelos de aprendizado de máquina usados no processamento de linguagem natural . Se você quiser treinar seu próprio classificador (ou pelo menos verificar como ele funciona), fique à vontade para verificar o seguinte [link](https://textblob.readthedocs.io/en/dev/classifiers.html). Esse classificador poderá retornar conteúdo não muito relevante, já que estamos trabalhando com um modelo pré-treinado (para o qual não usamos os dados que foram usados no treinamento).\n",
    "\n",
    "De qualquer forma, voltando ao código, vamos apenas adicionar uma coluna extra aos nossos dados. Esta coluna irá conter a análise de sentimento e podemos traçar o dataframe para ver a atualização:"
   ]
  },
  {
   "cell_type": "code",
   "execution_count": null,
   "metadata": {},
   "outputs": [],
   "source": [
    "# Cria a coluna com o resultado da análise:\n",
    "data['SA'] = np.array([ analize_sentiment(tweet) for tweet in data['Tweets'] ])\n",
    "\n",
    "# Exibe o dataframe atualizado com uma nova coluna\n",
    "display(data.head(10))"
   ]
  },
  {
   "cell_type": "markdown",
   "metadata": {},
   "source": [
    "Como podemos ver, a última coluna contém a análise de sentimento (SA). Agora só precisamos verificar os resultados.\n",
    "\n",
    "#### Analisando os resultados\n",
    "\n",
    "Para ter uma maneira simples de verificar os resultados, vamos contar o número de tweets neutros, positivos e negativos e extrair as porcentagens."
   ]
  },
  {
   "cell_type": "code",
   "execution_count": null,
   "metadata": {},
   "outputs": [],
   "source": [
    "# Construindo listas com tweets classificados:\n",
    "\n",
    "pos_tweets = [ tweet for index, tweet in enumerate(data['Tweets']) if data['SA'][index] > 0]\n",
    "neu_tweets = [ tweet for index, tweet in enumerate(data['Tweets']) if data['SA'][index] == 0]\n",
    "neg_tweets = [ tweet for index, tweet in enumerate(data['Tweets']) if data['SA'][index] < 0]"
   ]
  },
  {
   "cell_type": "markdown",
   "metadata": {},
   "source": [
    "Agora que temos as listas, apenas imprimimos as porcentagens:\n",
    "\n"
   ]
  },
  {
   "cell_type": "code",
   "execution_count": null,
   "metadata": {},
   "outputs": [],
   "source": [
    "# Imprimindo porcentagens:\n",
    "\n",
    "print(\"Percentage of positive tweets: {}%\".format(len(pos_tweets)*100/len(data['Tweets'])))\n",
    "print(\"Percentage of neutral tweets: {}%\".format(len(neu_tweets)*100/len(data['Tweets'])))\n",
    "print(\"Percentage de negative tweets: {}%\".format(len(neg_tweets)*100/len(data['Tweets'])))"
   ]
  },
  {
   "cell_type": "markdown",
   "metadata": {},
   "source": [
    "Temos que considerar que estamos trabalhando apenas com os 200 tweets mais recentes de D. Trump. Para resultados mais precisos, podemos considerar mais tweets. Uma coisa interessante (um convite para os leitores) é analisar a polaridade dos tweets de diferentes fontes, pode ser determinístico que, considerando apenas os tweets de uma fonte, a polaridade resultaria mais positiva / negativa. De qualquer forma, espero que isso tenha resultado interessante.\n",
    "\n",
    "Como vimos, podemos extrair, manipular, visualizar e analisar dados de maneira muito simples com o Python. Espero que isso deixe alguma incerteza no leitor, para uma maior exploração usando essas ferramentas."
   ]
  }
 ],
 "metadata": {
  "kernelspec": {
   "display_name": "Python 3",
   "language": "python",
   "name": "python3"
  },
  "language_info": {
   "codemirror_mode": {
    "name": "ipython",
    "version": 3
   },
   "file_extension": ".py",
   "mimetype": "text/x-python",
   "name": "python",
   "nbconvert_exporter": "python",
   "pygments_lexer": "ipython3",
   "version": "3.6.6"
  }
 },
 "nbformat": 4,
 "nbformat_minor": 2
}
