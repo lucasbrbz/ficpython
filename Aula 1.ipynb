{
 "cells": [
  {
   "cell_type": "markdown",
   "metadata": {},
   "source": [
    "#  Introdução ao Python\n",
    "## Professor: Luiz Ferreira"
   ]
  },
  {
   "cell_type": "markdown",
   "metadata": {},
   "source": [
    "### Contato: luiz.ferreira@outlook.com \n",
    "### Instagram: [@luizsferreira](http://www.instagram.com/luizsferreira)"
   ]
  },
  {
   "cell_type": "markdown",
   "metadata": {},
   "source": [
    "_____________"
   ]
  },
  {
   "cell_type": "markdown",
   "metadata": {},
   "source": [
    "## Módulo 1\n",
    "\n",
    "### Introdução ao Python"
   ]
  },
  {
   "cell_type": "markdown",
   "metadata": {},
   "source": [
    "[Python](http://www.python.org) é uma linguagem de altíssimo nível orientada a objeto, interpretada, de tipagem dinâmica e forte."
   ]
  },
  {
   "cell_type": "markdown",
   "metadata": {},
   "source": [
    "Tipagem dinâmica: Quanto aos dados e sua leitura sobre a linguagem de programação, variáveis podem receber qualquer tipo de valor. Verificando, sempre, qual tipo de dado está sendo requisitado, não necessita de definição do tipo de variável, essa verificação é realizada em tempo de execução, executada por uma infraestrutura auxiliar, geralmente, chamada de runtime. Checagem do tipo de dados inseridos pelo usuário, por exemplo, é uma preocupação do programador."
   ]
  },
  {
   "cell_type": "code",
   "execution_count": null,
   "metadata": {},
   "outputs": [],
   "source": [
    "dinamicamente = ['python', 'php']\n",
    "estaticamente = ['c', 'c++', 'java']\n",
    "\n",
    "print(\"Linguagens de tipagem dinâmica: \")\n",
    "for dinamica in dinamicamente: print (dinamica)\n",
    "print(\"----------------------------------------------\")\n",
    "print(\"Linguagens de tipagem estática: \")\n",
    "for estatica in estaticamente: print (estatica)\n",
    "    \n",
    "print(\"----------------------------------------------\")\n",
    "print(\"Variável impressa como string:\")\n",
    "x = \"5\"\n",
    "print(x)\n",
    "print(\"Variável impressa como int:\")\n",
    "x = 5\n",
    "print(x)"
   ]
  },
  {
   "cell_type": "markdown",
   "metadata": {},
   "source": [
    "Forte: Uma linguagem fortemente tipada exige que o usuário defina o tipo de sua variável, pois, em tempo de execução as mesmas necessitam dessa especificação, porém, não é somente isso. Como vimos, Python é uma linguagem que permite o dinamismo, mas ela é uma linguagem fortemente tipada, pois ela não permite que diversas operações sejam executadas com variáveis de tipos diferentes.\n",
    "\n",
    "Fraca: Uma linguagem fracamente tipada não exige a especificação do tipo da variável e também realiza operações convertendo tipos, essa conversão muda de acordo com a linguagem. PHP e Javascript são tipos de linguagem fracamente tipada, ao tentar somar uma variável int com uma string, ele converterá tudo para int e somará sem acusar nenhum erro.\n"
   ]
  },
  {
   "cell_type": "code",
   "execution_count": null,
   "metadata": {},
   "outputs": [],
   "source": [
    "5 + \"python\""
   ]
  },
  {
   "cell_type": "code",
   "execution_count": null,
   "metadata": {},
   "outputs": [],
   "source": [
    "5+5"
   ]
  },
  {
   "cell_type": "code",
   "execution_count": null,
   "metadata": {},
   "outputs": [],
   "source": [
    "\"linguagem\"+\" \"+\"de\"+\" \"+\"programação\"+\" \"+\"python\""
   ]
  },
  {
   "cell_type": "markdown",
   "metadata": {},
   "source": [
    "Interpretada: Para explicar o conceito de interpretada ou de seu antônimo, compilada, podemos recorrer ao dicionário, obteremos algo como:\n",
    "- compilar: verbo transitivo que significa reunir; ajuntar;\n",
    "- interpretar: verbo transitivo que significa tornar claro o sentido de; explicar; traduzir;\n",
    "\n",
    "Percebemos que as definições se complementam e não opõe entre si, o que significa que podemos ter, inclusive, uma linguagem interpretada e compilada. \n",
    "A linguagem compilada, tal como, C ou C++, quando executadas, seu processo de compilação reune todo o código escrito e traduzido diretamente em linguagem de máquina, fazendo com que tenha um formato específico em cada tipo de máquina em que for compilada, mesmo tendo o código idêntico.\n",
    "Já a linguagem interpretada possui uma \"camada extra\" em sua execução que o transforma em uma linguagem intermediária, geralmente conhecida como bytecodes, muito trabalhado em Java, mas também faz parte do C# e Python. A execução gera o arquivo bytecode que permite que uma máquina virtual a execute, independentemente de seu tipo, desde que, a máquina tenha uma instância de seu interpretador esteja instalado."
   ]
  },
  {
   "cell_type": "code",
   "execution_count": null,
   "metadata": {},
   "outputs": [],
   "source": [
    "print(\"Qual a vantagem da compilada?\")\n",
    "print(\"RESPOSTA\")\n",
    "print(\"Qual a vantagem da interpretada?\")\n",
    "print(\"RESPOSTA\")"
   ]
  },
  {
   "cell_type": "markdown",
   "metadata": {},
   "source": [
    "Python possui uma sintaxe `clara e concisa`, o que o torna facilmente interpretada e seu código mais fácil de ser `reutilizado` por diferentes programadores, na internet, você poderá encontrar termos que dizem como Python é uma linguagem muito `produtiva` quando comparada a outras linguagens comuns no mercado.\n",
    "\n",
    "Apesar de ser uma linguagem de `alto nível`, sua curva de aprendizado é pequena.\n",
    "\n",
    "Possui estruturas comuns de linguagem como Java e C#, da mesma forma que possui uma gama elevada de `frameworks` e `módulos` disponibilizados pela comunidade, fazendo com que não necessite de retrabalhos quando trabalhada.\n",
    "\n",
    "`Python` é um software de código aberto com licença GPL mas que permite ser utilizada em produtos proprietários. A organização responsável pela sua manutenção é a [Python Software Foundation](www.python.org/psf). Por ser aberta e de aprendizado relativamente fácil é muito utilizada como linguagem principal em diversas situações, mas também pode ser encontrada como linguagem de script em diversos softwares, dentre os mais conhecidos podemos citar o BrOffice, PostgreeSQL, Blender, GIMP e Inkscape. Também podemos integrá-la a quase todas as linguagens mais conhecidas do mercado, até mesmo as mais antigas, como C e Fortran, o que a faz ser uma linguagem `dinâmica`."
   ]
  }
 ],
 "metadata": {
  "kernelspec": {
   "display_name": "Python 3",
   "language": "python",
   "name": "python3"
  },
  "language_info": {
   "codemirror_mode": {
    "name": "ipython",
    "version": 3
   },
   "file_extension": ".py",
   "mimetype": "text/x-python",
   "name": "python",
   "nbconvert_exporter": "python",
   "pygments_lexer": "ipython3",
   "version": "3.6.5"
  }
 },
 "nbformat": 4,
 "nbformat_minor": 2
}
